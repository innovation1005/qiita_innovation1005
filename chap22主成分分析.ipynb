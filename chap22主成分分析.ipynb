{
 "cells": [
  {
   "cell_type": "markdown",
   "id": "b5f5b1f2",
   "metadata": {},
   "source": [
    "- 平均\n",
    "$n$個の個体があり、それは$p$個の変数で構成されているとします。\n",
    "\n",
    "これらを $n \\times p$行列としてまとめたものを$X$とします。\n",
    "\n",
    "$X=(x_{i,j})_{1\\le i \\le n,1\\le j \\le p}$\n",
    "\n",
    "$\n",
    "X=\n",
    "\\begin{pmatrix}\n",
    "x_{11} & \\cdots & x_{1j} & \\cdots & x_{1p}\\\\\n",
    "\\vdots & \\ddots &        &        & \\vdots \\\\\n",
    "x_{i1} &        & x_{ij} &        & x_{ip} \\\\\n",
    "\\vdots &        &        & \\ddots & \\vdots \\\\\n",
    "x_{n1} & \\cdots & x_{nj} & \\cdots & x_{np}\n",
    "\\end{pmatrix}\n",
    "$\n",
    "\n",
    "行列$X$の行と列の和を明確にするために、ドット記号を使って\n",
    "\n",
    "$x_{\\cdot ,j}=\\sum_{i=1}^n x_{i,j} (j=1,\\cdots,p)$\n",
    "\n",
    "$x_{i,\\cdot}=\\sum_{j=1}^p x_{i,j} (i=1,\\cdots,n)$\n",
    "\n",
    "$\\bar{x}=\\sum_{i=1}\\sum_{j=1}^p x_{i,j} (i,j=1,\\cdots,n)$\n",
    "\n",
    "と書きます。変数$j$に対する$n$個の平均$\\bar{x}_{\\cdot,j}$は$\\bar{x}_{\\cdot,j}=x_{\\cdot,j}/n$となります。\n",
    "\n",
    "- 内積\n",
    "\n",
    "ベクトル$\\textbf{x}=(x_1,\\cdots,x_p)$,$\\textbf{y}=(y_1,\\cdots,y_p) \\in \\mathbb{R}^p$に\n",
    "\n",
    "内積を\n",
    "\n",
    "$$\\langle\\textbf{x},\\textbf{y}\\rangle=\\textbf{x}^T\\textbf{y}=\\sum_{i=1}^p x_iy_i$$\n",
    "\n",
    "で定義します。\n",
    "\n",
    "- 直交行列と固有値\n",
    "\n",
    "直交行列とは$U^TU=UU^T=I_p$となる$p$次正方行列です。$p$次行列$A$を実対称行列とするとき、適当な直交行列$U=(u_1,\\cdots,u_p)$をとれば\n",
    "\n",
    "$U^T A U = diag(\\lambda_1,\\cdots,\\lambda_p)$\n",
    "\n",
    "この式に左から$U$を掛けると$AU=Udiag(\\lambda_1,\\cdots,\\lambda_p)$となり、固有値問題\n",
    "\n",
    "$$ A \\textbf{u}_j=\\lambda_j \\textbf{u}_j, \\langle \\textbf{u}_j\\textbf{u}_k \\rangle = \\delta_{j,k}$$  \n",
    "\n",
    "$\\delta_{j,k}$はクロネッカーのデルタを表します。\n",
    "\n",
    "- 標本分散共分散行列と固有値\n",
    "\n",
    "観測データ$B$を$n \\times p$行列とし、$A=B^TB$となっている場合は、$A$は分散共分散行列$S$や標本相関行列$R$であることを前提としています。\n",
    "\n",
    "\\langlebr\\rangle\n",
    "\n",
    "\n",
    "- 主成分\n",
    "\n",
    "$j$番目の固有値$\\lambda_j$に対応する固有ベクトル$\\textbf{u}_j$と元の変数$\\textbf{x}=(x_1,\\cdots,x_p)^T$との内積を変数$y_j$で表し、第$j$主成分とします。\n",
    "\n",
    "$$y_j=\\langle\\textbf{u}_j,\\textbf{x}\\rangle=x_iu_{1,j}+\\cdots+x_pu_{p,j}$$\n",
    "\n",
    "$y_j$ は $j$ 列の $n$ 個について、データ点(個体)を第 $j$ 主成分へ射影した射影値(主成分得点)です。\n",
    "\n",
    "- 主成分得点\n",
    "\n",
    "つぎに$\\textbf{x}_i$を定義します。これは元データと中心化されたデータのベクトルの両方を意味します。\n",
    "\n",
    "$\\textbf{x}_i = (x_{i,1}, x_{i,2}, \\ldots, x_{i,p})^T$ 、または\n",
    "中心化された$\\textbf{x}_i=(x_{i,1}-\\bar{x}_{\\cdot,1},\\cdots,x_{i,p}-\\bar{x}_{\\cdot,p})^T$です。\n",
    "\n",
    "このベクトルを主成分に代入した\n",
    "$$\\{y_{i,j}=\\langle\\textbf{x}_i,\\textbf{u}_j\\rangle|i=1,\\cdots,n,j=1,\\cdots,p\\}$$\n",
    "を主成分得点といいます。\n",
    "\n",
    "中心化された$\\textbf{x}_i,i=1,\\cdots,n$を利用して標本の大きさ$n$の第$j$主成分$y_j$を\n",
    "\n",
    "$$\\textbf{y}_i=(y_{1,j},\\cdots,y_{n,j})^T=(\\langle\\textbf{x}_1,\\textbf{u}_j\\rangle,\\cdots,\\langle\\textbf{x}_n,\\textbf{u}_j\\rangle)^T$$\n",
    "\n",
    "とおきます。\n",
    "\n",
    "- yjの分散と固有値\n",
    "\n",
    "$\\textrm{V}[y_j]=\\frac{1}{n-1}||\\textbf{y}_j||^2=\\textbf{u}_j^TS\\textbf{u}_j=\\lambda_j$\n",
    "\n",
    "- yjとykの共分散と固有値\n",
    "\n",
    "$\\textrm{Cov}[y_j,y_k]=\\sqrt{\\lambda_j\\lambda_k}\\delta_{j,k}$\n",
    "\n",
    "ここで、一般的に中心化されたSから求められた２つのi.j主成分は直交していますので$i\\ne j$ではゼロです。したがって、\n",
    "\n",
    "$\\textrm{Cov}[y_j,y_k]=\\lambda_j\\delta_{j,k}$\n",
    "\n",
    "と書くのが普通です。主成分がどのように求められたのかについて知っている必要があります。\n",
    "\n",
    "- 主成分の持つ意味\n",
    "\n",
    "$\\lambda_j\\textbf{u}_j=S\\textbf{u}_j=\\frac{1}{n-1}X_C^T(X_C\\textbf{u}_j)=\\frac{1}{n-1}X_C^T\\textbf{y}_j=\n",
    "\\begin{pmatrix}\n",
    "\\textrm{Cov}[x_1,y_j]\\\\\n",
    "\\vdots\\\\\n",
    "\\textrm{Cov}[x_p,y_j]\n",
    "\\end{pmatrix}$\n",
    "\n",
    "$k$行目について\n",
    "$\\mathrm{Cov}[x_k,y_j]=\\lambda_ju_{k,j}$\n",
    "となります。\n",
    "\n",
    "- 主成分負荷量\n",
    "\n",
    "元の変数と主成分との相関係数を主成分負荷量という。\n",
    "\n",
    "$r_{y_j,x_k}=\\frac{\\textrm{Cov}[x_k,y_j]}{\\sqrt{V[y_j]s_{k,k}}}=\\frac{\\sqrt{\\lambda_j}u_{k,j}}{\\sqrt{s_{k,k}}}$\n",
    "\n",
    "$s_{k,k}$は$k$次の分散を表します。\n",
    "\n",
    "\n",
    "# sympyによる確認\n",
    "\n",
    "観測値をx,yで表現しています。"
   ]
  },
  {
   "cell_type": "code",
   "execution_count": 1,
   "id": "2dc63324",
   "metadata": {},
   "outputs": [
    {
     "data": {
      "text/latex": [
       "$\\displaystyle \\left[\\begin{matrix}x_{11} & x_{12} & x_{13}\\\\x_{21} & x_{22} & x_{23}\\\\x_{31} & x_{32} & x_{33}\\end{matrix}\\right]$"
      ],
      "text/plain": [
       "⎡x₁₁  x₁₂  x₁₃⎤\n",
       "⎢             ⎥\n",
       "⎢x₂₁  x₂₂  x₂₃⎥\n",
       "⎢             ⎥\n",
       "⎣x₃₁  x₃₂  x₃₃⎦"
      ]
     },
     "metadata": {},
     "output_type": "display_data"
    },
    {
     "data": {
      "text/latex": [
       "$\\displaystyle \\left[\\begin{matrix}y_{11} & y_{12} & y_{13}\\\\y_{21} & y_{22} & y_{23}\\\\y_{31} & y_{32} & y_{33}\\end{matrix}\\right]$"
      ],
      "text/plain": [
       "⎡y₁₁  y₁₂  y₁₃⎤\n",
       "⎢             ⎥\n",
       "⎢y₂₁  y₂₂  y₂₃⎥\n",
       "⎢             ⎥\n",
       "⎣y₃₁  y₃₂  y₃₃⎦"
      ]
     },
     "metadata": {},
     "output_type": "display_data"
    }
   ],
   "source": [
    "import sympy as sp\n",
    "sp.init_printing(use_latex='mathjax')\n",
    "\n",
    "sp.var('x11, x12, x13, x21, x22, x23, x31, x32, x33') \n",
    "sp.var('y11, y12, y13, y21, y22, y23, y31, y32, y33') \n",
    "X = sp.Matrix([\n",
    "[x11,x12,x13],\n",
    "[x21,x22,x23],\n",
    "[x31,x32,x33]\n",
    "])\n",
    "Y = sp.Matrix([\n",
    "[y11,y12,y13],\n",
    "[y21,y22,y23],\n",
    "[y31,y32,y33]\n",
    "])\n",
    "display(X)\n",
    "display(Y)"
   ]
  },
  {
   "cell_type": "markdown",
   "id": "2312d5e5",
   "metadata": {},
   "source": [
    "- 内積\n",
    "\n",
    "ベクトル$\\textbf{x}=(x_1,\\cdots,x_p)$,$\\textbf{y}=(y_1,\\cdots,y_p) \\in \\mathbb{R}^p$に\n",
    "内積$\\langle \\textbf{x},\\textbf{y}\\rangle$を\n",
    "$\\langle \\textbf{x},\\textbf{y} \\rangle =\\textbf{x}^T\\textbf{y}=\\sum_{i=1}^p x_iy_i$で定義する。"
   ]
  },
  {
   "cell_type": "code",
   "execution_count": 2,
   "id": "8b60fbbd",
   "metadata": {},
   "outputs": [
    {
     "data": {
      "text/latex": [
       "$\\displaystyle \\left[\\begin{matrix}x_{11}\\\\x_{21}\\\\x_{31}\\end{matrix}\\right]$"
      ],
      "text/plain": [
       "⎡x₁₁⎤\n",
       "⎢   ⎥\n",
       "⎢x₂₁⎥\n",
       "⎢   ⎥\n",
       "⎣x₃₁⎦"
      ]
     },
     "metadata": {},
     "output_type": "display_data"
    },
    {
     "data": {
      "text/latex": [
       "$\\displaystyle \\left[\\begin{matrix}y_{11}\\\\y_{21}\\\\y_{31}\\end{matrix}\\right]$"
      ],
      "text/plain": [
       "⎡y₁₁⎤\n",
       "⎢   ⎥\n",
       "⎢y₂₁⎥\n",
       "⎢   ⎥\n",
       "⎣y₃₁⎦"
      ]
     },
     "metadata": {},
     "output_type": "display_data"
    },
    {
     "data": {
      "text/latex": [
       "$\\displaystyle \\left[\\begin{matrix}x_{11} y_{11} + x_{21} y_{21} + x_{31} y_{31}\\end{matrix}\\right]$"
      ],
      "text/plain": [
       "[x₁₁⋅y₁₁ + x₂₁⋅y₂₁ + x₃₁⋅y₃₁]"
      ]
     },
     "metadata": {},
     "output_type": "display_data"
    }
   ],
   "source": [
    "bf_x=X.col(0)\n",
    "bf_y=Y.col(0)\n",
    "display(bf_x)\n",
    "display(bf_y)\n",
    "display(sp.transpose(bf_x)*bf_y)"
   ]
  },
  {
   "cell_type": "code",
   "execution_count": 3,
   "id": "cd2bfa28",
   "metadata": {},
   "outputs": [
    {
     "data": {
      "text/latex": [
       "$\\displaystyle \\left[\\begin{matrix}x_{11} & x_{12} & x_{13}\\end{matrix}\\right]$"
      ],
      "text/plain": [
       "[x₁₁  x₁₂  x₁₃]"
      ]
     },
     "metadata": {},
     "output_type": "display_data"
    },
    {
     "data": {
      "text/latex": [
       "$\\displaystyle \\left[\\begin{matrix}y_{11} & y_{12} & y_{13}\\end{matrix}\\right]$"
      ],
      "text/plain": [
       "[y₁₁  y₁₂  y₁₃]"
      ]
     },
     "metadata": {},
     "output_type": "display_data"
    },
    {
     "data": {
      "text/latex": [
       "$\\displaystyle \\left[\\begin{matrix}x_{11} y_{11} & x_{11} y_{12} & x_{11} y_{13}\\\\x_{12} y_{11} & x_{12} y_{12} & x_{12} y_{13}\\\\x_{13} y_{11} & x_{13} y_{12} & x_{13} y_{13}\\end{matrix}\\right]$"
      ],
      "text/plain": [
       "⎡x₁₁⋅y₁₁  x₁₁⋅y₁₂  x₁₁⋅y₁₃⎤\n",
       "⎢                         ⎥\n",
       "⎢x₁₂⋅y₁₁  x₁₂⋅y₁₂  x₁₂⋅y₁₃⎥\n",
       "⎢                         ⎥\n",
       "⎣x₁₃⋅y₁₁  x₁₃⋅y₁₂  x₁₃⋅y₁₃⎦"
      ]
     },
     "metadata": {},
     "output_type": "display_data"
    }
   ],
   "source": [
    "bf_x=X.row(0)\n",
    "bf_y=Y.row(0)\n",
    "display(bf_x)\n",
    "display(bf_y)\n",
    "display(sp.transpose(bf_x)*bf_y)"
   ]
  },
  {
   "cell_type": "markdown",
   "id": "bcbcbcb2",
   "metadata": {},
   "source": [
    "通常の Euclidean 内積の場合、$\\langle \\textbf{a}, \\textbf{b}\\rangle$ では $\\textbf{a}$ と $\\textbf{b}$ は列ベクトル（縦ベクトル）として扱われます。一方で、内積の定義が異なる場合や特定の文脈では、異なる方向のベクトルを取ることもありますが、その際には適切なベクトルの形を代入するように注意する必要があります。\n",
    "\n",
    "- 直交行列\n",
    "\n",
    "直交行列とは$U^TU=UU^T=I_p$となる$p$次正方行列です。$p$次行列$A$を実対称行列とするとき、適当な直交行列$U=(u_1,\\cdots,u_p)$をとれば\n",
    "\n",
    "$U^T A U = diag(\\lambda_1,\\cdots,\\lambda_p)$\n",
    "\n",
    "この式に左から$U$を掛けると$AU=Udiag(\\lambda_1,\\cdots,\\lambda_p)$となり、固有値問題\n",
    "\n",
    "$$ A \\textbf{u}_j=\\lambda_j \\textbf{u}_j, \\langle \\textbf{u}_j\\textbf{u}_k \\rangle = \\delta_{j,k}$$  \n",
    "\n",
    "直交行列を得る方法にはいろいろあります。直交の条件を与えて最適化する。回転行列、置換行列、反射行列、QR分解など"
   ]
  },
  {
   "cell_type": "code",
   "execution_count": 50,
   "id": "6afc0697",
   "metadata": {},
   "outputs": [
    {
     "name": "stdout",
     "output_type": "stream",
     "text": [
      "Solution:\n"
     ]
    },
    {
     "data": {
      "text/latex": [
       "$\\displaystyle \\left( - u_{22}, \\  - \\sqrt{- \\left(u_{22} - 1\\right) \\left(u_{22} + 1\\right)}, \\  - \\sqrt{- \\left(u_{22} - 1\\right) \\left(u_{22} + 1\\right)}, \\  u_{22}\\right)$"
      ],
      "text/plain": [
       "⎛         ______________________     ______________________     ⎞\n",
       "⎝-u₂₂, -╲╱ -(u₂₂ - 1)⋅(u₂₂ + 1) , -╲╱ -(u₂₂ - 1)⋅(u₂₂ + 1) , u₂₂⎠"
      ]
     },
     "metadata": {},
     "output_type": "display_data"
    },
    {
     "data": {
      "text/latex": [
       "$\\displaystyle \\left( - u_{22}, \\  \\sqrt{- \\left(u_{22} - 1\\right) \\left(u_{22} + 1\\right)}, \\  \\sqrt{- \\left(u_{22} - 1\\right) \\left(u_{22} + 1\\right)}, \\  u_{22}\\right)$"
      ],
      "text/plain": [
       "⎛        ______________________    ______________________     ⎞\n",
       "⎝-u₂₂, ╲╱ -(u₂₂ - 1)⋅(u₂₂ + 1) , ╲╱ -(u₂₂ - 1)⋅(u₂₂ + 1) , u₂₂⎠"
      ]
     },
     "metadata": {},
     "output_type": "display_data"
    },
    {
     "data": {
      "text/latex": [
       "$\\displaystyle \\left( u_{22}, \\  - \\sqrt{- \\left(u_{22} - 1\\right) \\left(u_{22} + 1\\right)}, \\  \\sqrt{- \\left(u_{22} - 1\\right) \\left(u_{22} + 1\\right)}, \\  u_{22}\\right)$"
      ],
      "text/plain": [
       "⎛        ______________________    ______________________     ⎞\n",
       "⎝u₂₂, -╲╱ -(u₂₂ - 1)⋅(u₂₂ + 1) , ╲╱ -(u₂₂ - 1)⋅(u₂₂ + 1) , u₂₂⎠"
      ]
     },
     "metadata": {},
     "output_type": "display_data"
    },
    {
     "data": {
      "text/latex": [
       "$\\displaystyle \\left( u_{22}, \\  \\sqrt{- \\left(u_{22} - 1\\right) \\left(u_{22} + 1\\right)}, \\  - \\sqrt{- \\left(u_{22} - 1\\right) \\left(u_{22} + 1\\right)}, \\  u_{22}\\right)$"
      ],
      "text/plain": [
       "⎛       ______________________     ______________________     ⎞\n",
       "⎝u₂₂, ╲╱ -(u₂₂ - 1)⋅(u₂₂ + 1) , -╲╱ -(u₂₂ - 1)⋅(u₂₂ + 1) , u₂₂⎠"
      ]
     },
     "metadata": {},
     "output_type": "display_data"
    },
    {
     "name": "stdout",
     "output_type": "stream",
     "text": [
      "Orthogonal Matrix U:\n"
     ]
    },
    {
     "data": {
      "text/latex": [
       "$\\displaystyle \\left[\\begin{matrix}- u_{22} & - \\sqrt{- \\left(u_{22} - 1\\right) \\left(u_{22} + 1\\right)}\\\\- \\sqrt{- \\left(u_{22} - 1\\right) \\left(u_{22} + 1\\right)} & u_{22}\\end{matrix}\\right]$"
      ],
      "text/plain": [
       "⎡                              ______________________⎤\n",
       "⎢          -u₂₂             -╲╱ -(u₂₂ - 1)⋅(u₂₂ + 1) ⎥\n",
       "⎢                                                    ⎥\n",
       "⎢   ______________________                           ⎥\n",
       "⎣-╲╱ -(u₂₂ - 1)⋅(u₂₂ + 1)              u₂₂           ⎦"
      ]
     },
     "metadata": {},
     "output_type": "display_data"
    },
    {
     "data": {
      "text/latex": [
       "$\\displaystyle \\left[\\begin{matrix}1 & 0\\\\0 & 1\\end{matrix}\\right]$"
      ],
      "text/plain": [
       "⎡1  0⎤\n",
       "⎢    ⎥\n",
       "⎣0  1⎦"
      ]
     },
     "metadata": {},
     "output_type": "display_data"
    }
   ],
   "source": [
    "# 変数の定義\n",
    "u11, u12, u21, u22 = sp.symbols('u11 u12 u21 u22')\n",
    "\n",
    "# 直交行列の要素に関する関係\n",
    "relation1 = sp.Eq(u11**2 + u21**2, 1)\n",
    "relation2 = sp.Eq(u12**2 + u22**2, 1)\n",
    "relation3 = sp.Eq(u11*u12 + u21*u22, 0)\n",
    "\n",
    "# u11, u12, u21, u22に関する関係を解く\n",
    "solutions = sp.solve([relation1, relation2, relation3], (u11, u12, u21, u22))\n",
    "\n",
    "# 解を表示\n",
    "print(\"Solution:\")\n",
    "for solution in solutions:\n",
    "    display(solution)\n",
    "\n",
    "# 解を代入して直交行列を作成\n",
    "U = sp.Matrix([\n",
    "    [solutions[0][0], solutions[0][1]],\n",
    "    [solutions[0][2], solutions[0][3]]\n",
    "])\n",
    "\n",
    "# 直交行列を表示\n",
    "print(\"Orthogonal Matrix U:\")\n",
    "display(U)\n",
    "display(sp.simplify(U.T*U))"
   ]
  },
  {
   "cell_type": "markdown",
   "id": "5bad71ac",
   "metadata": {},
   "source": [
    "この方法では実際に二次元までしか解けません。もっとも簡単に直交行列を意識できるのは三角関数を利用したものです。"
   ]
  },
  {
   "cell_type": "code",
   "execution_count": 5,
   "id": "1d84e04a",
   "metadata": {},
   "outputs": [
    {
     "data": {
      "text/latex": [
       "$\\displaystyle \\left[\\begin{matrix}\\cos{\\left(\\theta \\right)} & - \\sin{\\left(\\theta \\right)}\\\\\\sin{\\left(\\theta \\right)} & \\cos{\\left(\\theta \\right)}\\end{matrix}\\right]$"
      ],
      "text/plain": [
       "⎡cos(θ)  -sin(θ)⎤\n",
       "⎢               ⎥\n",
       "⎣sin(θ)  cos(θ) ⎦"
      ]
     },
     "metadata": {},
     "output_type": "display_data"
    },
    {
     "data": {
      "text/latex": [
       "$\\displaystyle \\left[\\begin{matrix}1 & 0\\\\0 & 1\\end{matrix}\\right]$"
      ],
      "text/plain": [
       "⎡1  0⎤\n",
       "⎢    ⎥\n",
       "⎣0  1⎦"
      ]
     },
     "metadata": {},
     "output_type": "display_data"
    }
   ],
   "source": [
    "#三角関数を利用した直交行列の構築\n",
    "\n",
    "# 変数の定義\n",
    "theta = sp.symbols('theta')\n",
    "\n",
    "# 直交行列の定義\n",
    "U = sp.Matrix([\n",
    "    [sp.cos(theta), -sp.sin(theta)],\n",
    "    [sp.sin(theta), sp.cos(theta)]\n",
    "])\n",
    "\n",
    "# Uを表示\n",
    "display(U,sp.simplify(U.T*U))\n"
   ]
  },
  {
   "cell_type": "code",
   "execution_count": 6,
   "id": "ffaa60f2",
   "metadata": {},
   "outputs": [
    {
     "data": {
      "text/latex": [
       "$\\displaystyle \\left[\\begin{matrix}\\frac{a_{11} - a_{22} - \\sqrt{a_{11}^{2} - 2 a_{11} a_{22} + 4 a_{12}^{2} + a_{22}^{2}}}{2 a_{12}} & \\frac{a_{11} - a_{22} + \\sqrt{a_{11}^{2} - 2 a_{11} a_{22} + 4 a_{12}^{2} + a_{22}^{2}}}{2 a_{12}}\\\\1 & 1\\end{matrix}\\right]$"
      ],
      "text/plain": [
       "⎡               __________________________________                 ___________\n",
       "⎢              ╱    2                    2      2                 ╱    2      \n",
       "⎢a₁₁ - a₂₂ - ╲╱  a₁₁  - 2⋅a₁₁⋅a₂₂ + 4⋅a₁₂  + a₂₂    a₁₁ - a₂₂ + ╲╱  a₁₁  - 2⋅a\n",
       "⎢─────────────────────────────────────────────────  ──────────────────────────\n",
       "⎢                      2⋅a₁₂                                              2⋅a₁\n",
       "⎢                                                                             \n",
       "⎣                        1                                                  1 \n",
       "\n",
       "_______________________⎤\n",
       "              2      2 ⎥\n",
       "₁₁⋅a₂₂ + 4⋅a₁₂  + a₂₂  ⎥\n",
       "───────────────────────⎥\n",
       "₂                      ⎥\n",
       "                       ⎥\n",
       "                       ⎦"
      ]
     },
     "metadata": {},
     "output_type": "display_data"
    },
    {
     "data": {
      "text/latex": [
       "$\\displaystyle \\left[\\begin{matrix}\\frac{a_{11}}{2} + \\frac{a_{22}}{2} - \\frac{\\sqrt{a_{11}^{2} - 2 a_{11} a_{22} + 4 a_{12}^{2} + a_{22}^{2}}}{2} & 0\\\\0 & \\frac{a_{11}}{2} + \\frac{a_{22}}{2} + \\frac{\\sqrt{a_{11}^{2} - 2 a_{11} a_{22} + 4 a_{12}^{2} + a_{22}^{2}}}{2}\\end{matrix}\\right]$"
      ],
      "text/plain": [
       "⎡               __________________________________                            \n",
       "⎢              ╱    2                    2      2                             \n",
       "⎢a₁₁   a₂₂   ╲╱  a₁₁  - 2⋅a₁₁⋅a₂₂ + 4⋅a₁₂  + a₂₂                              \n",
       "⎢─── + ─── - ─────────────────────────────────────                          0 \n",
       "⎢ 2     2                      2                                              \n",
       "⎢                                                                             \n",
       "⎢                                                                  ___________\n",
       "⎢                                                                 ╱    2      \n",
       "⎢                                                   a₁₁   a₂₂   ╲╱  a₁₁  - 2⋅a\n",
       "⎢                        0                          ─── + ─── + ──────────────\n",
       "⎣                                                    2     2                  \n",
       "\n",
       "                       ⎤\n",
       "                       ⎥\n",
       "                       ⎥\n",
       "                       ⎥\n",
       "                       ⎥\n",
       "                       ⎥\n",
       "_______________________⎥\n",
       "              2      2 ⎥\n",
       "₁₁⋅a₂₂ + 4⋅a₁₂  + a₂₂  ⎥\n",
       "───────────────────────⎥\n",
       "    2                  ⎦"
      ]
     },
     "metadata": {},
     "output_type": "display_data"
    },
    {
     "data": {
      "text/latex": [
       "$\\displaystyle \\left[\\begin{matrix}a_{11} & a_{12}\\\\a_{12} & a_{22}\\end{matrix}\\right]$"
      ],
      "text/plain": [
       "⎡a₁₁  a₁₂⎤\n",
       "⎢        ⎥\n",
       "⎣a₁₂  a₂₂⎦"
      ]
     },
     "metadata": {},
     "output_type": "display_data"
    }
   ],
   "source": [
    "# 実対称行列の固有値分解\n",
    "sp.var('a11, a12, a21, a22')\n",
    "# 行列の定義\n",
    "A = sp.Matrix([\n",
    "    [a11, a12],\n",
    "    [a12, a22]\n",
    "])\n",
    "\n",
    "U, D = A.diagonalize()\n",
    "display(U)\n",
    "display(D)\n",
    "display(sp.simplify(U * D * U.inv()))"
   ]
  },
  {
   "cell_type": "markdown",
   "id": "104ee99a",
   "metadata": {},
   "source": [
    "- Aが標本分散共分散行列Sや相関行列R\n",
    "\n",
    "Bを$n \\times p$行列として$A=B^TB$とすると、$A$の固有値は非負となります。一般に$B$は中心されていいます。\n",
    "\n",
    "$A\\textbf{u}_j=\\lambda_j \\textbf{u}_j, \\langle \\textbf{u}_j,\\textbf{u}_k \\rangle=\\delta_{j,k}$\n",
    "\n",
    "の両辺に$\\textbf{u}_j^T$を掛けると\n",
    "\n",
    "$\\textbf{u}_j^TA\\textbf{u}_j=\\textbf{u}_j^TB^TB\\textbf{u}_j=(B\\textbf{u}_j)^TB\\textbf{u}_j=\\textbf{u}_j^T\\lambda_j \\textbf{u}_j=\\lambda_j $\n",
    "\n",
    "$\\lambda_j =||Bu_j||^2\\ge0$"
   ]
  },
  {
   "cell_type": "code",
   "execution_count": 51,
   "id": "2e56c13b",
   "metadata": {},
   "outputs": [
    {
     "data": {
      "text/plain": [
       "'B'"
      ]
     },
     "metadata": {},
     "output_type": "display_data"
    },
    {
     "data": {
      "text/latex": [
       "$\\displaystyle \\left[\\begin{matrix}b_{11} & b_{12}\\\\b_{21} & b_{22}\\\\b_{31} & b_{32}\\end{matrix}\\right]$"
      ],
      "text/plain": [
       "⎡b₁₁  b₁₂⎤\n",
       "⎢        ⎥\n",
       "⎢b₂₁  b₂₂⎥\n",
       "⎢        ⎥\n",
       "⎣b₃₁  b₃₂⎦"
      ]
     },
     "metadata": {},
     "output_type": "display_data"
    },
    {
     "data": {
      "text/plain": [
       "'A'"
      ]
     },
     "metadata": {},
     "output_type": "display_data"
    },
    {
     "data": {
      "text/latex": [
       "$\\displaystyle \\left[\\begin{matrix}b_{11}^{2} + b_{21}^{2} + b_{31}^{2} & b_{11} b_{12} + b_{21} b_{22} + b_{31} b_{32}\\\\b_{11} b_{12} + b_{21} b_{22} + b_{31} b_{32} & b_{12}^{2} + b_{22}^{2} + b_{32}^{2}\\end{matrix}\\right]$"
      ],
      "text/plain": [
       "⎡       2      2      2                                  ⎤\n",
       "⎢    b₁₁  + b₂₁  + b₃₁        b₁₁⋅b₁₂ + b₂₁⋅b₂₂ + b₃₁⋅b₃₂⎥\n",
       "⎢                                                        ⎥\n",
       "⎢                                    2      2      2     ⎥\n",
       "⎣b₁₁⋅b₁₂ + b₂₁⋅b₂₂ + b₃₁⋅b₃₂      b₁₂  + b₂₂  + b₃₂      ⎦"
      ]
     },
     "metadata": {},
     "output_type": "display_data"
    },
    {
     "data": {
      "text/plain": [
       "'A from U,D'"
      ]
     },
     "metadata": {},
     "output_type": "display_data"
    },
    {
     "data": {
      "text/latex": [
       "$\\displaystyle \\left[\\begin{matrix}b_{11}^{2} + b_{21}^{2} + b_{31}^{2} & b_{11} b_{12} + b_{21} b_{22} + b_{31} b_{32}\\\\b_{11} b_{12} + b_{21} b_{22} + b_{31} b_{32} & b_{12}^{2} + b_{22}^{2} + b_{32}^{2}\\end{matrix}\\right]$"
      ],
      "text/plain": [
       "⎡       2      2      2                                  ⎤\n",
       "⎢    b₁₁  + b₂₁  + b₃₁        b₁₁⋅b₁₂ + b₂₁⋅b₂₂ + b₃₁⋅b₃₂⎥\n",
       "⎢                                                        ⎥\n",
       "⎢                                    2      2      2     ⎥\n",
       "⎣b₁₁⋅b₁₂ + b₂₁⋅b₂₂ + b₃₁⋅b₃₂      b₁₂  + b₂₂  + b₃₂      ⎦"
      ]
     },
     "metadata": {},
     "output_type": "display_data"
    }
   ],
   "source": [
    "sp.var('b11, b12, b21, b22, b31, b32') \n",
    "B = sp.Matrix([\n",
    "[b11,b12],\n",
    "[b21,b22],\n",
    "[b31,b32]\n",
    "])\n",
    "display(\"B\",B)\n",
    "A=B.T*B\n",
    "display(\"A\",A)\n",
    "U, D = A.diagonalize()\n",
    "display(\"A from U,D\",sp.simplify(U * D * U.inv()))"
   ]
  },
  {
   "cell_type": "markdown",
   "id": "3e154af3",
   "metadata": {},
   "source": [
    "- 主成分\n",
    "\n",
    "ｊ番目の固有値$\\lambda_j$に対応する固有ベクトル$\\textbf{u}_j$と元の変数 $\\textbf{x}=(x_1,\\cdots,x_p)^T$との内積を変数$y_j$で表し、第$j$主成分という。\n",
    "\n",
    "$y_j=\\langle\\textbf{u}_j,\\textbf{x}\\rangle=x_iu_{1,j}+\\cdots+x_pu_{p,j}$"
   ]
  },
  {
   "cell_type": "code",
   "execution_count": 9,
   "id": "fa642b36",
   "metadata": {},
   "outputs": [
    {
     "data": {
      "text/latex": [
       "$\\displaystyle \\left[\\begin{matrix}x_{11}\\\\x_{21}\\\\x_{31}\\end{matrix}\\right]$"
      ],
      "text/plain": [
       "⎡x₁₁⎤\n",
       "⎢   ⎥\n",
       "⎢x₂₁⎥\n",
       "⎢   ⎥\n",
       "⎣x₃₁⎦"
      ]
     },
     "metadata": {},
     "output_type": "display_data"
    },
    {
     "data": {
      "text/latex": [
       "$\\displaystyle \\left[\\begin{matrix}u_{11}\\\\u_{21}\\\\u_{31}\\end{matrix}\\right]$"
      ],
      "text/plain": [
       "⎡u₁₁⎤\n",
       "⎢   ⎥\n",
       "⎢u₂₁⎥\n",
       "⎢   ⎥\n",
       "⎣u₃₁⎦"
      ]
     },
     "metadata": {},
     "output_type": "display_data"
    },
    {
     "data": {
      "text/latex": [
       "$\\displaystyle \\left[\\begin{matrix}u_{11} x_{11} + u_{21} x_{21} + u_{31} x_{31}\\end{matrix}\\right]$"
      ],
      "text/plain": [
       "[u₁₁⋅x₁₁ + u₂₁⋅x₂₁ + u₃₁⋅x₃₁]"
      ]
     },
     "metadata": {},
     "output_type": "display_data"
    }
   ],
   "source": [
    "X = sp.Matrix([\n",
    "[x11,x12,x13],\n",
    "[x21,x22,x23],\n",
    "[x31,x32,x33]\n",
    "])\n",
    "\n",
    "U = sp.Matrix([\n",
    "[u11,u12,u13],\n",
    "[u21,u22,u23],\n",
    "[u31,u32,u33]\n",
    "])\n",
    "\n",
    "bf_x=X.col(0)#\\textbf{x}=(x_1,\\cdots,x_p)^Tが縦ベクトル。(x_1,\\cdots,x_p)は横ベクトル\n",
    "j=0\n",
    "bf_u_j=U.col(j)\n",
    "display(bf_x)     \n",
    "display(bf_u_j)\n",
    "y_j=sp.transpose(bf_u_j)*bf_x\n",
    "display(y_j)"
   ]
  },
  {
   "cell_type": "markdown",
   "id": "f3985f69",
   "metadata": {},
   "source": [
    "- 主成分得点\n",
    "\n",
    "$\\textbf{x}_i = (x_{i,1}, x_{i,2}, \\ldots, x_{i,p})^T$ 、または中心化された$\\textbf{x}_i=(x_{i,1}-\\bar{x}_{\\cdot,1},\\cdots,x_{i,p}-\\bar{x}_{\\cdot,p})^T$について主成分に代入した\n",
    "\n",
    "$\\{y_{i,j}=\\langle\\textbf{x}_i,\\textbf{u}_j\\rangle|i=1,\\cdots,n,j=1,\\cdots,p\\}$\n",
    "\n",
    "を主成分得点という。$y_{i,j}$は個体１つの第j主成分分析ですが、$\\{ \\dot \\}で囲われているので、$n times p$個の主成分得点を表します。\n"
   ]
  },
  {
   "cell_type": "code",
   "execution_count": 10,
   "id": "3ebc9657",
   "metadata": {},
   "outputs": [
    {
     "data": {
      "text/latex": [
       "$\\displaystyle \\left[\\begin{matrix}x_{11}\\\\x_{12}\\\\x_{13}\\end{matrix}\\right]$"
      ],
      "text/plain": [
       "⎡x₁₁⎤\n",
       "⎢   ⎥\n",
       "⎢x₁₂⎥\n",
       "⎢   ⎥\n",
       "⎣x₁₃⎦"
      ]
     },
     "metadata": {},
     "output_type": "display_data"
    },
    {
     "data": {
      "text/latex": [
       "$\\displaystyle \\left[\\begin{matrix}u_{11}\\\\u_{21}\\\\u_{31}\\end{matrix}\\right]$"
      ],
      "text/plain": [
       "⎡u₁₁⎤\n",
       "⎢   ⎥\n",
       "⎢u₂₁⎥\n",
       "⎢   ⎥\n",
       "⎣u₃₁⎦"
      ]
     },
     "metadata": {},
     "output_type": "display_data"
    },
    {
     "data": {
      "text/latex": [
       "$\\displaystyle \\left[\\begin{matrix}u_{11} x_{11} + u_{21} x_{12} + u_{31} x_{13}\\end{matrix}\\right]$"
      ],
      "text/plain": [
       "[u₁₁⋅x₁₁ + u₂₁⋅x₁₂ + u₃₁⋅x₁₃]"
      ]
     },
     "metadata": {},
     "output_type": "display_data"
    }
   ],
   "source": [
    "i=0\n",
    "bf_x_i=sp.transpose(X.row(i))\n",
    "j=0\n",
    "bf_u_j=U.col(j)\n",
    "y_ij=sp.transpose(bf_x_i)*bf_u_j\n",
    "display(bf_x_i)\n",
    "display(bf_u_j)\n",
    "display(y_ij)"
   ]
  },
  {
   "cell_type": "markdown",
   "id": "4e6189cc",
   "metadata": {},
   "source": [
    "- yjの分散と固有値\n",
    "\n",
    "$\\textrm{V}[y_j]=\\frac{1}{n-1}||\\textbf{y}_j||^2=\\textbf{u}_j^TS\\textbf{u}_j=\\lambda_j$"
   ]
  },
  {
   "cell_type": "code",
   "execution_count": 217,
   "id": "3495dfd2",
   "metadata": {},
   "outputs": [
    {
     "data": {
      "text/latex": [
       "$\\displaystyle \\left[\\begin{matrix}- \\frac{\\sqrt{349}}{18} - \\frac{5}{18}\\\\1\\end{matrix}\\right]$"
      ],
      "text/plain": [
       "⎡  √349   5 ⎤\n",
       "⎢- ──── - ──⎥\n",
       "⎢   18    18⎥\n",
       "⎢           ⎥\n",
       "⎣     1     ⎦"
      ]
     },
     "metadata": {},
     "output_type": "display_data"
    },
    {
     "data": {
      "text/latex": [
       "$\\displaystyle \\left[\\begin{matrix}- \\frac{5}{18} + \\frac{\\sqrt{349}}{18}\\\\1\\end{matrix}\\right]$"
      ],
      "text/plain": [
       "⎡  5    √349⎤\n",
       "⎢- ── + ────⎥\n",
       "⎢  18    18 ⎥\n",
       "⎢           ⎥\n",
       "⎣     1     ⎦"
      ]
     },
     "metadata": {},
     "output_type": "display_data"
    },
    {
     "data": {
      "text/latex": [
       "$\\displaystyle \\frac{19}{6} - \\frac{\\sqrt{349}}{6}$"
      ],
      "text/plain": [
       "19   √349\n",
       "── - ────\n",
       "6     6  "
      ]
     },
     "metadata": {},
     "output_type": "display_data"
    },
    {
     "data": {
      "text/latex": [
       "$\\displaystyle \\frac{\\sqrt{349}}{6} + \\frac{19}{6}$"
      ],
      "text/plain": [
       "√349   19\n",
       "──── + ──\n",
       " 6     6 "
      ]
     },
     "metadata": {},
     "output_type": "display_data"
    },
    {
     "data": {
      "text/latex": [
       "$\\displaystyle \\left[ \\frac{19}{6} - \\frac{\\sqrt{349}}{6}, \\  \\frac{\\sqrt{349}}{6} + \\frac{19}{6}\\right]$"
      ],
      "text/plain": [
       "⎡19   √349  √349   19⎤\n",
       "⎢── - ────, ──── + ──⎥\n",
       "⎣6     6     6     6 ⎦"
      ]
     },
     "metadata": {},
     "output_type": "display_data"
    }
   ],
   "source": [
    "# 元データ行列Xの定義\n",
    "X = sp.Matrix([\n",
    "    [1, 2],\n",
    "    [3, 4],\n",
    "    [4, 6]\n",
    "])\n",
    "\n",
    "# Xの列数（特徴数）を取得\n",
    "p = X.shape[1]\n",
    "n = X.shape[0]\n",
    "\n",
    "# Xの各列の平均を計算\n",
    "\n",
    "# 偏差の計算\n",
    "Xc=(sp.eye(n)-sp.ones(n,n)/n)*X\n",
    "#display(sp.simplify(Xc))\n",
    "\n",
    "# 共分散行列の計算\n",
    "S = (Xc.T @ Xc) / (n-1 )\n",
    "# 固有値と固有ベクトルの計算\n",
    "P,D=S.diagonalize()\n",
    "adjs=[(sp.transpose(P.col(i))*P.col(i)) for i in range(p)]\n",
    "U=[sp.simplify(P.col(i)) for i in range(p)]\n",
    "\n",
    "# y_jの計算と分散の計算\n",
    "variance=[]\n",
    "yjs=[]\n",
    "for u in U:\n",
    "    display(u)\n",
    "    v=0\n",
    "    yj=[]\n",
    "    for i in range(n):\n",
    "        y=Xc.row(i) * u\n",
    "        v+=y[0]**2/(n-1)\n",
    "        yj.append(y)\n",
    "    variance.append(v)\n",
    "    yjs.append(yj)\n",
    "adj1=adjs[0]\n",
    "adj2=adjs[1]\n",
    "display(sp.simplify(variance[0]/adj1[0]))\n",
    "display(sp.simplify(variance[1]/adj2[0]))\n",
    "display(eigenvalues)"
   ]
  },
  {
   "cell_type": "markdown",
   "id": "abfc0eff",
   "metadata": {},
   "source": [
    "sympyのeigenvectorは$a^2+b^2=1$になっていないので注意。\n",
    "\n",
    "- yjとykの共分散と固有値\n",
    "\n",
    "$\\textrm{Cov}[y_j,y_k]=\\sqrt{\\lambda_j\\lambda_k}\\delta_{j,k}$\n",
    "\n"
   ]
  },
  {
   "cell_type": "code",
   "execution_count": 170,
   "id": "3134abda",
   "metadata": {},
   "outputs": [
    {
     "data": {
      "text/latex": [
       "$\\displaystyle \\left[\\begin{matrix}\\frac{7}{3} & 3\\\\3 & 4\\end{matrix}\\right]$"
      ],
      "text/plain": [
       "⎡7/3  3⎤\n",
       "⎢      ⎥\n",
       "⎣ 3   4⎦"
      ]
     },
     "metadata": {},
     "output_type": "display_data"
    },
    {
     "data": {
      "text/latex": [
       "$\\displaystyle \\left[\\begin{matrix}-1.40868446802945 \\cdot 10^{-16}\\end{matrix}\\right]$"
      ],
      "text/plain": [
       "[-1.40868446802945e-16]"
      ]
     },
     "execution_count": 170,
     "metadata": {},
     "output_type": "execute_result"
    }
   ],
   "source": [
    "display(S)\n",
    "yj=sp.Matrix(yjs[0])\n",
    "yk=sp.Matrix(yjs[1])\n",
    "sp.simplify(yj.T*yk)"
   ]
  },
  {
   "cell_type": "markdown",
   "id": "4a42ce59",
   "metadata": {},
   "source": [
    "- 主成分の持つ意味\n",
    "\n",
    "$\\lambda_j\\textbf{u}_j=\n",
    "\\begin{pmatrix}\n",
    "\\lambda_j\\textbf{u}_{1,j}\\\\\n",
    "\\vdots\\\\\n",
    "\\lambda_j\\textbf{u}_{p,j} \n",
    "\\end{pmatrix}=\n",
    "\\begin{pmatrix}\n",
    "S\\textbf{u}_{1,j}\\\\\n",
    "\\vdots\\\\\n",
    "S\\textbf{u}_{p,j} \n",
    "\\end{pmatrix}=\n",
    "\\frac{1}{n-1}\\begin{pmatrix}\n",
    "\\textbf{x}_1^T\\textbf{x}_1\\textbf{u}_{1,j}\\\\\n",
    "\\vdots\\\\\n",
    "\\textbf{x}_p^T\\textbf{x}_p\\textbf{u}_{p,j} \n",
    "\\end{pmatrix}=\n",
    "\\frac{1}{n-1}\\begin{pmatrix}\n",
    "\\textbf{x}_1^T\\textbf{y}_j\\\\\n",
    "\\vdots\\\\\n",
    "\\textbf{x}_p^T\\textbf{y}_j \n",
    "\\end{pmatrix}=\n",
    "\\begin{pmatrix}\n",
    "\\textrm{Cov}[x_1,y_j]\\\\\n",
    "\\vdots\\\\\n",
    "\\textrm{Cov}[x_p,y_j]\n",
    "\\end{pmatrix}$\n",
    "\n",
    "$k$行目とは$\\mathrm{Cov}$に代入した$X_C^T$の$k$行目のことなので、$X_C$の$k$列目です。\n",
    "$\\mathrm{Cov}[x_k,y_j]=\\lambda_ju_{k,j}$\n",
    "となります。"
   ]
  },
  {
   "cell_type": "code",
   "execution_count": 13,
   "id": "4c9ee19a",
   "metadata": {},
   "outputs": [
    {
     "data": {
      "text/latex": [
       "$\\displaystyle \\left[\\begin{matrix}\\frac{127}{54} - \\frac{7 \\sqrt{349}}{54}\\\\\\frac{19}{6} - \\frac{\\sqrt{349}}{6}\\end{matrix}\\right]$"
      ],
      "text/plain": [
       "⎡127   7⋅√349⎤\n",
       "⎢─── - ──────⎥\n",
       "⎢ 54     54  ⎥\n",
       "⎢            ⎥\n",
       "⎢ 19   √349  ⎥\n",
       "⎢ ── - ────  ⎥\n",
       "⎣ 6     6    ⎦"
      ]
     },
     "metadata": {},
     "output_type": "display_data"
    },
    {
     "data": {
      "text/latex": [
       "$\\displaystyle \\left[\\begin{matrix}\\frac{127}{54} + \\frac{7 \\sqrt{349}}{54}\\\\\\frac{\\sqrt{349}}{6} + \\frac{19}{6}\\end{matrix}\\right]$"
      ],
      "text/plain": [
       "⎡127   7⋅√349⎤\n",
       "⎢─── + ──────⎥\n",
       "⎢ 54     54  ⎥\n",
       "⎢            ⎥\n",
       "⎢ √349   19  ⎥\n",
       "⎢ ──── + ──  ⎥\n",
       "⎣  6     6   ⎦"
      ]
     },
     "metadata": {},
     "output_type": "display_data"
    }
   ],
   "source": [
    "for u,la in zip(U,L):\n",
    "    display(sp.simplify(u*la))"
   ]
  },
  {
   "cell_type": "code",
   "execution_count": 14,
   "id": "f8ba3c10",
   "metadata": {},
   "outputs": [
    {
     "data": {
      "text/latex": [
       "$\\displaystyle \\left[\\begin{matrix}\\frac{127}{54} - \\frac{7 \\sqrt{349}}{54}\\\\\\frac{19}{6} - \\frac{\\sqrt{349}}{6}\\end{matrix}\\right]$"
      ],
      "text/plain": [
       "⎡127   7⋅√349⎤\n",
       "⎢─── - ──────⎥\n",
       "⎢ 54     54  ⎥\n",
       "⎢            ⎥\n",
       "⎢ 19   √349  ⎥\n",
       "⎢ ── - ────  ⎥\n",
       "⎣ 6     6    ⎦"
      ]
     },
     "metadata": {},
     "output_type": "display_data"
    },
    {
     "data": {
      "text/latex": [
       "$\\displaystyle \\left[\\begin{matrix}\\frac{127}{54} + \\frac{7 \\sqrt{349}}{54}\\\\\\frac{\\sqrt{349}}{6} + \\frac{19}{6}\\end{matrix}\\right]$"
      ],
      "text/plain": [
       "⎡127   7⋅√349⎤\n",
       "⎢─── + ──────⎥\n",
       "⎢ 54     54  ⎥\n",
       "⎢            ⎥\n",
       "⎢ √349   19  ⎥\n",
       "⎢ ──── + ──  ⎥\n",
       "⎣  6     6   ⎦"
      ]
     },
     "metadata": {},
     "output_type": "display_data"
    }
   ],
   "source": [
    "for u in U:\n",
    "    display(S*u)"
   ]
  },
  {
   "cell_type": "code",
   "execution_count": 256,
   "id": "3fb93703",
   "metadata": {},
   "outputs": [
    {
     "name": "stdout",
     "output_type": "stream",
     "text": [
      "j= 0 k= 0\n"
     ]
    },
    {
     "data": {
      "text/latex": [
       "$\\displaystyle \\frac{127}{27} - \\frac{7 \\sqrt{349}}{27}$"
      ],
      "text/plain": [
       "127   7⋅√349\n",
       "─── - ──────\n",
       " 27     27  "
      ]
     },
     "metadata": {},
     "output_type": "display_data"
    },
    {
     "name": "stdout",
     "output_type": "stream",
     "text": [
      "j= 0 k= 1\n"
     ]
    },
    {
     "data": {
      "text/latex": [
       "$\\displaystyle \\frac{127}{27} - \\frac{7 \\sqrt{349}}{27}$"
      ],
      "text/plain": [
       "127   7⋅√349\n",
       "─── - ──────\n",
       " 27     27  "
      ]
     },
     "metadata": {},
     "output_type": "display_data"
    },
    {
     "name": "stdout",
     "output_type": "stream",
     "text": [
      "j= 1 k= 0\n"
     ]
    },
    {
     "data": {
      "text/latex": [
       "$\\displaystyle \\frac{\\sqrt{349}}{3} + \\frac{19}{3}$"
      ],
      "text/plain": [
       "√349   19\n",
       "──── + ──\n",
       " 3     3 "
      ]
     },
     "metadata": {},
     "output_type": "display_data"
    },
    {
     "name": "stdout",
     "output_type": "stream",
     "text": [
      "j= 1 k= 1\n"
     ]
    },
    {
     "data": {
      "text/latex": [
       "$\\displaystyle \\frac{\\sqrt{349}}{3} + \\frac{19}{3}$"
      ],
      "text/plain": [
       "√349   19\n",
       "──── + ──\n",
       " 3     3 "
      ]
     },
     "metadata": {},
     "output_type": "display_data"
    }
   ],
   "source": [
    "#共分散による主成分の理解　右辺\n",
    "for j in range(p):\n",
    "    x=Xc.col(j)\n",
    "    for k in range(p):\n",
    "        print(\"j=\",j,\"k=\",k)\n",
    "        y=yjs[j][:]\n",
    "        cov=0\n",
    "        for i in range(n):\n",
    "            cov+=y[i][0]*x[i]\n",
    "        display(cov)"
   ]
  },
  {
   "cell_type": "markdown",
   "id": "254fb250",
   "metadata": {},
   "source": [
    "- 主成分負荷量\n",
    "\n",
    "元の変数と主成分との相関係数を主成分負荷量という。\n",
    "\n",
    "$r_{y_j,x_k}=\\frac{\\textrm{Cov}[x_k,y_j]}{\\sqrt{V[y_j]s_{k,k}}}=\\frac{\\sqrt{\\lambda_j}u_{k,j}}{\\sqrt{s_{k,k}}}$\n",
    "\n",
    "$x_k$とは$X_C$の$k$列目です。\n",
    "$\\mathrm{Cov}[x_k,y_j]=\\lambda_j u_{k,j}$\n",
    "となります。\n",
    "\n",
    "$y_j$の分散と固有値の関係は$\\textrm{V}[y_j]=\\lambda_j$です。よって、\n",
    "\n",
    "$\\frac{\\textrm{Cov}[x_k,y_j]}{\\sqrt{V[y_j]s_{k,k}}}=\\frac{\\lambda_j u_{k,j}}{\\sqrt{\\lambda_js_{k,k}}}=\\frac{\\sqrt{\\lambda_j}u_{k,j}}{\\sqrt{s_{k,k}}}$\n",
    "\n",
    "分散共分散行列ではなく、相関行列をつかって固有値問題を扱った場合、\n",
    "\n",
    "$\\lambda_ju_j=\n",
    "\\begin{pmatrix}\n",
    "\\lambda_ju_{1,j}\\\\\n",
    "\\vdots\\\\\n",
    "\\lambda_ju_{p,j} \n",
    "\\end{pmatrix}=\n",
    "\\begin{pmatrix}\n",
    "\\textrm{R}u_{1,j}\\\\\n",
    "\\vdots\\\\\n",
    "\\textrm{R}u_{p,j} \n",
    "\\end{pmatrix}=\n",
    "\\frac{1}{n-1}\\begin{pmatrix}\n",
    "\\textbf{x}_{Z,1}^T\\textbf{x}_{Z,1}u_{1,j}\\\\\n",
    "\\vdots\\\\\n",
    "\\textbf{x}_{Z,p}^T\\textbf{x}_{Z,p}u_{p,j} \n",
    "\\end{pmatrix}=\n",
    "\\frac{1}{n-1}\\begin{pmatrix}\n",
    "\\textbf{x}_{Z,1}^T\\textbf{y}_j\\\\\n",
    "\\vdots\\\\\n",
    "\\textbf{x}_{Z,p}^T\\textbf{y}_j \n",
    "\\end{pmatrix}=\n",
    "\\begin{pmatrix}\n",
    "\\textrm{Cov_z}[x_1,y_j]\\\\\n",
    "\\vdots\\\\\n",
    "\\textrm{Cov_z}[x_p,y_j]\n",
    "\\end{pmatrix}$\n",
    "\n",
    "ここで、$\\textbf{x}_{Z,p}$は標準化した$x$を表し、$\\textrm{Cov_Z}$は標準化した変数を代入した分散共分散行列を表します。したがって、$V[y_j]=1$とは限りません。ゆえに\n",
    "\n",
    "$r_{y_j,x_k}=\\frac{\\textrm{Cov_Z}[x_k,y_j]}{\\sqrt{V[y_j]s_{k,k}}}=\\frac{\\textrm{Cov_Z}[x_k,y_j]}{\\sqrt{V[y_j]}}=\\frac{\\lambda_j}{\\sqrt{V[y_j]}}=\\sqrt{\\lambda_j}\\textbf{u}_{k,j}$"
   ]
  },
  {
   "cell_type": "code",
   "execution_count": null,
   "id": "77eb6882",
   "metadata": {},
   "outputs": [],
   "source": []
  }
 ],
 "metadata": {
  "kernelspec": {
   "display_name": "Python 3 (ipykernel)",
   "language": "python",
   "name": "python3"
  },
  "language_info": {
   "codemirror_mode": {
    "name": "ipython",
    "version": 3
   },
   "file_extension": ".py",
   "mimetype": "text/x-python",
   "name": "python",
   "nbconvert_exporter": "python",
   "pygments_lexer": "ipython3",
   "version": "3.9.13"
  }
 },
 "nbformat": 4,
 "nbformat_minor": 5
}
