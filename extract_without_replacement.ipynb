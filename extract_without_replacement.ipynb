{
 "cells": [
  {
   "cell_type": "markdown",
   "id": "e9fa611d",
   "metadata": {},
   "source": [
    "# 非復元抽出 (Without Replacement)\n",
    "\n",
    "非復元抽出の際の有限修正項を求めます。その際に期待値を用いますが、期待値は\n",
    "\n",
    "$$E(X) = \\sum_{x} x \\cdot P(X = x)$$\n",
    "$$E(X) = \\int x f(x) dx$$\n",
    "\n",
    "と統計学では表現します。しかし、非復元抽出のような際には、母集団の大きさは無限ではありません。そこで非復元抽出の場合、特定の確率変数に対する期待値を計算する際、各抽出が他の抽出に影響を与えることになります。したがって、確率が変化します。\n",
    "\n",
    "そのために具体的な問題に応じた期待値の計算が可能です。その点に注意をしながら説明をしていきます。\n",
    "\n",
    "\n",
    "## 非復元抽出の特徴:\n",
    "- 一度選ばれた要素は再度選ばれません。\n",
    "- 抽出が進むにつれて、選択される確率が変動します。\n",
    "- 母集団が小さい場合、非復元抽出の影響が顕著になります。\n",
    "\n",
    "## 有限修正\n",
    "有限修正は、母集団が有限で非復元抽出が行われる場合に、統計的推測の精度を高めるために使用される補正です。\n",
    "\n",
    "- 標本が母集団に対して相対的に大きい場合、有限修正を使用することで、推測のバイアスを減らし精度を向上させます。\n",
    "- 標本が母集団のごく一部である場合（例：標本が母集団の5%未満）、有限修正の影響はほとんどありません。\n",
    "\n",
    "非復元抽出と有限修正は、実際のデータ収集や分析の際に考慮すべき重要な要因であり、母集団の大きさと標本の大きさがどのように相互作用するかを理解するのに役立ちます。特に、母集団が限られている場合や非復元抽出が行われる場合には、これらの概念が統計的推測の精度に重要な影響を及ぼす可能性があります。\n",
    "\n",
    "**大きさNの母集団から非復元抽出されたn個のデータ点の標本平均が母平均の不偏推定量であることを示します。**\n",
    "\n",
    "例として、N=3,n=2を考えます。\n",
    "$X_1,X_2,X_3$の結合分布は2個からなる組み合わせの数、$i_1,i_2$に対して\n",
    "\n",
    "$$P_x(X_1=x_{i_1},X_2=x_{i_2})=\\frac{1}{3!/(2!(3-2)!)}=\\frac{1}{3}   --------(1)$$\n",
    "\n",
    "となります。\n",
    "\n",
    "また、標本平均は$\\bar{X}=\\frac{1}{2}(x_{i_1}+x_{i_2})$です。\n",
    "母集団を$\\{1,2,3\\}$とすると可能な標本の組み合わせは\n",
    "\n",
    "|i1|i2|\n",
    "|:-:|:-:|\n",
    "|1|2|\n",
    "|1|3|\n",
    "|2|3|\n",
    "\n",
    "となります。\n",
    "それぞれが起きる確率は$P_x(X_1=x_{i_1},X_2=x_{i_2})=\\frac{1}{N!/(n!(N-n)!}=1/3$なので\n",
    "\n",
    "$$E_x(\\bar{X})=\\frac{1}{3}\\left[\\frac{1+2}{2}+\\frac{1+3}{2}+\\frac{2+3}{2}\\right]=\\frac{12}{3\\times 2}=2  --(2)$$\n",
    "\n",
    "これは母平均$\\frac{1+2+3}{3}=2$に等しい。\n",
    "\n",
    "一般化すると\n",
    "\n",
    "$$E_x(\\bar{X})=\\frac{1}{\\binom{N}{n}}\\sum_{k=1}^{\\binom{N}{n}} \\frac{1}{n}(x_{i_1}+\\cdots+x_{i_n}) -------(3)$$\n",
    "母集団から非復元でn個のデータ点を抽出する場合、特定のデータ点\n",
    "$X_i$が選ばれる組み合わせの数は、残りの$n−1$個を残りの$N−1$個から選ぶ組み合わせの数である$\\binom{N−1}{n-1}$と等しくなります。\n",
    "$$=\\frac{n!(N-n)!}{N!n}\\frac{(N-1)!}{(N-n)!(n-1)!}\\sum_{i=1}^NX_i=\\frac{1}{N}\\sum_{i=1}^NX_i=\\mu   ------(4)$$\n",
    "\n",
    "\n",
    "\n",
    "非復元抽出における平均や分散の計算では、一般に順序は重要ではないため、組み合わせを使用することになります。しかし、特定の文脈で順序が意味を持ちます。3人の候補者から3人のメダリストを選ぶ場合、選ぶ順序が結果に影響するため、順列を用います。10人のプレイヤーから5人のチームメンバーを選ぶ場合、メンバー間の順序は通常は関係ないため、組み合わせを用います。\n",
    "\n",
    "\n",
    "\n"
   ]
  },
  {
   "cell_type": "markdown",
   "id": "7eab8a23",
   "metadata": {},
   "source": [
    "**大きさNの母集団から非復元抽出されたn個のデータ点の標本平均の分散を求めます。**\n",
    "\n",
    "この母分散は\n",
    "\n",
    "$$\\sigma^2=\\frac{1}{N}\\sum_{i=1}^N(X_i-\\mu)^2  ----------(5)$$\n",
    "\n",
    "で与えられます。\n",
    "\n",
    "標本平均と総平均の差の二乗は\n",
    "\n",
    "$$(\\bar{X}-\\mu)^2=\\frac{1}{n^2}[(X_1-\\mu)+\\cdots+(X_n-\\mu)]^2$$\n",
    "$$=\\frac{1}{n^2}\\left[\\sum_{i=1}^n(X_i-\\mu)^2+\\sum_{i=1}^n\\sum_{j=1,i \\neq j}^n(X_i-\\mu)(X_j-\\mu)\\right]  -----(6) $$\n",
    "\n",
    "で与えられます。これは\n",
    "\n",
    "$$=\\frac{1}{n^2}\\left[\\sum_{i=1}^n(X_i-\\mu)^2+\\sum_{i}^n\\sum_{j,i \\neq j}^nX_iX_j-\\mu\\sum_{i}^n\\sum_{j,i \\neq j}^nX_i-\\mu\\sum_{i}^n\\sum_{j,i \\neq j}^nX_j+\\sum_{i=1}^n\\sum_{i \\neq j}\\mu^2\\right]$$\n",
    "$$=\\frac{1}{n^2}\\left[\\sum_{i=1}^n(X_i-\\mu)^2+\\sum_{i}^n\\sum_{j,i \\neq j}^nX_iX_j-\\mu\\sum_{j,i \\neq j}^nn\\mu-\\mu\\sum_{j,i \\neq j}^nn\\mu+\\sum_{i=1}^n\\sum_{i \\neq j}\\mu^2\\right]$$\n",
    "$$=\\frac{1}{n^2}\\left[\\sum_{i=1}^n(X_i-\\mu)^2+\\sum_{i}^n\\sum_{j,i \\neq j}^nX_iX_j-\\sum_{j,i \\neq j}^nn\\mu^2\\right]-----(7)$$\n",
    "\n",
    "となります。つぎに標本平均と総平均の差の平方の期待値をとります。この際に要素の出現確率は等確率を仮定し、確率変数の独立であることは仮定していません。また、各試行の独立は仮定していません。ただし、母集団からデータ点は独立して選ばれます。期待値はすべての場合の数を取ることで得ています。\n",
    "\n",
    "$$E(\\bar{X}-\\mu)^2=\\frac{1}{n^2}E[(X_1-\\mu)+\\cdots+(X_n-\\mu)]^2$$\n",
    "$$=\\frac{1}{n^2}\\left[\\sum_{i=1}^nE(X_i-\\mu)^2\\right]+\\frac{1}{n^2}\\left[\\sum_{i=1}^n \\sum_{i \\neq j}^nE(X_i-\\mu)(X_j-\\mu)\\right]$$\n",
    "$$=\\frac{1}{n}\\sigma^2+\\frac{n(n-1)}{n^2}\\left[ E(X_i-\\mu)(X_j-\\mu)\\right]   ------------(8)$$\n",
    "\n",
    "$E\\sum_{i=1}^n(X_i-\\mu)^2$は大きさ$N$の母集団から大きさ$n$の標本を無作為に取った時の期待値ですから、大きさ$N$の母集団について$(X_i-\\mu)^2$を計算し、その場合の数で割る必要があります。したがって、\n",
    "\n",
    "$E\\sum_{i=1}^n(X_i-\\mu)^2=\\sum_{i=1}^nE(X_i-\\mu)^2= \\sum_{i=1}^nN^{-1}\\sum_{j=1}^N(X_j-\\mu)^2=n\\sigma^2    ------(9)$\n",
    "\n",
    "これはそれぞれの $X_i$ は母集団から独立に選ばれるため、それぞれが同じ期待値を持つからです。\n",
    "\n",
    "$E(X_i-\\mu)(X_j-\\mu)$\n",
    "\n",
    "$$=\\frac{1}{N(N-1)}\\left[\\sum_{i}^N\\sum_{j,i \\neq j}^NX_iX_j-\\mu\\sum_{i}^N\\sum_{j,i \\neq j}^NX_i-\\mu\\sum_{i}^N\\sum_{j,i \\neq j}^NX_j+\\sum_{i=1}^N\\sum_{i \\neq j}^N\\mu^2\\right]$$\n",
    "$$=E(X_iX_j)-\\mu^2 -----(10)$$\n",
    "\n",
    "この中で、$X_iX_j$の$X_j$を$X_j=N\\mu-\\sum_{k,k\\neq i}X_k$に置き換えて展開すると、\n",
    "\n",
    "$$\\sum_{i=1}^N\\sum_{j=1,i \\neq j}^NX_iX_j=\\sum_{i=1}^N\\sum_{j=1,i \\neq j}^NX_i(N\\mu-\\sum_{k,k\\neq j}^NX_k)$$\n",
    "$$=\\sum_{j=1,i \\neq j}^N\\sum_{i=1}^NN\\mu X_i-\\sum_{i=1}^N\\sum_{j=1,i \\neq j}^N \\sum_{k,k\\neq j}^NX_iX_k$$\n",
    "$$=\\sum_{j=1,i \\neq j}^N (N\\mu)^2-\\sum_{i=1}^N\\sum_{j=1,i \\neq j}^NX_i^2-\\sum_{i=1}^N\\sum_{j=1,i \\neq j}^N \\sum_{k,k\\neq j,i}^NX_iX_k$$\n",
    "$$=\\sum_{j=1,i \\neq j}^N (N\\mu)^2-\\sum_{i=1}^N\\sum_{j=1,i \\neq j}^NX_i^2-\\sum_{i=1}^N\\sum_{j=1,i \\neq j}^N \\sum_{k,k\\neq j,i}^NX_iX_j$$\n",
    "\n",
    "$$\\sum_{i=1}^N\\sum_{j=1,i \\neq j}^NX_iX_j=\\left(1+\\sum_{k,k\\neq j,i}^N\\right)^{-1}\\left[\\sum_{j=1,i \\neq j}^N (N\\mu)^2-\\sum_{i=1}^N\\sum_{j=1,i \\neq j}^NX_i^2\\right]$$\n",
    "$$=(N-1)^{-1}\\left[\\sum_{j=1,i \\neq j}^N (N\\mu)^2- \\sum_{j=1,i \\neq j}^N N(\\sigma^2+\\mu^2) \\right]$$\n",
    "$$=\\left[(N\\mu)^2- (N\\sigma^2+N\\mu^2) \\right]  ---(11)$$\n",
    "\n",
    "\n",
    "よって、非復元抽出の標本平均の分散は\n",
    "$$E(X_iX_j)=\\frac{1}{N(N-1)}\\left((N\\mu)^2- N\\sigma^2-N\\mu^2 \\right)$$\n",
    "\n",
    "$$E(X_iX_j)-\\mu^2=\\frac{1}{N(N-1)}\\left[N^2\\mu^2- N\\sigma^2-N\\mu^2-N(N-1)\\mu^2\\right]$$\n",
    "\n",
    "$$E(\\bar{X}-\\mu)^2=\\frac{\\sigma^2}{n}-\\frac{(n-1)}{(N-1)}\\frac{\\sigma^2}{n}\\\n",
    "            =\\frac{N-1-(n-1)}{(N-1)}\\frac{\\sigma^2}{n}=\\frac{N-n)}{(N-1)}\\frac{\\sigma^2}{n} --(12)$$\n",
    "となります。有限修正が現れました。\n",
    "\n",
    "例として、N=3,n=2を考えます。母集団を$\\{1,2,3\\}$とすると\n",
    "\n",
    "母分散は\n",
    "\n",
    "$$\\sigma^2=\\frac{1}{3}[(1-2)^2+(2-2)^2+(3-2)^2]=2/3------(13)$$\n",
    "となります。\n",
    "\n",
    "表1\n",
    "\n",
    "|k|i1|i2|平均|平均偏差平方|偏差積|XiXj|muXi|muXj|mumu|\n",
    "|:-:|:-:|:-:|:-:|:-:     |:-:|:-:|:-:|:-:|:-:|\n",
    "|1|1|2|1.5|(1.5-2)^2=0.25|(1-2)(2-2)=0 |1x2|-2x2|-1x2|2x2|\n",
    "|2|1|3|2.0|(2-2)^2=0     |(1-2)(3-2)=-1|1x3|-2x3|-1x2|2x2|\n",
    "|3|2|1|1.5|(1.5-2)^2=0.25|(2-2)(1-2)=0 |2x1|-2x1|-2x2|2x2|\n",
    "|4|2|3|2.5|(2.5-2)^2=0.25|(2-2)(3-2)=0 |2x3|-2x3|-2x2|2x2|\n",
    "|5|3|1|2.0|(2-2)^2=0     |(3-2)(1-2)=-1|3x1|-2x1|-3x2|2x2|\n",
    "|6|3|2|2.5|(2.5-2)^2=0.25|(3-2)(2-2)=0 |3x2|-2x2|-3x2|2x2|\n",
    "|||||||22|-24|-24|24|\n",
    "\n",
    "となります。この際の標本分散の期待値は\n",
    "$$E(\\bar{X}-\\mu)^2=\\frac{1}{3(3-1)}(0.25+0+0.25+0.25+0+0.25)=1/6  -----(14)$$\n",
    "\n",
    "$$E(\\bar{X}-\\mu)^2=\\frac{1}{n}\\sigma^2+\\frac{n(n-1)}{n^2}E\\left[(X_i-\\mu)(X_j-\\mu)\\right]=\\frac{1}{2}\\frac{2}{3}-\\frac{2}{4}\\frac{2}{6}=\\frac{1}{6}-----(15)$$\n",
    "\n",
    "表２\n",
    "\n",
    "|偏差積       |XiXj|3muXi|XiXi|XiXk|\n",
    " |:-:         |:-: |:-: |:-: |:-:|\n",
    "|(1-2)(2-2)=0 |1x2 |6x1 |-1x1|1x3|\n",
    "|(1-2)(3-2)=-1|1x3 |6x1 |-1x1|1x2|\n",
    "|(2-2)(1-2)=0 |2x1 |6x2 |-2x2|2x3|\n",
    "|(2-2)(3-2)=0 |2x3 |6x2 |-2x2|2x1|\n",
    "|(3-2)(1-2)=-1|3x1 |6x3 |-3x3|3x2|\n",
    "|(3-2)(2-2)=0 |3x2 |6x3 |-3x3|3x1|\n",
    "|             |22  |72  |-28 |-22|\n",
    "\n",
    "\n",
    "$$E\\left[(X_i-\\mu)(X_j-\\mu)\\right]$$\n",
    "$$=E(X_iX_j)-3\\mu E(X_i)- 3\\mu E(X_j)+\\mu\\mu=22/6-24/6-24/6+24/6=-2/6-(16)$$\n",
    "\n",
    "# Pythonを用いた理解\n",
    "\n",
    "さらにPythonを用いて非復元抽出と有限修正の問題を理解していきましょう。下記のプログラムではN=10,n=5としています。組み合わせを使うので、簡単に計算限界に達してしまいます。\n",
    "\n",
    "このコードの主な目的は、非復元抽出の下で標本平均の分散を理解することです。特に、有限修正を用いると、この分散の計算がどう変化するかを示すことが重要です。この分析は、小さな母集団からの標本抽出において特に重要です。\n",
    "\n",
    "以下は各部分の説明です。\n",
    "\n",
    "## 母集団の設定:\n",
    "\n",
    "大きさNの母集団をランダムに生成します。この母集団は0から1の間の連続一様分布から生成される値から成り立っています。\n",
    "\n",
    "## 抽出の設定:\n",
    "\n",
    "非復元抽出でn個のサンプルを取るすべての組み合わせを生成します。\n",
    "\n",
    "## 母平均と母分散の計算:\n",
    "\n",
    "母集団全体の平均（母平均）と分散（母分散）を計算します。\n",
    "\n",
    "## 標本平均の分散の計算（有限修正なし）:\n",
    "\n",
    "各標本の平均を計算し、その平均値の分散を求めます。これにより、標本平均の分散が計算されます。\n",
    "\n",
    "## 標本平均の分散の計算（有限修正あり）:\n",
    "\n",
    "標本平均の分散を有限修正を使用して計算します。有限修正は、標本が母集団全体の一部であるという事実を反映するために使用されます。\n",
    "\n",
    "## 結果の出力と可視化:\n",
    "\n",
    "上記の計算結果を出力し、標本平均のヒストグラムを表示します。"
   ]
  },
  {
   "cell_type": "code",
   "execution_count": 9,
   "id": "6ee31418",
   "metadata": {},
   "outputs": [
    {
     "name": "stdout",
     "output_type": "stream",
     "text": [
      "母集団の大きさ 3 母集団 [1 2 3]\n",
      "Population mean: 2.0\n",
      "Population variance: 0.6666666666666666\n",
      "Variance of sample means: 0.16666666666666666\n",
      "Variance of sample means (with finite population correction): 0.16666666666666666\n"
     ]
    },
    {
     "data": {
      "image/png": "[encoded data removed]",
      "text/plain": [
       "<Figure size 640x480 with 1 Axes>"
      ]
     },
     "metadata": {},
     "output_type": "display_data"
    }
   ],
   "source": [
    "import numpy as np\n",
    "from itertools import combinations\n",
    "import matplotlib.pyplot as plt\n",
    "\n",
    "def withoutreplacement(population,n=2):\n",
    "    # 母集団の設定\n",
    "\n",
    "    print('母集団の大きさ',N,'母集団',population)\n",
    "    # 抽出の設定\n",
    "    sample_indices = list(combinations(range(N), n))  # 非復元抽出のすべての組み合わせを生成します。\n",
    "    #print('標本の大きさ',n,'標本',sample_indices)\n",
    "\n",
    "    # 母平均と母分散の計算\n",
    "    mu = np.mean(population)\n",
    "    sigma_sq = np.var(population)\n",
    "\n",
    "    # 標本平均の分散の計算\n",
    "    sample_means = np.array([np.mean(population[np.array(indices)]) for indices in sample_indices])\n",
    "    sample_var = np.var(sample_means)\n",
    "    # 標本平均の分散の計算（有限修正あり）\n",
    "    corrected_sample_var = (1/n)*sigma_sq*((N-n)/(N-1))\n",
    "\n",
    "    print(f\"Population mean: {mu}\")\n",
    "    print(f\"Population variance: {sigma_sq}\")\n",
    "    print(f\"Variance of sample means: {sample_var}\")\n",
    "    print(f\"Variance of sample means (with finite population correction): {corrected_sample_var}\")\n",
    "    plt.hist(sample_means)\n",
    "    plt.show()\n",
    "N=3\n",
    "p=np.array([1,2,3])\n",
    "withoutreplacement(population=p,n=2)"
   ]
  },
  {
   "cell_type": "code",
   "execution_count": 6,
   "id": "9f9a4036",
   "metadata": {},
   "outputs": [
    {
     "name": "stdout",
     "output_type": "stream",
     "text": [
      "母集団の大きさ 10 母集団 [0.58574574 0.12702706 0.75223696 0.79224092 0.93025181 0.9034874\n",
      " 0.40628458 0.33387921 0.75463324 0.58848175]\n",
      "Population mean: 0.617426867191913\n",
      "Population variance: 0.061456319744238444\n",
      "Variance of sample means: 0.006828479971582047\n",
      "Variance of sample means (with finite population correction): 0.00682847997158205\n"
     ]
    },
    {
     "data": {
      "image/png": "[encoded data removed]",
      "text/plain": [
       "<Figure size 640x480 with 1 Axes>"
      ]
     },
     "metadata": {},
     "output_type": "display_data"
    }
   ],
   "source": [
    "N=10\n",
    "p = np.random.rand(N)  # 大きさNの母集団を生成します。\n",
    "withoutreplacement(population=p,n=5)"
   ]
  },
  {
   "cell_type": "code",
   "execution_count": 4,
   "id": "4b638088",
   "metadata": {},
   "outputs": [
    {
     "name": "stdout",
     "output_type": "stream",
     "text": [
      "母集団の大きさ 10 母集団 [0.21122275 0.58313923 0.28368956 0.42166886 0.16194357 0.3519683\n",
      " 0.31639466 0.47692589 0.8710772  0.93799847]\n",
      "Population mean: 0.4616028481976716\n",
      "Population variance: 0.06284668028296711\n",
      "Variance of sample means: 0.0007758849417650254\n",
      "Variance of sample means (with finite population correction): 0.000775884941765026\n"
     ]
    },
    {
     "data": {
      "image/png": "[encoded data removed]",
      "text/plain": [
       "<Figure size 640x480 with 1 Axes>"
      ]
     },
     "metadata": {},
     "output_type": "display_data"
    }
   ],
   "source": [
    "# 標本が母集団に対して相対的に大きい場合、有限修正を使用することで、推測のバイアスを減らし精度を向上させます。\n",
    "withoutreplacement(population=p,n=9)"
   ]
  },
  {
   "cell_type": "code",
   "execution_count": 7,
   "id": "8030f432",
   "metadata": {},
   "outputs": [
    {
     "name": "stdout",
     "output_type": "stream",
     "text": [
      "母集団の大きさ 10 母集団 [0.58574574 0.12702706 0.75223696 0.79224092 0.93025181 0.9034874\n",
      " 0.40628458 0.33387921 0.75463324 0.58848175]\n",
      "Population mean: 0.617426867191913\n",
      "Population variance: 0.061456319744238444\n",
      "Variance of sample means: 0.061456319744238444\n",
      "Variance of sample means (with finite population correction): 0.061456319744238444\n"
     ]
    },
    {
     "data": {
      "image/png": "[encoded data removed]",
      "text/plain": [
       "<Figure size 640x480 with 1 Axes>"
      ]
     },
     "metadata": {},
     "output_type": "display_data"
    }
   ],
   "source": [
    "# 標本が母集団に対して相対的に大きい場合、有限修正を使用することで、推測のバイアスを減らし精度を向上させます。\n",
    "withoutreplacement(population=p,n=1)"
   ]
  },
  {
   "cell_type": "code",
   "execution_count": null,
   "id": "90f1be9e",
   "metadata": {},
   "outputs": [],
   "source": []
  }
 ],
 "metadata": {
  "kernelspec": {
   "display_name": "Python 3 (ipykernel)",
   "language": "python",
   "name": "python3"
  },
  "language_info": {
   "codemirror_mode": {
    "name": "ipython",
    "version": 3
   },
   "file_extension": ".py",
   "mimetype": "text/x-python",
   "name": "python",
   "nbconvert_exporter": "python",
   "pygments_lexer": "ipython3",
   "version": "3.9.13"
  }
 },
 "nbformat": 4,
 "nbformat_minor": 5
}
