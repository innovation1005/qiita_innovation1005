{
 "cells": [
  {
   "cell_type": "markdown",
   "id": "3db2f7d6",
   "metadata": {},
   "source": [
    "ワークブックの２章ではモーメント母関数は$m(\\theta$で記されていて、６章では$M(t)$で書かれていて、混乱しましたが、６章にしたがいました。\n",
    "\n",
    "\n",
    "# 確率母関数\n",
    "\n",
    "確率母関数$G(s)$は、確率変数の分布の性質を表現する手法の一つで、離散確率変数Xが取りうる各値kに対して、その確率を$p(k)$としたとき、次のように定義されます：\n",
    "\n",
    "$$G(s) =E(s^X)= \\sum_{k=0}^\\infty(s^kp(k))=s^0p(0) + s^1p(1) + s^2p(2)+ s^3p(3) + ...---(1)$$\n",
    "$\\Sigma$は無限和を意味し、$k$ は通常0から始まります。確率母関数は、確率変数が取る各値 $k$ に対する確率 $p(k)$ と、それに対応する形式的な変数 $s$ の $k$ 乗項 ($s^X$) を組み合わせて定義されます。\n",
    " \n",
    "　定義から分かるように、この式は確率変数 $X$ の期待値 $E(s^X)$ そのものです。$G(s)$ は多項式または級数となることもあります。たとえば、$s=1$のとき上式は\n",
    "\n",
    "$$G(1)=1^0p(0)+1^1p(1) + 1^2p(2) + 1^3p(3) + ...=p(0)+p(1)+p(2)+p(3)+...$$\n",
    "\n",
    "です。"
   ]
  },
  {
   "cell_type": "code",
   "execution_count": 1,
   "id": "46c007d6",
   "metadata": {},
   "outputs": [
    {
     "name": "stdout",
     "output_type": "stream",
     "text": [
      "確率母関数(s = 1):\n"
     ]
    },
    {
     "data": {
      "text/latex": [
       "$\\displaystyle \\sum_{k=0}^{\\infty} p$"
      ],
      "text/plain": [
       "Sum(p, (k, 0, oo))"
      ]
     },
     "metadata": {},
     "output_type": "display_data"
    }
   ],
   "source": [
    "from sympy import symbols, Sum, oo\n",
    "k, s = symbols('k s')\n",
    "p = symbols('p')  # シンボルとしての確率\n",
    "G = Sum(p * s**k, (k, 0, oo))  # 確率母関数の定義\n",
    "print(\"確率母関数(s = 1):\")\n",
    "display(G.subs(s, 1))"
   ]
  },
  {
   "cell_type": "markdown",
   "id": "55532cf1",
   "metadata": {},
   "source": [
    "式(1)が表現できています。\n",
    "\n",
    "## 解析的な分析\n",
    "\n",
    "　確率母関数がどのように確率関数の性質を表現してくれるのでしょうか。確率母関数は、各値 $k$ に対する確率 $p(k)$ を $s$ のべき級数とすることで、確率変数の確率分布に関する情報を表現しています。\n",
    " \n",
    "![image.png](https://qiita-image-store.s3.ap-northeast-1.amazonaws.com/0/267055/65e77fe8-d182-583e-cdad-ed469f2f1635.png)\n",
    " \n",
    "\n",
    "### 母関数の基本的な振る舞い\n",
    "異なる $s$ 値における確率母関数の振る舞いを観察します。\n",
    "\n",
    "#### ベルヌーイ分布\n",
    "\n",
    "ベルヌーイ分布を例に見ていきます。ベルヌーイ確率変数 $X$ の確率関数は以下のようになります。\n",
    "\n",
    "$X = 0$ のとき(失敗確率)：$q=1 - p$    \n",
    "$X = 1$ のとき(成功確率)：$p$　　　　\n",
    "\n",
    "確率母関数 $G(s)$ は、これらの確率質量を $s$ の各乗数で重み付けした和として定義されます。\n",
    "\n",
    "$$G(s) = E(s^X)= \\sum_{k=0,1}(s^kp(k))=qs^0 + ps^1= q + ps$$\n",
    "\n",
    "この式を解析的に分析することで、異なる $s$ 値における確率母関数の振る舞いを観察できます。例として、いくつかの $s$ 値に対する確率母関数の値を計算してみましょう：\n",
    "\n",
    "$s=0$ の場合：$G(0)=p+q⋅0=p$\n",
    "\n",
    "この結果から、確率母関数 $G(s)$ は $s=0$ のとき、成功確率 $p$ に等しいことがわかります。\n",
    "\n",
    "$s=1$ の場合：$G(1)=p+q⋅1=p+q=1$\n",
    "\n",
    "この結果から、確率母関数 $G(s)$ は $s=1$ のとき、確率の合計が1になることがわかります。\n",
    "\n",
    "$s=-1$ の場合：$G(−1)=p+q⋅(−1)=p−q$\n",
    "\n",
    "この結果から、確率母関数 $G(s)$ は $s=-1$ のとき、成功確率と失敗確率の差に等しいことがわかります。これにより、ベルヌーイ分布の確率母関数を解析的に計算し、異なる $s$ 値における振る舞いを理解することができます。\n",
    "\n",
    "### 確率母関数の便利な役割\n",
    "\n",
    "確率母関数は、\n",
    "- 変数の変換と合成分布の解析、 \n",
    "- 期待値と分散の導出、\n",
    "- 異なる性質の解析、\n",
    "- 漸近理論への応用で重要な役割を果たします。\n",
    "\n",
    "　独立な確率変数の和や積の確率母関数を簡単に求めることができます。また、確率変数のモーメント（期待値、分散など）を確率母関数を微分することで効率的に計算できます。\n",
    "\n",
    "### 分数と合成関数の微分\n",
    "\n",
    "このような分析を実行するためには分数の微分と合成関数の微分の基礎知識が必要です。\n",
    "\n",
    "- **分数の微分**\n",
    "\n",
    "　分数の微分は、分子と分母それぞれを微分し、それを元にして導関数を求める操作です。一般的な分数 $y= \\frac{f(x)}{g(x)}$の微分は以下のようになります。\n",
    " \n",
    "分子関数$f(x)$ および分母関数$g(x)$ を用意します。  \n",
    "分子関数$f(x)$を$x$で微分し、導関数$f'(x)$ を求めます。  \n",
    "分母関数$g(x)$を$x$で微分し、導関数$g'(x)$ を求めます。  \n",
    "  \n",
    "\n",
    "導関数$f'(x)$および $g'(x)$を用いて、分数の導関数 $y'$を計算します。\n",
    "\n",
    "$$y'=\\frac{f'(x)⋅g(x)−f(x)⋅g'(x)}{(g(x))^2}$$\n",
    " \n",
    "この手順に従って、与えられた分数の導関数を計算できます。分子と分母それぞれを微分し、その結果を用いて導関数を求めることになります。\n",
    "\n",
    "- **合成関数の微分**\n",
    "\n",
    "　合成関数の微分は、外側の関数$f(u)$ と内部の関数$u=g(x)$ に対して以下のように計算されます。\n",
    "$$\\frac{d}{dx}[g(h(x))]=g'(h(x))⋅h'(x)$$\n",
    "\n",
    "ここで、$g'(h(x))$ は外側の関数$g(u)$を u=h(x) で微分したものであり、$h'(x)$ は内部の関数 $h(x)$ を $x$ で微分したものです。\n",
    "\n",
    "### 期待値と分散\n",
    "\n",
    "期待値、分散などを効率的に計算できます。例えば、$G(s)$ の1階微分を $s=1$ で評価することで、確率変数の期待値（平均）を求めることができます。\n",
    " \n",
    " $\\frac{dG(s)}{ds}=\\frac{dE(k^X)}{dx}=E(Xk^{X-1})$\n",
    " \n",
    "これに$s=1$を代入すると$E(X)$となります。同様に、2階微分を用いると分散を求めることができます。\n",
    "\n",
    "$\\frac{dG'(s)}{ds}=\\frac{dE(Xk^{X-1})}{dx}=E(X(X-1)k^{X-2})$\n",
    "\n",
    "これにs=1を代入すると$E[X(X-1)]$となります。これから$Var(X)=E[X(X-1)]+E(X)-[E(X)]^2=E[X^2]-[E(X)]^2$が得られます。\n",
    "\n",
    "#### ベルヌーイ分布\n",
    "\n",
    "ベルヌーイ確率変数 $X$ の確率母関数 $G(s)$ は、\n",
    "\n",
    "$G(s) = (1 - p)s^0 + ps^1= 1 - p + ps$\n",
    "\n",
    "となります。\n",
    "\n",
    "$G(s) = (1 - p)s^0 + ps^1$ の1階微分を求めるには、各項に関して微分を行います。$1 - p$ は定数項なので、その微分は0です。$ps^1$ の微分は $p$ です。これらを合計すると、1階微分 $dG/ds$ は $p$ になります。$G'(s)=E(X)=p$\n",
    "\n",
    "$G(s) = (1 - p)s^0 + ps^1$ の2階微分を求めるには、1階微分に対してさらに微分を行います。1階微分 $dG/ds$ は $p$ ですが、これは定数です。定数の微分は0になるので、2階微分 $d^2G/ds^2$ は 0 になります。$G\"(s)=E(X(X-1)=0$、よって、$Var(X)=E(X^2)-E(X)+E(X)-[E(X)]^2=0+p-p^2=p(1-p)$"
   ]
  },
  {
   "cell_type": "code",
   "execution_count": 9,
   "id": "3c388513",
   "metadata": {},
   "outputs": [
    {
     "name": "stdout",
     "output_type": "stream",
     "text": [
      "確率母関数 G(s): p*s - p + 1\n"
     ]
    },
    {
     "data": {
      "text/plain": [
       "'1階の微分      :'"
      ]
     },
     "metadata": {},
     "output_type": "display_data"
    },
    {
     "data": {
      "text/latex": [
       "$\\displaystyle p$"
      ],
      "text/plain": [
       "p"
      ]
     },
     "metadata": {},
     "output_type": "display_data"
    },
    {
     "data": {
      "text/plain": [
       "'2階の微分      :'"
      ]
     },
     "metadata": {},
     "output_type": "display_data"
    },
    {
     "data": {
      "text/latex": [
       "$\\displaystyle 0$"
      ],
      "text/plain": [
       "0"
      ]
     },
     "metadata": {},
     "output_type": "display_data"
    },
    {
     "data": {
      "text/plain": [
       "'期待値 E[X]    :'"
      ]
     },
     "metadata": {},
     "output_type": "display_data"
    },
    {
     "data": {
      "text/latex": [
       "$\\displaystyle p$"
      ],
      "text/plain": [
       "p"
      ]
     },
     "metadata": {},
     "output_type": "display_data"
    },
    {
     "data": {
      "text/plain": [
       "'分散 Var[X]    :'"
      ]
     },
     "metadata": {},
     "output_type": "display_data"
    },
    {
     "data": {
      "text/latex": [
       "$\\displaystyle p \\left(1 - p\\right)$"
      ],
      "text/plain": [
       "p*(1 - p)"
      ]
     },
     "metadata": {},
     "output_type": "display_data"
    }
   ],
   "source": [
    "import sympy as sp\n",
    "# 変数と確率変数を定義\n",
    "s, p = symbols('s p')\n",
    "k_values = [0, 1]  # ベルヌーイ分布の取りうる値\n",
    "# ベルヌーイ分布の確率母関数\n",
    "G =(1-p) * s**k_values[0] + p * s**k_values[1]\n",
    "print(\"確率母関数 G(s):\",G)\n",
    "#1階の微分\n",
    "dG= G.diff(s,1)\n",
    "display(\"1階の微分      :\",dG)\n",
    "dG2= G.diff(s,2)\n",
    "display(\"2階の微分      :\",dG2)\n",
    "display(\"期待値 E[X]    :\", dG.subs(s, 1))\n",
    "display('分散 Var[X]    :', sp.simplify(dG2.subs(s, 1)+dG.subs(s, 1) - dG.subs(s, 1)**2))"
   ]
  },
  {
   "cell_type": "markdown",
   "id": "cd93c568",
   "metadata": {},
   "source": [
    "#### 幾何分布\n",
    "\n",
    "幾何分布の確率関数は以下のようになります：\n",
    "\n",
    "$$P(X=k)=(1−p)^{k−1}p$$\n",
    "\n",
    "ここで、$X$は幾何分布に従う確率変数、$k$は初めて成功するまでの試行回数（非負整数）、$p$は成功確率です。この分布は、最初の成功が得られるまでの試行回数がどれだけかを表現します。\n",
    "\n",
    "幾何分布の確率母関数は次のように表されます：\n",
    "\n",
    "$$G(s)=E(s^X)=\\sum_{k=1}^\\infty s^k(1−p)^{k−1}p=\\frac{p}{1−(1−p)s}$$\n",
    "\n",
    "$G(s) = \\frac{p}{1−(1−p)s}$ の1階微分を求めるには、分数の微分を使います。\n",
    "\n",
    "まず$f(s)=p$と$g(s)=1−(1−p)s$とすると\n",
    "\n",
    "$y'=\\frac{f'(s)⋅g(s)−f(s)⋅g'(s)}{(g(s))^2}$になります。\n",
    "\n",
    "$f'(s)=0$,$g'(s)=p-1$より、$y'=\\frac{p(1-p)}{[1−(1−p)s]^2}$\n",
    "\n",
    "$G(s) = \\frac{p}{1−(1−p)s}$ の2階微分を求めるには、分数の微分と合成関数の微分を用います。\n",
    "\n",
    "$f_2(s)=p(1-p)$  \n",
    "$g_2(s)=h(s)^2$   \n",
    "$h(s)=1−(1−p)s$とすると\n",
    "\n",
    "$f_2'(s)=0$,$g_2'(s)=2h(s)$,$h'(s)=p-1$より、\n",
    "\n",
    "$y\"=\\frac{0−f_2(s)⋅g_2'(h(s))h'(s)}{(g_2(s))^2}=$\n",
    "$\\frac{-p(1-p)2(1−(1−p)s)(p-1)}{h(s)^4}=$\n",
    "$\\frac{(1−(1−p)s)2p(p-1)^2}{(1−(1−p)s)^4}=$\n",
    "$\\frac{2p(p-1)^2}{(1−(1−p)s)^3}$"
   ]
  },
  {
   "cell_type": "code",
   "execution_count": 3,
   "id": "af9f72d2",
   "metadata": {},
   "outputs": [
    {
     "data": {
      "text/plain": [
       "'1階の微分      :'"
      ]
     },
     "metadata": {},
     "output_type": "display_data"
    },
    {
     "data": {
      "text/latex": [
       "$\\displaystyle - \\frac{p \\left(p - 1\\right)}{\\left(s \\left(p - 1\\right) + 1\\right)^{2}}$"
      ],
      "text/plain": [
       "-p*(p - 1)/(s*(p - 1) + 1)**2"
      ]
     },
     "metadata": {},
     "output_type": "display_data"
    },
    {
     "data": {
      "text/plain": [
       "'2階の微分      :'"
      ]
     },
     "metadata": {},
     "output_type": "display_data"
    },
    {
     "data": {
      "text/latex": [
       "$\\displaystyle \\frac{2 p \\left(p - 1\\right)^{2}}{\\left(s \\left(p - 1\\right) + 1\\right)^{3}}$"
      ],
      "text/plain": [
       "2*p*(p - 1)**2/(s*(p - 1) + 1)**3"
      ]
     },
     "metadata": {},
     "output_type": "display_data"
    },
    {
     "data": {
      "text/plain": [
       "'期待値 E[X]    :'"
      ]
     },
     "metadata": {},
     "output_type": "display_data"
    },
    {
     "data": {
      "text/latex": [
       "$\\displaystyle - \\frac{p - 1}{p}$"
      ],
      "text/plain": [
       "-(p - 1)/p"
      ]
     },
     "metadata": {},
     "output_type": "display_data"
    },
    {
     "data": {
      "text/plain": [
       "'分散 Var[X]    :'"
      ]
     },
     "metadata": {},
     "output_type": "display_data"
    },
    {
     "data": {
      "text/latex": [
       "$\\displaystyle \\frac{1 - p}{p^{2}}$"
      ],
      "text/plain": [
       "(1 - p)/p**2"
      ]
     },
     "metadata": {},
     "output_type": "display_data"
    }
   ],
   "source": [
    "p = symbols('p', real=True, positive=True)  # 成功確率\n",
    "\n",
    "# 幾何分布の確率母関数の定義\n",
    "G = Sum(p * (1 - p)**k * s**k, (k, 0, oo))\n",
    "G = p/(1-(1-p)*s)\n",
    "\n",
    "#1階の微分\n",
    "dG= sp.simplify(G.diff(s,1))\n",
    "display(\"1階の微分      :\",dG)\n",
    "dG2= sp.simplify(G.diff(s,2))\n",
    "display(\"2階の微分      :\",dG2)\n",
    "# 期待値 E[X]\n",
    "E_X = dG.subs(s, 1)\n",
    "display(\"期待値 E[X]    :\", E_X)\n",
    "display('分散 Var[X]    :', sp.simplify(dG2.subs(s, 1)+E_X - E_X**2))"
   ]
  },
  {
   "cell_type": "markdown",
   "id": "382de8f4",
   "metadata": {},
   "source": [
    "#### 二項分布\n",
    "\n",
    "2項分布（二項分布）の確率関数は以下のように表現されます：\n",
    "\n",
    "確率関数：\n",
    "$$P(X = k) = \\binom{n}{k} p^k (1 - p)^{n - k} $$\n",
    "\n",
    "ここで、$n$ は試行回数、$k$ は成功回数、$p$ は1回の試行で成功する確率です。また、\\$\\binom{n}{k}$ は二項係数を表します。\n",
    "\n",
    "確率関数から確率母関数を得る式変形の過程を示します。\n",
    "\n",
    "$G(s) = \\sum_{k=0}^\\infty s^k P(k)  = \\sum_{k=0}^\\infty s^k \\binom{n}{k} p^k (1 - p)^{n - k}= \\sum_{k=0}^\\infty \\binom{n}{k} (ps)^k (1 - p)^{n - k}=\\binom{n}{0} (ps)^0 (1 - p)^{n - 0} + \\binom{n}{1} (ps)^1 (1 - p)^{n - 1} + \\binom{n}{2} (ps)^2 (1 - p)^{n - 2} + \\ldots $\n",
    "\n",
    "これは2項定理により$[(ps) + (1 - p)]^n$を展開する得られます：\n",
    "\n",
    "$[(ps) + (1 - p)]^n = \\binom{n}{0} (ps)^0 (1 - p)^{n - 0} + \\binom{n}{1} (ps)^1 (1 - p)^{n - 1} + \\binom{n}{2} (ps)^2 (1 - p)^{n - 2} + \\ldots$\n",
    "\n",
    "したがって、上記の展開は実際には確率母関数 $G(s)$ の式そのものです。このように、指数関数のべき乗の和の形を利用することで、確率母関数 $G(s)$ の式を簡略化できます。\n",
    "\n",
    "$ G(s) = (ps + 1 - p)^n $\n",
    "\n",
    "これが2項分布の確率母関数です。\n",
    "\n",
    "この形に基づいて、期待値 $E[X]$ および分散 $\\text{Var}[X]$ を求めてみましょう。\n",
    "\n",
    "まず、期待値 $E[X]$ です。確率母関数の一階微分を $s = 1$ で評価します：\n",
    "\n",
    "$$E[X] = \\frac{dG}{ds} \\bigg|_{s=1} = n(ps + (1-p))^{n-1} \\cdot p \\bigg|_{s=1} = np $$\n",
    "\n",
    "次に、分散 $\\text{Var}[X]$ を求めます。確率母関数の二階微分を $s = 1$ で評価します：\n",
    "\n",
    "$$E[X^2] = \\frac{d^2G}{ds^2} \\bigg|_{s=1} = n(n-1)(ps + (1-p))^{n-2} \\cdot p \\bigg|_{s=1} = n(n-1)p^2 + np(1-p)$$\n",
    "\n",
    "そして、分散は以下のように計算されます：\n",
    "\n",
    "$$\\text{Var}[X] = E[X^2] - (E[X])^2 = n(n-1)p^2 + np(1-p) - (np)^2 = np(1-p)$$"
   ]
  },
  {
   "cell_type": "code",
   "execution_count": 4,
   "id": "d3cb2049",
   "metadata": {},
   "outputs": [
    {
     "data": {
      "text/plain": [
       "'期待値 E[X]:'"
      ]
     },
     "metadata": {},
     "output_type": "display_data"
    },
    {
     "data": {
      "text/latex": [
       "$\\displaystyle n p$"
      ],
      "text/plain": [
       "n*p"
      ]
     },
     "metadata": {},
     "output_type": "display_data"
    },
    {
     "data": {
      "text/plain": [
       "'分散 Var[X]:'"
      ]
     },
     "metadata": {},
     "output_type": "display_data"
    },
    {
     "data": {
      "text/latex": [
       "$\\displaystyle n p \\left(1 - p\\right)$"
      ],
      "text/plain": [
       "n*p*(1 - p)"
      ]
     },
     "metadata": {},
     "output_type": "display_data"
    }
   ],
   "source": [
    "from sympy import symbols, diff\n",
    "\n",
    "# 変数とパラメータの定義\n",
    "n, k, p, s = symbols('n k p s')\n",
    "\n",
    "# 確率母関数の定義\n",
    "G = (p*s + (1-p))**n\n",
    "\n",
    "# 期待値の計算\n",
    "E_X = diff(G, s).subs(s, 1)  # 一階微分をs=1で評価\n",
    "E_X_squared = diff(G, s, 2).subs(s, 1)  # 二階微分をs=1で評価\n",
    "Var_X = E_X_squared +E_X- E_X**2\n",
    "\n",
    "# 結果の表示\n",
    "display(\"期待値 E[X]:\", E_X)\n",
    "display(\"分散 Var[X]:\", sp.simplify(Var_X))"
   ]
  },
  {
   "cell_type": "markdown",
   "id": "da341433",
   "metadata": {},
   "source": [
    "#### ポアソン分布\n",
    "\n",
    "ポアソン分布の確率関数は以下のように表されます：\n",
    "\n",
    "$$P(X = k) = \\frac{e^{-\\lambda} \\lambda^k}{k!}$$\n",
    "\n",
    "ここで、$X$ は事象の数、$k$ は具体的な事象の数、$\\lambda$ は平均発生回数です。確率関数は、ある特定の期間や空間内での事象の数が $k$ 回となる確率を表しています。\n",
    "\n",
    "確率母関数を求める過程は以下の通りです。\n",
    "\n",
    "まず、確率母関数 $G(s)$ の定義に基づいて確率関数をべき級数で表現します：\n",
    "\n",
    "$$G(s) = \\sum_{k=0}^\\infty s^k P(k) = \\sum_{k=0}^\\infty s^k \\frac{e^{-\\lambda} \\lambda^k}{k!}$$\n",
    "\n",
    "この式は指数関数とべき乗の和であるため、指数関数の級数展開を利用して簡略化します。指数関数の級数展開は次のようになります：\n",
    "\n",
    "$$e^x = \\sum_{k=0}^\\infty \\frac{x^k}{k!}$$\n",
    "\n",
    "したがって、確率母関数 $G(s)$ は次のようになります：\n",
    "\n",
    "$$G(s) = \\sum_{k=0}^\\infty \\frac{(s\\lambda)^k e^{-\\lambda}}{k!} = e^{-\\lambda} \\sum_{k=0}^\\infty \\frac{(s\\lambda)^k}{k!} = e^{\\lambda(s-1)}$$\n",
    "\n",
    "確率母関数から平均を求めるには、確率母関数を $s=1$ で微分します。\n",
    "\n",
    "平均 $E[X]$ の計算:\n",
    "$$E[X] = \\frac{dG}{ds} \\bigg|_{s=1} = \\frac{d}{ds} e^{\\lambda(s-1)} \\bigg|_{s=1} = \\lambda e^{\\lambda(1-1)} = \\lambda$$\n",
    "\n",
    "次に、確率母関数から分散を求めるためには、確率母関数の二階微分を $s=1$ で計算します。\n",
    "\n",
    "分散 $\\text{Var}[X]$ の計算:\n",
    "$$E[X(X-1)] = \\frac{d^2G}{ds^2} \\bigg|_{s=1} = \\frac{d^2}{ds^2} e^{\\lambda(s-1)} \\bigg|_{s=1} = \\lambda^2 e^{\\lambda(1-1)} = \\lambda^2$$\n",
    "\n",
    "そして、分散は以下のように計算されます：\n",
    "$$\\text{Var}[X] = E[X(X-1)] +E[X]- (E[X])^2 = \\lambda^2+\\lambda - \\lambda^2 = \\lambda$$\n",
    "\n",
    "したがって、ポアソン分布の平均は $\\lambda$ であり、分散も $\\lambda^2$ です。"
   ]
  },
  {
   "cell_type": "code",
   "execution_count": 5,
   "id": "fa395a0f",
   "metadata": {},
   "outputs": [
    {
     "data": {
      "text/plain": [
       "'母関数:'"
      ]
     },
     "metadata": {},
     "output_type": "display_data"
    },
    {
     "data": {
      "text/latex": [
       "$\\displaystyle e^{λ \\left(s - 1\\right)}$"
      ],
      "text/plain": [
       "exp(λ*(s - 1))"
      ]
     },
     "metadata": {},
     "output_type": "display_data"
    },
    {
     "data": {
      "text/plain": [
       "'平均 E[X]:'"
      ]
     },
     "metadata": {},
     "output_type": "display_data"
    },
    {
     "data": {
      "text/latex": [
       "$\\displaystyle λ$"
      ],
      "text/plain": [
       "λ"
      ]
     },
     "metadata": {},
     "output_type": "display_data"
    },
    {
     "data": {
      "text/plain": [
       "'分散 Var[X]:'"
      ]
     },
     "metadata": {},
     "output_type": "display_data"
    },
    {
     "data": {
      "text/latex": [
       "$\\displaystyle λ$"
      ],
      "text/plain": [
       "λ"
      ]
     },
     "metadata": {},
     "output_type": "display_data"
    }
   ],
   "source": [
    "from sympy import symbols, Sum, exp, factorial\n",
    "\n",
    "# 変数とパラメータの定義\n",
    "k, s, λ = symbols('k s λ')\n",
    "\n",
    "# ポアソン分布の確率関数\n",
    "P_X = exp(-λ) * λ**k / factorial(k)\n",
    "\n",
    "# 確率母関数の定義と計算\n",
    "G = Sum(s**k * P_X, (k, 0, oo))\n",
    "G = G.doit()\n",
    "\n",
    "# 確率母関数の表示\n",
    "display(\"母関数:\",sp.simplify(G))\n",
    "\n",
    "# 平均の計算\n",
    "E_X = diff(G, s).subs(s, 1)\n",
    "\n",
    "# 分散の計算\n",
    "Var_X = diff(G, s, 2).subs(s, 1) + E_X - E_X**2\n",
    "\n",
    "# 結果の表示\n",
    "display(\"平均 E[X]:\", E_X)\n",
    "display(\"分散 Var[X]:\", Var_X)"
   ]
  },
  {
   "cell_type": "markdown",
   "id": "6cece8c6",
   "metadata": {},
   "source": [
    "# モーメント母関数(積率母関数)\n",
    "\n",
    "モーメント母関数は、確率変数の分布を特徴付けるもう一つの重要な数学的手法です。確率変数の分布の特性を、その確率変数のべき乗の期待値の列（モーメント）として捉えます。モーメント母関数 $M(t)$ は、次のように定義されます：\n",
    "\n",
    "$$M(t) = E[e^{tx}]$$\n",
    "\n",
    "ここで、$E$ は期待値を意味し、$x$ は確率変数を示します。パラメータ $t$ は任意の実数です。\n",
    "\n",
    "例えば、$M(t)$ を $t$ のべき級数として展開すると、次のようになります：\n",
    "\n",
    "$$M(t) = E[e^{tx}] = 1 + tE[x] + \\frac{t^2}{2!}E[x^2] + \\frac{t^3}{3!}E[x^3] + \\ldots$$\n",
    "\n",
    "この展開から、$E[x]$ は一次モーメント（平均）、$E[x^2]$ は二次モーメント（分散）、$E[x^3]$ は三次モーメント（歪度）といった形でモーメントを求めることができます。\n",
    "\n",
    "モーメント母関数（MGF）は非常に強力な数学的手法であり、確率変数や確率分布の多くの特性を網羅的に理解するための鍵です。特に以下のような点でその有用性が際立っています。\n",
    "\n",
    "1. **簡便性**\n",
    "2. **和の分布**\n",
    "3. **定理としての利用**\n",
    "4. **分布の同一性の判定**\n",
    "5. **多変量分布**\n",
    "\n",
    "そのため、モーメント母関数は確率論や統計学、さらには金融工学、信号処理、機械学習といった多くの応用分野で広く用いられています。\n",
    "\n",
    "モーメント母関数は一般的に確率変数のすべてのモーメントを捉えることができますが、すべての確率分布に対してモーメント母関数が存在するわけではありません。確率変数の分布が無限に発散する場合や、特定の領域で定義されない場合などには適用できません。\n",
    "\n",
    "モーメント母関数は、特に以下のような分布に対してよく使われます：\n",
    "\n",
    "1. **正規分布（ガウス分布）**\n",
    "2. **指数分布**\n",
    "3. **ポアソン分布**\n",
    "4. **ガンマ分布**\n",
    "5. **ベータ分布**\n",
    "\n",
    "これ以外にも、多くの確率分布においてモーメント母関数が有用な情報を提供します。\n",
    "\n",
    "## モーメント母関数の導出\n",
    "\n",
    "### 正規分布\n",
    "\n",
    "正規分布の確率密度関数（pdf）は\n",
    "\n",
    "$$\n",
    "f(x) = \\frac{1}{\\sqrt{2\\pi}\\sigma} e^{-\\frac{(x-\\mu)^2}{2\\sigma^2}}\n",
    "$$\n",
    "\n",
    "と定義されます。モーメント母関数 $M(t)$ は次のように定義されます。\n",
    "\n",
    "$$\n",
    "\\begin{aligned}\n",
    "M(t) &= E[e^{tx}] = \\int_{-\\infty}^{\\infty} e^{tx} f(x) \\, dx = \\int_{-\\infty}^{\\infty} e^{tx} \\frac{1}{\\sqrt{2\\pi}\\sigma} e^{-\\frac{(x-\\mu)^2}{2\\sigma^2}}  dx\\\\\n",
    " &= \\frac{1}{\\sqrt{2\\pi}\\sigma} \\int_{-\\infty}^{\\infty} e^{-\\frac{1}{2\\sigma^2} (x^2 - 2\\mu x + \\mu^2) + tx} \\, dx\n",
    "\\end{aligned}\n",
    "$$\n",
    "\n",
    "指数部分を整理し、完全平方にすると、\n",
    "\n",
    "$$\n",
    "\\begin{aligned}\n",
    "M(t) &= \\frac{1}{\\sqrt{2\\pi}\\sigma} \\int_{-\\infty}^{\\infty} e^{-\\frac{1}{2\\sigma^2}[x - (\\mu + \\sigma^2 t)]^2 + \\mu t + \\sigma^2 t^2}, dx\\\\\n",
    "&= \\frac{1}{\\sqrt{2\\pi}\\sigma} e^{\\mu t + \\frac{\\sigma^2 t^2}{2}} \\int_{-\\infty}^{\\infty} e^{-\\frac{1}{2\\sigma^2} [(x - \\mu - \\sigma^2 t)^2]} \\, dx\n",
    "\\end{aligned}\n",
    "$$\n",
    "\n",
    "ここで正規分布の確率密度関数の積分が1である、という性質と一般的なガウス積分$\\int_{-\\infty}^{\\infty} e^{-ax^2} \\, dx = \\sqrt{\\frac{\\pi}{a}} ( a > 0 )$から\n",
    "$\n",
    "\\int_{-\\infty}^{\\infty} e^{-\\frac{1}{2\\sigma^2} ((x - \\mu - \\sigma^2 t)^2)} \\, dx = \\sqrt{2\\pi} \\sigma\n",
    "$の値を代入すると、モーメント母関数 $M(t)$ は次のようになります。\n",
    "\n",
    "$$\n",
    "M(t) = e^{\\mu t + \\frac{1}{2}\\sigma^2 t^2}\n",
    "$$\n",
    "\n",
    "\n",
    "### 指数分布\n",
    "\n",
    "指数分布の確率関数は以下のように表されます：\n",
    "\n",
    "$$f(x) = \\lambda e^{-\\lambda x}$$\n",
    "\n",
    "ここで、$x$ は確率変数の値、$\\lambda$ は正の定数です。\n",
    "\n",
    "指数分布のモーメント母関数を導出するために、確率関数からモーメント母関数の定義を用いて計算します。\n",
    "\n",
    "$$M(t) = E[e^{tx}]= \\int_{0}^{\\infty} e^{tx} \\lambda e^{-\\lambda x} dx= \\lambda \\int_{0}^{\\infty} e^{(t - \\lambda) x} dx = \\frac{\\lambda}{t - \\lambda} \\left[-e^{(t - \\lambda) x}\\right]_{0}^{\\infty}$$\n",
    "\n",
    "上限が無限大のため、指数関数が0に収束することから次のようになります：\n",
    "$$M(t) = \\frac{\\lambda}{\\lambda - t} \\cdot 0 - \\frac{\\lambda}{t - \\lambda} \\cdot (-1) = \\frac{\\lambda}{\\lambda - t}$$\n",
    "\n",
    "注意点としてこのモーメント母関数が $(t < \\lambda)$ のときにのみ存在します。\n",
    "\n",
    "\n",
    "### ポアソン分布\n",
    "\n",
    "ポアソン分布の確率関数は以下のように表されます：\n",
    "\n",
    "$$P(X = k) = \\frac{e^{-\\lambda} \\lambda^k}{k!}$$\n",
    "\n",
    "モーメント母関数は次のように定義されます：\n",
    "\n",
    "$$M_X(t) = E[e^{tx}] = \\sum_{k=0}^\\infty e^{tk} \\cdot \\frac{e^{-\\lambda} \\lambda^k}{k!} = \\sum_{k=0}^\\infty \\frac{e^{tk} e^{-\\lambda} \\lambda^k}{k!}\n",
    "= \\sum_{k=0}^\\infty \\frac{(e^t \\lambda)^k}{k!} \\cdot e^{-\\lambda} = e^{-\\lambda} \\sum_{k=0}^\\infty \\frac{(e^t \\lambda)^k}{k!}\n",
    "$$\n",
    "\n",
    "最後の式は、指数関数のテイラー展開 $(e^x = \\sum_{n=0}^\\infty \\frac{x^n}{n!})$ の形になっています。よって、\n",
    "\n",
    "$$\n",
    "M_X(t) = e^{-\\lambda} e^{\\lambda e^t} = e^{\\lambda(e^t - 1)}\n",
    "$$\n",
    "\n",
    "と簡約できます。"
   ]
  },
  {
   "cell_type": "markdown",
   "id": "fba81853",
   "metadata": {},
   "source": [
    "### ガンマ分布\n",
    "\n",
    "ガンマ分布の確率密度関数（pdf）は以下のように与えられます。\n",
    "\n",
    "$$\n",
    "f(x; a, b) = \\frac{x^{a-1} e^{-\\frac{x}{b}}}{b^a \\Gamma(a)}\n",
    "$$\n",
    "\n",
    "この分布に対するモーメント母関数（MGF）$ M(t) $は以下のように定義されます。\n",
    "\n",
    "$$\n",
    "M(t) = \\mathbb{E}[e^{tX}] = \\int_{0}^{\\infty} e^{tx} f(x; a, b) dx\n",
    "$$\n",
    "\n",
    "この式にガンマ分布のpdfを代入すると、\n",
    "\n",
    "$$\n",
    "M(t) = \\int_{0}^{\\infty} e^{tx} \\frac{x^{a-1} e^{-\\frac{x}{b}}}{b^a \\Gamma(a)} dx\n",
    "$$\n",
    "\n",
    "ここで、積分の中を整理してみましょう。\n",
    "\n",
    "$$\n",
    "\\begin{aligned}\n",
    "M(t) &= \\frac{1}{b^a \\Gamma(a)} \\int_{0}^{\\infty} x^{a-1} e^{(t - \\frac{1}{b})x} dx \\\\\n",
    "&= \\frac{1}{b^a \\Gamma(a)} \\int_{0}^{\\infty} x^{a-1} e^{-(\\frac{1}{b} - t)x} dx\n",
    "\\end{aligned}\n",
    "$$\n",
    "\n",
    "この積分は、$ \\frac{1}{b} - t > 0 $、つまり $ t < \\frac{1}{b} $ のときにのみ成立します。ここで、$u=(1/b-t)x$と置くと、$dx/du=1/(1/b-t)$となります。よって、\n",
    "\n",
    "$$\n",
    "\\begin{aligned}\n",
    "\\int_{0}^{\\infty} x^{a-1} e^{-(\\frac{1}{b}-t)x} dx &=  \n",
    "\\int_{0}^{\\infty} \\left(\\frac{u}{\\frac{1}{b}-t}\\right)^{a-1} e^{-u}\\left(\\frac{1}{\\frac{1}{b}-t}\\right) du\\\\\n",
    "&=\\left(\\frac{b^a}{(1-b t)^a}\\right)\\int_{0}^{\\infty}u^{a-1}  e^{-u} du\n",
    "\\end{aligned}\n",
    "$$\n",
    "\n",
    "\n",
    "次に、ガンマ関数の定義を用いてこの積分を評価します。ガンマ関数は\n",
    "\n",
    "$$\n",
    "\\Gamma(a) = \\int_{0}^{\\infty} x^{a-1} e^{-x} dx\n",
    "$$\n",
    "\n",
    "であり、積分の結果に $ \\frac{1}{b^a \\Gamma(a)} $ を掛け合わせると、\n",
    "\n",
    "$$\n",
    "M(t) = \\left( 1 - b t \\right)^{-a}\n",
    "$$\n",
    "\n",
    "となります（但し、$ t < \\frac{1}{b} $）。このように、ガンマ分布のモーメント母関数 $ M(t) $ は $ (1 - b t)^{-a} $ であり、その有効範囲は $ t < \\frac{1}{b} $ です。"
   ]
  },
  {
   "cell_type": "markdown",
   "id": "3362b053",
   "metadata": {},
   "source": [
    "### ベータ分布\n",
    "\n",
    "ベータ分布の確率密度関数（pdf）は次のように定義されます：\n",
    "\n",
    "$$\n",
    "f(x; \\alpha, \\beta) = \\frac{x^{\\alpha-1}(1-x)^{\\beta-1}}{B(\\alpha, \\beta)}\n",
    "$$\n",
    "ここで $ B(\\alpha, \\beta) $ はベータ関数であり、$ B(\\alpha, \\beta) = \\int_0^1 t^{\\alpha-1}(1-t)^{\\beta-1} dt $ です。\n",
    "\n",
    "モーメント母関数 $ M(t) $ は次のように定義されます：\n",
    "\n",
    "$$\n",
    "M(t) = \\mathrm{E}[e^{tX}] = \\int_{0}^{1} e^{tx} f(x) \\, dx\n",
    "$$\n",
    "\n",
    "この式にベータ分布のpdfを代入すると、\n",
    "\n",
    "$$\n",
    "M(t) = \\int_{0}^{1} e^{tx} \\frac{x^{\\alpha-1}(1-x)^{\\beta-1}}{B(\\alpha, \\beta)} \\, dx\n",
    "$$\n",
    "\n",
    "この積分は一般的な形では解析的に評価することは難しいです。しかし、特定のパラメータ $ \\alpha, \\beta $ の値に対しては解が存在する場合があります。\n",
    "\n",
    "一般的な解は、この式を畳み込みや特殊関数を用いて評価することが多いです。具体的には、積分を計算するためにガンマ関数や超幾何関数などの特殊関数を用いることがあります。\n",
    "\n",
    "以上のように、ベータ分布のモーメント母関数を一般形で解析的に求めるのは非常に難しいのが一般的です。特殊なケースで求めることは可能ですが、一般的な形での解は通常は存在しないと考えられています。\n",
    "\n",
    "## 利便性\n",
    "\n",
    " MGFを用いれば、確率変数の各次のモーメント（平均、分散、歪度、尖度など）がMGFの導関数から簡単に得られます。\n",
    "\n",
    "### 平均と分散\n",
    "\n",
    "#### 正規分布\n",
    "\n",
    "正規分布のモーメント母関数（Moment Generating Function, MGF）は以下のように表されます：\n",
    "\n",
    "$$\n",
    "M(t) = e^{\\mu t + \\frac{1}{2}\\sigma^2 t^2}\n",
    "$$\n",
    "\n",
    "モーメント母関数を用いて平均（期待値）と分散を求めるには、モーメント母関数を$ t $に関して微分し、その後$ t=0 $を代入します。\n",
    "\n",
    "- 平均の計算\n",
    "\n",
    "平均（または一次モーメント、$\\mu$)は以下で計算されます：\n",
    "\n",
    "$$\n",
    "E[X] = M'(0)\n",
    "$$\n",
    "\n",
    "モーメント母関数$ M(t) $を$ t $で一回微分すると：\n",
    "\n",
    "$$\n",
    "M'(t) = \\mu e^{\\mu t + \\frac{1}{2}\\sigma^2 t^2} + \\sigma^2 t e^{\\mu t + \\frac{1}{2}\\sigma^2 t^2}\n",
    "$$\n",
    "\n",
    "これを$ t=0 $に代入すると、\n",
    "\n",
    "$$\n",
    "M'(0) = \\mu e^{\\mu \\cdot 0 + \\frac{1}{2}\\sigma^2 \\cdot 0} + \\sigma^2 \\cdot 0 e^{\\mu \\cdot 0 + \\frac{1}{2}\\sigma^2 \\cdot 0} = \\mu\n",
    "$$\n",
    "\n",
    "よって、平均（期待値）は$ \\mu $です。\n",
    "\n",
    "- 分散の計算\n",
    "\n",
    "分散（または二次中心モーメント、$\\sigma^2$)は以下で計算されます：\n",
    "\n",
    "$$\n",
    "\\text{Var}[X] = M''(0) - [M'(0)]^2\n",
    "$$\n",
    "\n",
    "モーメント母関数$ M(t) $を$ t $で二回微分すると：\n",
    "\n",
    "$$\n",
    "M''(t) = (\\mu^2 + \\sigma^2) e^{\\mu t + \\frac{1}{2}\\sigma^2 t^2} + 2\\mu \\sigma^2 t e^{\\mu t + \\frac{1}{2}\\sigma^2 t^2} + \\sigma^4 t^2 e^{\\mu t + \\frac{1}{2}\\sigma^2 t^2}\n",
    "$$\n",
    "\n",
    "これを$ t=0 $に代入すると、\n",
    "\n",
    "$$\n",
    "M''(0) = \\mu^2 + \\sigma^2\n",
    "$$\n",
    "\n",
    "よって、分散は\n",
    "\n",
    "$$\n",
    "\\text{Var}[X] = (\\mu^2 + \\sigma^2) - \\mu^2 = \\sigma^2\n",
    "$$\n",
    "\n",
    "#### 指数分布\n",
    "\n",
    "指数分布の確率密度関数（pdf）は次のように表されます：\n",
    "\n",
    "$$\n",
    "f(x;\\lambda) = \\lambda e^{-\\lambda x} \\quad (x \\geq 0, \\lambda > 0)\n",
    "$$\n",
    "\n",
    "指数分布のモーメント母関数（Moment Generating Function, MGF）は以下で定義されます：\n",
    "\n",
    "$ t < \\lambda $ のときに収束するため、この条件下で、\n",
    "\n",
    "$$\n",
    "M(t) = \\frac{\\lambda}{\\lambda - t}\n",
    "$$\n",
    "\n",
    "- 平均（期待値）の計算\n",
    "\n",
    "平均（または一次モーメント）は、モーメント母関数の $ t $ に関する一次導関数を $ t=0 $ に代入することで得られます：\n",
    "\n",
    "$$\n",
    "E[X] = M'(0)\n",
    "$$\n",
    "\n",
    "モーメント母関数 $ M(t) $ の一次導関数 $ M'(t) $ は、\n",
    "\n",
    "$$\n",
    "M'(t) = \\frac{-\\lambda}{(\\lambda - t)^2}\n",
    "$$\n",
    "\n",
    "これを $ t=0 $ に代入すると、\n",
    "\n",
    "$$\n",
    "M'(0) = -\\frac{\\lambda}{\\lambda^2} = -\\frac{1}{\\lambda}\n",
    "$$\n",
    "\n",
    "よって、平均（期待値）は $ \\frac{1}{\\lambda} $ です。\n",
    "\n",
    "- 分散の計算\n",
    "\n",
    "分散は、モーメント母関数の $ t $ に関する二次導関数を $ t=0 $ に代入して、平均の二乗を引くことで得られます：\n",
    "\n",
    "$$\n",
    "\\text{Var}[X] = M''(0) - (M'(0))^2\n",
    "$$\n",
    "\n",
    "$ M(t) $ の二次導関数 $ M''(t) $ は、\n",
    "\n",
    "$$\n",
    "M''(t) = \\frac{2\\lambda}{(\\lambda - t)^3}\n",
    "$$\n",
    "\n",
    "これを $ t=0 $ に代入すると、\n",
    "\n",
    "$$\n",
    "M''(0) = \\frac{2\\lambda}{\\lambda^3} = \\frac{2}{\\lambda^2}\n",
    "$$\n",
    "\n",
    "よって、分散は\n",
    "\n",
    "$$\n",
    "\\text{Var}[X] = \\frac{2}{\\lambda^2} - \\left(-\\frac{1}{\\lambda}\\right)^2 = \\frac{1}{\\lambda^2}\n",
    "$$\n",
    "\n",
    "以上から、指数分布の平均は $ \\frac{1}{\\lambda} $、分散は $ \\frac{1}{\\lambda^2} $ となります。モーメント母関数からこれらの値を求めることができました。\n",
    "\n",
    "#### ガンマ分布\n",
    "\n",
    "この確率分布のモーメント母関数（MGF）は以下のように求められます：\n",
    "$$\n",
    "M(t) = \\frac{1}{b^a \\Gamma(a)} \\Gamma(a, 1/b - t) b^a = (1 - b t)^{-a}\n",
    "$$\n",
    "\n",
    "- 平均（期待値）の計算\n",
    "\n",
    "平均は、モーメント母関数 $ M(t) $ の $ t $ に関する一次導関数を $ t = 0 $ に代入して求めます：\n",
    "\n",
    "$$\n",
    "E[X] = M'(0)\n",
    "$$\n",
    "\n",
    "$M'(t)$ を求めると、\n",
    "\n",
    "$$\n",
    "M'(t) = a(1 - b t)^{-a-1}(-b) = -ab (1 - b t)^{-a-1}\n",
    "$$\n",
    "\n",
    "この値を $ t = 0 $ に代入すると、\n",
    "\n",
    "$$\n",
    "E[X] = M'(0) = -ab (1 - 0)^{-a-1} = ab\n",
    "$$\n",
    "\n",
    "- 分散の計算\n",
    "\n",
    "分散は、$ M''(0) - (M'(0))^2 $ で求められます。先ず $ M''(t) $ を求めます：\n",
    "\n",
    "$$\n",
    "M''(t) = a(a+1)b^2 (1 - b t)^{-a-2}\n",
    "$$\n",
    "\n",
    "この値を $ t = 0 $ に代入すると、\n",
    "\n",
    "$$\n",
    "M''(0) = a(a+1)b^2\n",
    "$$\n",
    "\n",
    "よって分散は\n",
    "\n",
    "$$\n",
    "\\text{Var}[X] = M''(0) - (M'(0))^2 = a(a+1)b^2 - (ab)^2 = ab^2\n",
    "$$\n",
    "\n",
    "以上より、γ分布の平均は $ ab $、分散は $ ab^2 $ であることが分かります。モーメント母関数からこれらの値を求めることができました。\n",
    "\n",
    "#### ベータ分布\n",
    "\n",
    "ベータ分布のモーメント母関数（MGF）は以下のように求められます：\n",
    "\n",
    "$$\n",
    "M(t) = \\mathbb{E}[e^{tX}] = \\int_{0}^{1} e^{tx} \\frac{x^{\\alpha-1} (1-x)^{\\beta-1}}{B(\\alpha, \\beta)} dx\n",
    "$$\n",
    "\n",
    "一般的に、この積分は解析的に解くのが難しいため、具体的な形にはまとめられません。しかし、期待値（平均）と分散はモーメント母関数を使わずに計算することが一般的です。\n",
    "\n",
    "- 平均（期待値）の計算\n",
    "\n",
    "$\\beta$分布の平均は、以下のように定義されます：\n",
    "\n",
    "$$\n",
    "E[X] = \\frac{\\alpha}{\\alpha + \\beta}\n",
    "$$\n",
    "\n",
    "- 分散の計算\n",
    "\n",
    "$\\beta$分布の分散は、以下のように定義されます：\n",
    "\n",
    "$$\n",
    "\\text{Var}[X] = \\frac{\\alpha \\beta}{(\\alpha + \\beta)^2 (\\alpha + \\beta + 1)}\n",
    "$$\n",
    "\n",
    "以上のように、ベータ分布の平均と分散はパラメータ $\\alpha$ と $\\beta$ だけで表され、モーメント母関数を使わずに容易に計算できます。それでも、モーメント母関数を用いたい場合は、一般的に数値的な方法を用いて求める必要があります。\n",
    "\n",
    "### 分布の同一性の判定"
   ]
  },
  {
   "cell_type": "code",
   "execution_count": 6,
   "id": "0e8e3c28",
   "metadata": {},
   "outputs": [
    {
     "data": {
      "image/png": "[encoded data removed]",
      "text/plain": [
       "<Figure size 300x200 with 1 Axes>"
      ]
     },
     "metadata": {},
     "output_type": "display_data"
    }
   ],
   "source": [
    "from sympy import symbols, exp, plot\n",
    "import matplotlib.pyplot as plt\n",
    "import numpy as np\n",
    "\n",
    "t = symbols('t')\n",
    "n, p = 50, 0.5  # 二項分布のパラメータ\n",
    "mu = n * p  # 正規分布の平均\n",
    "sigma2 = n * p * (1 - p)  # 正規分布の分散\n",
    "\n",
    "# 二項分布の積率母関数\n",
    "mgf_binomial = (1 - p + p * exp(t)) ** n\n",
    "\n",
    "# 正規分布の積率母関数\n",
    "mgf_normal = exp(mu * t + 0.5 * sigma2 * t ** 2)\n",
    "\n",
    "# sympyでプロットを生成\n",
    "p1 = plot(mgf_binomial, (t, -1, 1), line_color='blue'\\\n",
    "          , show=False, legend=True, label='Binomial MGF')\n",
    "p2 = plot(mgf_normal, (t, -1, 1), line_color='red'\\\n",
    "          , show=False, legend=True, label='Normal MGF')\n",
    "\n",
    "# matplotlibでプロット\n",
    "fig, ax = plt.subplots(figsize=(3, 2))\n",
    "# sympyのプロットデータをmatplotlibに適用\n",
    "for p in [p1, p2]:\n",
    "    for series in p:\n",
    "        ax.plot(*series.get_points(), label=series.label, color=series.line_color)\n",
    "\n",
    "# グラフの設定\n",
    "ax.legend()\n",
    "ax.set_title('Comparison of MGFs')\n",
    "ax.set_xlabel('t')\n",
    "ax.set_ylabel('MGF')\n",
    "plt.show()\n"
   ]
  },
  {
   "cell_type": "markdown",
   "id": "18d32d06",
   "metadata": {},
   "source": [
    "$ t $ は「変化」または「変位」と見なすことができますが、確率変数の特定のモーメントに対する「感度」または「反応」を測るためのパラメータとも言えます。積率母関数 $ M(t) $ は $ t $ の関数として定義され、$ t $ が変わるにつれて、確率変数の各モーメント（期待値、分散、歪度、尖度など）の「影響」がどのように変化するかを示します。\n",
    "\n",
    "\n",
    "\n",
    "# 特性関数\n",
    "\n",
    "特性関数（Characteristic Function）は、確率変数または確率分布の「特性」を研究するための一つの手段です。特に、確率変数の全てのモーメント（期待値、分散、歪度、尖度など）を生成する関数として重要です。\n",
    "\n",
    "確率変数 $X$ の特性関数 $ \\phi(t) $ は以下のように定義されます。\n",
    "\n",
    "$\n",
    "\\phi(t) = \\mathrm{E}[e^{itX}] = \\int e^{itx} f(x) dx\n",
    "$\n",
    "\n",
    "ここで、$ \\mathrm{E} $ は期待値を、$ f(x) $ は $X$ の確率密度関数を、$ i $ は虚数単位をそれぞれ表します。\n",
    "\n",
    "### 主な特性\n",
    "\n",
    "1. **一意性**: 同じ確率分布は同じ特性関数を持ちます。\n",
    "2. **逆変換**: 特性関数が存在すれば、その確率分布も一意に定まります。\n",
    "3. **畳み込みと分布の合成**: 独立な確率変数 $ X $ と $ Y $ の和 $ Z = X + Y $ の特性関数は、$ X $ と $ Y $ の特性関数の積として表されます。\n",
    "\n",
    "$\n",
    "\\phi_Z(t) = \\phi_X(t) \\phi_Y(t)\n",
    "$\n",
    "\n",
    "4. **モーメントの生成**: $ n $ 次のモーメントは特性関数を $ t = 0 $ で $ n $ 回微分し、$ i^n $ で割ることで得られます。\n",
    "\n",
    "$\n",
    "\\mathrm{E}[X^n] = \\frac{1}{i^n} \\left. \\frac{d^n}{dt^n} \\phi(t) \\right|_{t=0}\n",
    "$\n",
    "\n",
    "### 応用\n",
    "\n",
    "1. **確率分布の同定**: 二つ以上の確率分布が等しいかどうかを調べるために特性関数を用いることがあります。\n",
    "2. **大数の法則や中心極限定理の証明**: 特性関数は確率論の基本的な定理を証明する際にも用いられます。\n",
    "3. **統計的推論**: データから確率分布を推論する際に、特性関数を使って尤度関数を計算することがあります。\n",
    "\n",
    "特性関数は確率論と統計学、信号処理、量子力学など、多くの分野で幅広く応用されています。"
   ]
  },
  {
   "cell_type": "code",
   "execution_count": 7,
   "id": "3c09570b",
   "metadata": {},
   "outputs": [
    {
     "data": {
      "image/png": "[encoded data removed]",
      "text/plain": [
       "<Figure size 800x400 with 2 Axes>"
      ]
     },
     "metadata": {},
     "output_type": "display_data"
    }
   ],
   "source": [
    "import matplotlib.pyplot as plt\n",
    "import numpy as np\n",
    "\n",
    "# パラメータ\n",
    "n, p = 5, 0.5\n",
    "mu = n * p\n",
    "sigma2 = n * p * (1 - p)\n",
    "\n",
    "# tの範囲\n",
    "t = np.linspace(-10, 10, 500)\n",
    "\n",
    "# 二項分布の特性関数\n",
    "cf_binomial_real = np.real((1 - p + p * np.exp(1j * t)) ** n)\n",
    "cf_binomial_imag = np.imag((1 - p + p * np.exp(1j * t)) ** n)\n",
    "\n",
    "# 正規分布の特性関数\n",
    "cf_normal_real = np.real(np.exp(1j * mu * t - 0.5 * sigma2 * t ** 2))\n",
    "cf_normal_imag = np.imag(np.exp(1j * mu * t - 0.5 * sigma2 * t ** 2))\n",
    "\n",
    "# プロット\n",
    "fig, ax = plt.subplots(figsize=(8, 4))\n",
    "plt.subplot(1, 2, 1)\n",
    "plt.title('Real part')\n",
    "plt.plot(t, cf_binomial_real, label='Binomial')\n",
    "plt.plot(t, cf_normal_real, label='Normal')\n",
    "ax.set_xlabel('t')\n",
    "ax.set_ylabel('MGF')\n",
    "plt.legend()\n",
    "\n",
    "plt.subplot(1, 2, 2)\n",
    "plt.title('Imaginary part')\n",
    "plt.plot(t, cf_binomial_imag, label='Binomial')\n",
    "plt.plot(t, cf_normal_imag, label='Normal')\n",
    "ax.set_xlabel('t')\n",
    "ax.set_ylabel('MGF')\n",
    "plt.legend()\n",
    "\n",
    "plt.suptitle('Comparison of Characteristic Functions')\n",
    "plt.show()"
   ]
  },
  {
   "cell_type": "code",
   "execution_count": null,
   "id": "42a8160a",
   "metadata": {},
   "outputs": [],
   "source": []
  }
 ],
 "metadata": {
  "kernelspec": {
   "display_name": "Python 3 (ipykernel)",
   "language": "python",
   "name": "python3"
  },
  "language_info": {
   "codemirror_mode": {
    "name": "ipython",
    "version": 3
   },
   "file_extension": ".py",
   "mimetype": "text/x-python",
   "name": "python",
   "nbconvert_exporter": "python",
   "pygments_lexer": "ipython3",
   "version": "3.9.13"
  }
 },
 "nbformat": 4,
 "nbformat_minor": 5
}
