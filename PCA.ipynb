{
 "cells": [
  {
   "cell_type": "markdown",
   "id": "0b745661",
   "metadata": {},
   "source": [
    "1.\tデータは$n$個の標本と標本あたり$m$個の測定値からなり行列として与えられます。\n",
    "2.\t行列$A$は各測定値と行平均の差(偏差)です。\n",
    "3.\tSVDは、最も多くの情報を含んでいるデータの組み合わせを見つけます。\n",
    "4.\t最大の特異値$\\sigma_1$ <-> 最大の分散 <-> $u_1$の情報が最も多いものです。\n",
    " \n",
    " 本節では、SVDの統計学やデータ解析への代表的な応用を説明します。例として、ファイナンスを取り上げます。問題は、データ(=測定値)の大きな行列を理解することです。$n$個の標本のそれぞれについて、$m$個の変数があります。データ行列$A_0$は、$n$個の列と$m$個の行で構成されています。\n",
    " \n",
    "　視覚的には、$A_0$の列は$\\mathbb{R}^m$における$n$個の点です。各行の平均を引いて$A$を求めると、$n$個の点はしばしば線に沿って塊を形成しているか、あるいは平面（あるいは$\\mathbb{R}^m$の他の低次元部分空間）の近いところに集まります。その線、平面、部分空間とは何でしょうか？\n",
    " \n",
    "　数値ではなく、図を用いて説明することから始めましょう。年齢や身長といった$m=2$の変数の$n$個の点は平面$\\mathbb{R}^2$上にあります。データは平均年齢と平均身長との差を取り偏差とします。もし、$n$個の偏差が線に沿って集まっているとしたら、線形代数学ではその線をどのように見つけたらよいでしょうか？\n",
    "\n",
    "![image.png](https://qiita-image-store.s3.ap-northeast-1.amazonaws.com/0/267055/3d79299c-ea3e-62fb-422c-0fbb643cf400.png)\n",
    "\n",
    "図7.2： $A$内のデータ点は、$\\mathbb{R}^2$内の直線または$\\mathbb{R}^2$内の部分空間に近いことが多い。\n",
    "\n",
    "$A$は2×n（大きな零空間）\n",
    "\n",
    "$AA^T$は2×2(小さな行列)\n",
    "\n",
    "$A^TA$はn×n(大きな行列)\n",
    "\n",
    "2つの特異値： $\\sigma_1>\\sigma_2>0$\n",
    "\n",
    "データ行列を段階を踏んで構成してみましょう。まず、$A_0$ は測定値です。これは標本です。各行の平均$\\mu_1,\\mu_2,\\cdots,\\mu_m$ を求めます。$i$行目のデータ点と行平均$\\mu_i$ の差を取り偏差を求め、データを中心化します。これで、中央に寄せられた行列$A$の各行の平均は0となります。つまり、図7.2の点(0,0)がn点の真の中心となります。\n",
    "\n",
    "標本共分散行列は$S=\\frac{AA^T}{n-1}$で定義されます。\n",
    "\n",
    "$A$は各測定値から行平均$\\mu_i$までの距離 $a_{ij} - \\mu_i$ です。\n",
    "\n",
    "$AA^T_{11}$と$AA^T_{22}$は距離の二乗和（標本分散$s_1^2$、$s_2^2$）を示しています。\n",
    " \n",
    "$AA^T_{12}$は標本共分散$s_{12}$=(Aの1行目)・(Aの2行目)となります。\n",
    " \n",
    "　分散は、統計学で重要な値です。試験の平均点が85点であれば、適切な試験であったことがわかります。分散$s^2=25$(標準偏差$s=5$)の場合は、ほとんどの成績が80点台に集中していたことを意味しますし、標本分散$s^2=225(s=15)$の場合は、成績が広く分散していたことを意味します。\n",
    "\n",
    "　数学の試験と歴史の試験の共分散は、平均値と成績の差$A$の行のドット積です。共分散がゼロ以下ということは、1科目が得意でもう一方が不得意ということです。共分散が大きいということは、両方が得意か、または両方が不得意のどちらかです。\n",
    " \n",
    "　統計学者はよく$n$の代わりに$n-1$で割ります。これは自由度の1つが平均値で使われ、$n-1$が自由に変更できるものとして残るからです。いずれにせよ、信頼できる統計であるためには$n$は大きいに越したことはありません。$A$の行が$n$個の入力を持つ場合、$AA^T$の数字の数は$n$とともに伸びていき、$n-1$による除算は、それらに安定性をもたらします。\n",
    "\n",
    "例1　数学と歴史のスコア（各列の平均値がゼロであることに注目）\n",
    "![image.png](https://qiita-image-store.s3.ap-northeast-1.amazonaws.com/0/267055/d4d5fcbc-9261-1386-d5a6-1760e32d67e1.png)\n",
    "の標本共分散は \n",
    "![image.png](https://qiita-image-store.s3.ap-northeast-1.amazonaws.com/0/267055/fbd80f5d-ea2d-d15d-0016-f6d76f74526c.png)\n",
    "です。\n",
    "　2列の相関が高い場合： $S_{12}=25$. 数学が平均以上であれば、歴史も平均以上のとなる可能性が高くなります。2行目の符号をすべて変えると、負の共分散$s_{12}=-25$となります。$S$は正のトレースと行列式を持ち、$AA^T$は正定値であることに注意してください。\n",
    "\n",
    "　$S$の固有値は約57と3です。つまり、第1番目の$\\sqrt{57}u_1v_1^T$は、２番目の$\\sqrt{3}u_2v_2^T$より大きく、第一固有ベクトル$u_1$が図7.2の散布図に見られる方向を示しています。その固有ベクトルは、約$u_1=(.6,.8)$になります。\n",
    "そして、グラフの方向は6-8-10($6^2+8^2=100^2$)または3-4-5を3辺とする右三角形を与えます。\n",
    "\n",
    "$A$（偏差）のSVDは、散布図において重要な方向を示しています。\n",
    "\n",
    "第二特異値ベクトル $u_2$ は $u_1$ と垂直です。第二特異値 $\\sigma_2 \\approx \\sqrt{3}$は、方向を示す線に対する広がり具合を示します。もし、$A$の中のデータ点が直線（$u_1$方向）上に正確に配置されていたら、$\\sigma_2$はゼロになります。実際には、$\\sigma_1$しかなくなります。"
   ]
  },
  {
   "cell_type": "code",
   "execution_count": 1,
   "id": "cb20b2d8",
   "metadata": {},
   "outputs": [
    {
     "data": {
      "text/plain": [
       "array([[ 3, -4,  7,  1, -4, -3],\n",
       "       [ 7, -6,  8, -1, -1, -7]])"
      ]
     },
     "execution_count": 1,
     "metadata": {},
     "output_type": "execute_result"
    }
   ],
   "source": [
    "import numpy as np\n",
    "from scipy import linalg\n",
    "\n",
    "A=np.array([[3, -4, 7, 1,-4,-3],\n",
    "              [7, -6, 8, -1,-1,-7]])\n",
    "A"
   ]
  },
  {
   "cell_type": "code",
   "execution_count": 2,
   "id": "858bcbe4",
   "metadata": {},
   "outputs": [
    {
     "name": "stdout",
     "output_type": "stream",
     "text": [
      "固有ベクトルで構成される行列\n",
      "[[-0.56062881  0.82806723]\n",
      " [-0.82806723 -0.56062881]]\n",
      "特異値： [16.87095493  3.92057136]\n",
      "vh\n",
      "[[-0.44326815  0.42741615 -0.62527222  0.015852    0.18200407  0.44326815]\n",
      " [-0.36734441  0.01313684  0.3345023   0.35420757 -0.70184671  0.36734441]]\n"
     ]
    }
   ],
   "source": [
    "u, s, vh = np.linalg.svd(A, full_matrices=False)\n",
    "print(\"固有ベクトルで構成される行列\")\n",
    "print(u)\n",
    "print(\"特異値：\",s)\n",
    "print(\"vh\")\n",
    "print(vh)"
   ]
  },
  {
   "cell_type": "code",
   "execution_count": 3,
   "id": "6e0dad8e",
   "metadata": {},
   "outputs": [
    {
     "data": {
      "text/plain": [
       "array([[20., 25.],\n",
       "       [25., 40.]])"
      ]
     },
     "execution_count": 3,
     "metadata": {},
     "output_type": "execute_result"
    }
   ],
   "source": [
    "S=A@A.T/5\n",
    "S"
   ]
  },
  {
   "cell_type": "code",
   "execution_count": 4,
   "id": "73a654ea",
   "metadata": {},
   "outputs": [
    {
     "name": "stdout",
     "output_type": "stream",
     "text": [
      "Sの固有ベクトルで構成される行列：\n",
      "[[-0.56062881 -0.82806723]\n",
      " [-0.82806723  0.56062881]]\n",
      "固有値 [56.92582404  3.07417596]\n",
      "vh\n",
      "[[-0.56062881 -0.82806723]\n",
      " [-0.82806723  0.56062881]]\n",
      "特異値: [16.87095493  3.92057136]\n"
     ]
    }
   ],
   "source": [
    "u, s, vh = np.linalg.svd(S, full_matrices=True)\n",
    "print(\"Sの固有ベクトルで構成される行列：\")\n",
    "print(u)\n",
    "print(\"固有値\",s)\n",
    "print(\"vh\")\n",
    "print(vh)\n",
    "print(\"特異値:\",np.sqrt(s*5))"
   ]
  },
  {
   "cell_type": "code",
   "execution_count": 5,
   "id": "233cf699",
   "metadata": {},
   "outputs": [
    {
     "name": "stdout",
     "output_type": "stream",
     "text": [
      "固有値\n",
      "[ 3.07417596 56.92582404]\n",
      "固有ベクトル\n",
      "[[-0.82806723 -0.56062881]\n",
      " [ 0.56062881 -0.82806723]]\n"
     ]
    }
   ],
   "source": [
    "s,u=np.linalg.eig(S)\n",
    "print(\"固有値\")\n",
    "print(s)\n",
    "print(\"固有ベクトル\")\n",
    "print(u)"
   ]
  },
  {
   "cell_type": "markdown",
   "id": "accabca6",
   "metadata": {},
   "source": [
    "**主成分分析(PCA)の極意**\n",
    "\n",
    " $m$次元からなる測定データの変数（ここでは年齢と身長）をプロットした際に、PCAは、その解釈を与えてくれます。データ点(要素)と平均年齢と身長の差をとることで、$m×n$($n$個の標本に対して$m=2$)の行列$A$は中心化されています。線形代数との決定的なつながりは、$A$の特異値と特異ベクトルにあります。標本共分散行列$S=AA^T/(n-1)$の固有ベクトル$u$を求めます。\n",
    "\n",
    "- データの全分散は、すべての固有値と標本分散$s^2$の和となります。\n",
    "全分散$T=\\sigma_1^2+\\cdots+\\sigma_m^2=s_1^2+\\cdots+s_m^2=トレース(対角要素の和)$\n",
    " \n",
    "- $S$の点の第一特異値ベクトル$u_1$ は、データの最も重要な方向を指します。\n",
    "その方向は全分散のある割合($\\sigma_1^2/T$)を占めます。\n",
    "\n",
    "- 第二特異値ベクトル$u_2$（$u_1$に直交する）は、第一特異値ベクトルよりは少ない割合($\\sigma_2^2/T$) を説明します。\n",
    "\n",
    "- その割合が小さくなれば、そこで止めます。データの大部分を説明する$R$個の方向があります。$n$個のデータ点は、$u_1$から$u_R$の基底を持つ$R$次元の部分空間の周辺にあります。これらの$u$は$m$次元空間における主成分です。\n",
    "\n",
    "- $R$は$A$の \"実効ランク \"であり、真のランク$r$は$m$か$n$です：フルランク行列。\n",
    "\n",
    "**垂直最小二乗法**\n",
    " \n",
    " 図7.2の$u_1$方向の線が、垂直最小二乗法(=直交回帰)の解であることはあまり知られていないかもしれませんね。\n",
    "点から直線までの垂線の距離の二乗和は最小となります。\n",
    "\n",
    "証明：各列$a_j$を、$u_1$線と$u_2$線に沿った成分に分解します：\n",
    "\n",
    "右三角形：$\\sum_{j=1}^n||a_j||^2=\\sum_{j=1}^n|a_j^Tu_1|^2+\\sum_{j=1}^n|a_j^Tu_2|^2$ (1)\n",
    "\n",
    "左側の和はデータ点$a_j$($A$の列)で固定されています。右側の最初の和は$u_1^TAA^Tu_1$です。つまり、PCAで固有ベクトル$u_1$を選んでその和を最大化すると、2番目の和は最小化することになります。この2番目の和（データ点から最良線までの距離の二乗）は、垂直最小二乗法では最小となります。\n",
    "\n",
    " 最小二乗法では、最良の線からy軸に垂直な距離を用いて次のような正規方程式 $A^TA\\hat{x}=A^Tb$ に到達しました。\n",
    "\n",
    "PCAでは最良の線に垂直な距離を使うことで$u_1$の固有値問題とします。\"完全最小二乗法 \"では、$b$だけでなく$A$の誤差も許容されます。\n",
    "\n",
    "**標本相関行列**\n",
    "\n",
    "　データ解析は、主に$A$（中心化データ）を使って行われますが、$A$の測定値には、次のようなものがあります。インチやポンド、年やドルといった異なる単位。1組の単位を変更する(インチをメートルに、年を秒に)と、その行の$A$や$S$に大きな影響を与えます。尺度変換として、共分散行列$S$から相関行列$C$に変更します：\n",
    "\n",
    "　対角行列$D$は$A$を尺度変換します。$D A$の各行は長さ$\\sqrt{n-1}$です。\n",
    "\n",
    "　標本相関行列 $C=DAA^TD/(n-1)$ は対角線上に1があります。\n",
    "\n",
    "「確率と統計」では、期待共分散行列$V$と期待相関行列（対角成分が1）を用います。これらは、実際の測定値の代わりに確率を使います。共分散行列は、将来の測定値の平均値からの広がりを予測するもので、$A$と標本共分散$S$と相関行列$C=DSD$は、実データを使います。いずれも統計学と正定値行列の線形代数、SVDとの大きな接点であり、非常に重要です。\n",
    "\n",
    "**金融におけるPCA： 金利のダイナミクス**\n",
    "\n",
    "金融数学では、常に線形代数とPCAが適用されます。ここでは、財務省証券のイールドカーブの応用例を紹介します。「イールド」とは、債券や中期証券、短期証券に支払われる金利のことです。その金利は、満期までの時間によって異なります。長い債券（3年～20年）の場合、金利は長さに応じて上昇します。連邦準備制度理事会は、経済を減速させたり刺激したりするために、短期の利回りを調整します。以上ががイールドカーブで、リスク管理者やトレーダー、投資家が利用するものです。\n",
    "\n",
    "　以下は、2001年の最初の6営業日のデータです。各列は、ある特定の日の実際のイールドカーブです。満期までの期間が「テナー」です。左側の6列は金利で、日ごとに変化します。右側の5列は日ごとの金利差で、各行と平均値の差です。$A$は、行を加算すればゼロになる中心化された行列です。実際のアプリケーションでは、5日や6日ではなく、252営業日（1週間ではなく1年）などです。\n",
    "\n",
    "![image.png](https://qiita-image-store.s3.ap-northeast-1.amazonaws.com/0/267055/677be6d7-46dc-f73a-b2f6-b9c6b741bec5.png)"
   ]
  },
  {
   "cell_type": "code",
   "execution_count": 6,
   "id": "1ce34fa3",
   "metadata": {},
   "outputs": [
    {
     "data": {
      "text/html": [
       "<div>\n",
       "<style scoped>\n",
       "    .dataframe tbody tr th:only-of-type {\n",
       "        vertical-align: middle;\n",
       "    }\n",
       "\n",
       "    .dataframe tbody tr th {\n",
       "        vertical-align: top;\n",
       "    }\n",
       "\n",
       "    .dataframe thead th {\n",
       "        text-align: right;\n",
       "    }\n",
       "</style>\n",
       "<table border=\"1\" class=\"dataframe\">\n",
       "  <thead>\n",
       "    <tr style=\"text-align: right;\">\n",
       "      <th></th>\n",
       "      <th>Jan 3</th>\n",
       "      <th>Jan 4</th>\n",
       "      <th>Jan 5</th>\n",
       "      <th>Jan 6</th>\n",
       "      <th>Jan 7</th>\n",
       "      <th>Jan 10</th>\n",
       "    </tr>\n",
       "  </thead>\n",
       "  <tbody>\n",
       "    <tr>\n",
       "      <th>3MO</th>\n",
       "      <td>5.87</td>\n",
       "      <td>5.69</td>\n",
       "      <td>5.37</td>\n",
       "      <td>5.12</td>\n",
       "      <td>5.19</td>\n",
       "      <td>5.24</td>\n",
       "    </tr>\n",
       "    <tr>\n",
       "      <th>6MO</th>\n",
       "      <td>5.58</td>\n",
       "      <td>5.44</td>\n",
       "      <td>5.20</td>\n",
       "      <td>4.98</td>\n",
       "      <td>5.03</td>\n",
       "      <td>5.11</td>\n",
       "    </tr>\n",
       "    <tr>\n",
       "      <th>1YR</th>\n",
       "      <td>5.11</td>\n",
       "      <td>5.04</td>\n",
       "      <td>4.82</td>\n",
       "      <td>4.60</td>\n",
       "      <td>4.61</td>\n",
       "      <td>4.71</td>\n",
       "    </tr>\n",
       "    <tr>\n",
       "      <th>2YR</th>\n",
       "      <td>4.87</td>\n",
       "      <td>4.92</td>\n",
       "      <td>4.77</td>\n",
       "      <td>4.56</td>\n",
       "      <td>4.54</td>\n",
       "      <td>4.64</td>\n",
       "    </tr>\n",
       "    <tr>\n",
       "      <th>3YR</th>\n",
       "      <td>4.82</td>\n",
       "      <td>4.92</td>\n",
       "      <td>4.78</td>\n",
       "      <td>4.57</td>\n",
       "      <td>4.55</td>\n",
       "      <td>4.65</td>\n",
       "    </tr>\n",
       "    <tr>\n",
       "      <th>5YR</th>\n",
       "      <td>4.76</td>\n",
       "      <td>4.94</td>\n",
       "      <td>4.82</td>\n",
       "      <td>4.66</td>\n",
       "      <td>4.65</td>\n",
       "      <td>4.73</td>\n",
       "    </tr>\n",
       "    <tr>\n",
       "      <th>7YR</th>\n",
       "      <td>4.97</td>\n",
       "      <td>5.18</td>\n",
       "      <td>5.07</td>\n",
       "      <td>4.93</td>\n",
       "      <td>4.94</td>\n",
       "      <td>4.98</td>\n",
       "    </tr>\n",
       "    <tr>\n",
       "      <th>10YR</th>\n",
       "      <td>4.92</td>\n",
       "      <td>5.14</td>\n",
       "      <td>5.03</td>\n",
       "      <td>4.93</td>\n",
       "      <td>4.94</td>\n",
       "      <td>4.98</td>\n",
       "    </tr>\n",
       "    <tr>\n",
       "      <th>20YR</th>\n",
       "      <td>5.46</td>\n",
       "      <td>5.62</td>\n",
       "      <td>5.56</td>\n",
       "      <td>5.50</td>\n",
       "      <td>5.52</td>\n",
       "      <td>5.53</td>\n",
       "    </tr>\n",
       "  </tbody>\n",
       "</table>\n",
       "</div>"
      ],
      "text/plain": [
       "      Jan 3  Jan 4  Jan 5  Jan 6  Jan 7  Jan 10\n",
       "3MO    5.87   5.69   5.37   5.12   5.19    5.24\n",
       "6MO    5.58   5.44   5.20   4.98   5.03    5.11\n",
       "1YR    5.11   5.04   4.82   4.60   4.61    4.71\n",
       "2YR    4.87   4.92   4.77   4.56   4.54    4.64\n",
       "3YR    4.82   4.92   4.78   4.57   4.55    4.65\n",
       "5YR    4.76   4.94   4.82   4.66   4.65    4.73\n",
       "7YR    4.97   5.18   5.07   4.93   4.94    4.98\n",
       "10YR   4.92   5.14   5.03   4.93   4.94    4.98\n",
       "20YR   5.46   5.62   5.56   5.50   5.52    5.53"
      ]
     },
     "execution_count": 6,
     "metadata": {},
     "output_type": "execute_result"
    }
   ],
   "source": [
    "import pandas as pd\n",
    "A=np.array([[5.87,5.69,5.37,5.12,5.19,5.24],\n",
    "           [5.58,5.44,5.20,4.98,5.03,5.11],\n",
    "           [5.11,5.04,4.82,4.60,4.61,4.71],\n",
    "           [4.87,4.92,4.77,4.56,4.54,4.64],\n",
    "           [4.82,4.92,4.78,4.57,4.55,4.65],\n",
    "           [4.76,4.94,4.82,4.66,4.65,4.73],\n",
    "           [4.97,5.18,5.07,4.93,4.94,4.98],\n",
    "           [4.92,5.14,5.03,4.93,4.94,4.98],\n",
    "           [5.46,5.62,5.56,5.50,5.52,5.53]])\n",
    "A=pd.DataFrame(A,index=['3MO','6MO','1YR','2YR','3YR','5YR','7YR','10YR'\\\n",
    ",'20YR'],columns=['Jan 3','Jan 4','Jan 5','Jan 6','Jan 7','Jan 10'])\n",
    "A"
   ]
  },
  {
   "cell_type": "code",
   "execution_count": 7,
   "id": "da4d0cd8",
   "metadata": {},
   "outputs": [
    {
     "data": {
      "text/html": [
       "<div>\n",
       "<style scoped>\n",
       "    .dataframe tbody tr th:only-of-type {\n",
       "        vertical-align: middle;\n",
       "    }\n",
       "\n",
       "    .dataframe tbody tr th {\n",
       "        vertical-align: top;\n",
       "    }\n",
       "\n",
       "    .dataframe thead th {\n",
       "        text-align: right;\n",
       "    }\n",
       "</style>\n",
       "<table border=\"1\" class=\"dataframe\">\n",
       "  <thead>\n",
       "    <tr style=\"text-align: right;\">\n",
       "      <th></th>\n",
       "      <th>Jan 4</th>\n",
       "      <th>Jan 5</th>\n",
       "      <th>Jan 6</th>\n",
       "      <th>Jan 7</th>\n",
       "      <th>Jan 10</th>\n",
       "    </tr>\n",
       "  </thead>\n",
       "  <tbody>\n",
       "    <tr>\n",
       "      <th>3MO</th>\n",
       "      <td>-5.4</td>\n",
       "      <td>-19.4</td>\n",
       "      <td>-12.4</td>\n",
       "      <td>19.6</td>\n",
       "      <td>17.6</td>\n",
       "    </tr>\n",
       "    <tr>\n",
       "      <th>6MO</th>\n",
       "      <td>-4.6</td>\n",
       "      <td>-14.6</td>\n",
       "      <td>-12.6</td>\n",
       "      <td>14.4</td>\n",
       "      <td>17.4</td>\n",
       "    </tr>\n",
       "    <tr>\n",
       "      <th>1YR</th>\n",
       "      <td>1.0</td>\n",
       "      <td>-14.0</td>\n",
       "      <td>-14.0</td>\n",
       "      <td>9.0</td>\n",
       "      <td>18.0</td>\n",
       "    </tr>\n",
       "    <tr>\n",
       "      <th>2YR</th>\n",
       "      <td>9.6</td>\n",
       "      <td>-10.4</td>\n",
       "      <td>-16.4</td>\n",
       "      <td>2.6</td>\n",
       "      <td>14.6</td>\n",
       "    </tr>\n",
       "    <tr>\n",
       "      <th>3YR</th>\n",
       "      <td>13.4</td>\n",
       "      <td>-10.6</td>\n",
       "      <td>-17.6</td>\n",
       "      <td>1.4</td>\n",
       "      <td>13.4</td>\n",
       "    </tr>\n",
       "    <tr>\n",
       "      <th>5YR</th>\n",
       "      <td>18.6</td>\n",
       "      <td>-11.4</td>\n",
       "      <td>-15.4</td>\n",
       "      <td>-0.4</td>\n",
       "      <td>8.6</td>\n",
       "    </tr>\n",
       "    <tr>\n",
       "      <th>7YR</th>\n",
       "      <td>20.8</td>\n",
       "      <td>-11.2</td>\n",
       "      <td>-14.2</td>\n",
       "      <td>0.8</td>\n",
       "      <td>3.8</td>\n",
       "    </tr>\n",
       "    <tr>\n",
       "      <th>10YR</th>\n",
       "      <td>20.8</td>\n",
       "      <td>-12.2</td>\n",
       "      <td>-11.2</td>\n",
       "      <td>-0.2</td>\n",
       "      <td>2.8</td>\n",
       "    </tr>\n",
       "    <tr>\n",
       "      <th>20YR</th>\n",
       "      <td>14.6</td>\n",
       "      <td>-7.4</td>\n",
       "      <td>-7.4</td>\n",
       "      <td>0.6</td>\n",
       "      <td>-0.4</td>\n",
       "    </tr>\n",
       "  </tbody>\n",
       "</table>\n",
       "</div>"
      ],
      "text/plain": [
       "      Jan 4  Jan 5  Jan 6  Jan 7  Jan 10\n",
       "3MO    -5.4  -19.4  -12.4   19.6    17.6\n",
       "6MO    -4.6  -14.6  -12.6   14.4    17.4\n",
       "1YR     1.0  -14.0  -14.0    9.0    18.0\n",
       "2YR     9.6  -10.4  -16.4    2.6    14.6\n",
       "3YR    13.4  -10.6  -17.6    1.4    13.4\n",
       "5YR    18.6  -11.4  -15.4   -0.4     8.6\n",
       "7YR    20.8  -11.2  -14.2    0.8     3.8\n",
       "10YR   20.8  -12.2  -11.2   -0.2     2.8\n",
       "20YR   14.6   -7.4   -7.4    0.6    -0.4"
      ]
     },
     "execution_count": 7,
     "metadata": {},
     "output_type": "execute_result"
    }
   ],
   "source": [
    "dA=A.T.diff().dropna()\n",
    "diff=((np.identity(5)-1/5*np.ones((5,5)))@dA).T.values*100\n",
    "diff=pd.DataFrame(diff,index=['3MO','6MO','1YR','2YR','3YR','5YR','7YR','10YR'\\\n",
    ",'20YR'],columns=['Jan 4','Jan 5','Jan 6','Jan 7','Jan 10'])\n",
    "diff"
   ]
  },
  {
   "cell_type": "markdown",
   "id": "79938bdd",
   "metadata": {},
   "source": [
    "5つの列があれば、5つの特異値が期待できます。しかし、5列のベクトルは0ベクトルに加算されます。これは中心化されたAの各行は加算してゼロになるためです。つまり、$S=AA^T/(5ー1)$は0以外の４つの固有値\n",
    "\n",
    "$\\sigma_1^2>\\sigma_2^2>\\sigma_3^2>\\sigma_4^2$\n",
    "\n",
    "を持ちます。ここで、固有値$\\sigma_i$とその2乗$\\sigma_i^2$と全分散$T=\\sigma_1^2+\\cdots+\\sigma_4^2=\\text{trace of S}$との割合を示します。\n",
    "\n",
    "![image.png](https://qiita-image-store.s3.ap-northeast-1.amazonaws.com/0/267055/adc37326-53f3-752d-3bff-e4204571afa4.png)\n",
    "割合は各主成分（$S$の各固有ベクトル$u_i$）によって「説明」されます。"
   ]
  },
  {
   "cell_type": "code",
   "execution_count": 22,
   "id": "e33ef9af",
   "metadata": {},
   "outputs": [
    {
     "data": {
      "text/plain": [
       "array([1323.9 ,  397.18,   34.2 ,    1.43,    0.  ,    0.  ,    0.  ,\n",
       "          0.  ,    0.  ])"
      ]
     },
     "execution_count": 22,
     "metadata": {},
     "output_type": "execute_result"
    }
   ],
   "source": [
    "np.set_printoptions(precision=2)\n",
    "np.set_printoptions(suppress=True) #suppressは禁止の意味\n",
    "S=diff@diff.T/(5-1)\n",
    "u,s,vh=np.linalg.svd(S, full_matrices=True)\n",
    "s"
   ]
  },
  {
   "cell_type": "code",
   "execution_count": 8,
   "id": "64ef1911",
   "metadata": {},
   "outputs": [
    {
     "name": "stdout",
     "output_type": "stream",
     "text": [
      "特異ベクトルからなる行列\n",
      "[[ 0.38  0.53 -0.48  0.06 -0.53]\n",
      " [ 0.34  0.44 -0.05  0.21  0.47]\n",
      " [ 0.36  0.26  0.23 -0.49  0.45]\n",
      " [ 0.35 -0.03  0.46  0.1  -0.18]\n",
      " [ 0.37 -0.13  0.43  0.26 -0.22]\n",
      " [ 0.35 -0.29  0.12 -0.19 -0.15]\n",
      " [ 0.32 -0.37 -0.23  0.46  0.11]\n",
      " [ 0.3  -0.38 -0.35 -0.58 -0.1 ]\n",
      " [ 0.18 -0.28 -0.36  0.23  0.41]]\n",
      "固有値の二乗\n",
      "[1323.9   397.18   34.2     1.43    0.  ]\n",
      "vh\n",
      "[[ 0.37 -0.52 -0.56  0.24  0.47]\n",
      " [-0.79 -0.11  0.08  0.46  0.37]\n",
      " [-0.17  0.48 -0.32 -0.56  0.57]\n",
      " [-0.03  0.54 -0.61  0.46 -0.35]\n",
      " [-0.45 -0.45 -0.45 -0.45 -0.45]]\n"
     ]
    }
   ],
   "source": [
    "np.set_printoptions(precision=2)\n",
    "np.set_printoptions(suppress=True) #suppressは禁止の意味\n",
    "u,s,vh=np.linalg.svd(diff, full_matrices=False)\n",
    "print(\"特異ベクトルからなる行列\")\n",
    "print(u)\n",
    "print(\"固有値の二乗\")\n",
    "print(s*s/4)\n",
    "print('vh')\n",
    "print(vh)"
   ]
  },
  {
   "cell_type": "markdown",
   "id": "1a6885bb",
   "metadata": {},
   "source": [
    "「スクリープロット」は、これらの分数$\\sigma_i^2/T$が急速にゼロになる様子をグラフ化したものです。大きな問題では、早く落ちた後、底が平坦になります（$\\sigma^2=0$付近）。\n",
    "この2つの部分（有意なPCと有意でないPC）の間の転換点を見つけることが重要です。\n",
    "\n",
    "また、各主成分を解釈することが目的となります。$A$の特異ベクトル$u_i$はSの固有ベクトルです。\n",
    "そのベクトルの入力が「負荷量」です。このイールドカーブの例（$Su_5=0$とする）の$u_1$から$u_5$を表示します。\n",
    "![image.png](https://qiita-image-store.s3.ap-northeast-1.amazonaws.com/0/267055/c4bf121e-7f52-e7c8-ed31-9c4d0688f2f3.png)\n",
    "\n",
    "この5つの$u$は、正規直交ベクトルです。$A$の4次元列空間と$A^T$の1次元ゼロ空間の基底となります。この5つの$u$は、どのような金融上の意味を持つのでしょうか？\n",
    "\n",
    "- $u_1$は、9つの利回りの日々の変化の加重平均を測ります。\n",
    "- $u_2$ は債券の長短のイールドスプレッドの日次変化を測ります。\n",
    "- $u_3$ は曲率の日変化（短・長債対中）を示します。\n",
    "\n",
    "つぎのグラフは、上記の$u_1,u_2,u_3$の3ヶ月から20年までの9つの負荷量を示しています。\n",
    "\n",
    "![image.png](https://qiita-image-store.s3.ap-northeast-1.amazonaws.com/0/267055/f0ef87f5-3023-6a7e-23c7-c093f3cc1c40.png)\n",
    "\n",
    "一般的なアプリケーションではさらに2つの表が含まれます。\n",
    "一つは、右特異ベクトル$v_i$を示すものです。\n",
    "$A^TA$の固有ベクトルです。\n",
    "ベクトル$A^Tu$に比例します。\n",
    "5つの成分があり、1週間の利回りと短長スプレッドの動きを示します。\n",
    " 分散 $T=1756.7$ （トレース $\\sigma_1^2+\\sigma_2^2+\\sigma_3^2+\\sigma_4^2$） は、$S$の対角成分の和でもあります。\n",
    "これらは$A$の行の標本分散でもあります。\n",
    "以下はその例です： \n",
    "\n",
    "$s_1^2+\\cdots+s_9^2=313.3+225.8+199.5+172.3+195.8+196.8+193.7+178.7+80.8$\n",
    "$    =1756.7.$\n",
    "\n",
    "すべての$s^2$は$\\sigma_1^2$以下です。また、1756.7は$A^TA/(n-1)$のトレース：列分散です。\n",
    "\n",
    " なお、この節では、$A$の中心化された行を扱っています。\n",
    "あるアプリケーション（金融など）では、通常、行列は転置され、列が中心化されます。\n",
    "そして、標本共分散行列$S$は$A^TA$を使い、$v$が重要な主成分となります。\n",
    "実用的な解釈を伴う線形代数は、私たちに多くのことを教えてくれます。"
   ]
  },
  {
   "cell_type": "code",
   "execution_count": 23,
   "id": "8773c0ca",
   "metadata": {},
   "outputs": [
    {
     "data": {
      "text/plain": [
       "array([313.3, 225.8, 199.5, 172.3, 195.8, 196.8, 193.7, 178.7,  80.8])"
      ]
     },
     "execution_count": 23,
     "metadata": {},
     "output_type": "execute_result"
    }
   ],
   "source": [
    "np.diag(S)"
   ]
  },
  {
   "cell_type": "markdown",
   "id": "3f8e327d",
   "metadata": {},
   "source": [
    "# エンコーディングとデコーディング"
   ]
  },
  {
   "cell_type": "code",
   "execution_count": 9,
   "id": "ee7dfcd6",
   "metadata": {},
   "outputs": [
    {
     "data": {
      "text/plain": [
       "array([[ 27.87,  21.09,  -5.6 ,   0.14,  -0.  ],\n",
       "       [ 24.48,  17.41,  -0.54,   0.5 ,   0.  ],\n",
       "       [ 26.07,  10.5 ,   2.64,  -1.18,   0.  ],\n",
       "       [ 25.67,  -1.14,   5.38,   0.23,  -0.  ],\n",
       "       [ 27.02,  -5.23,   5.03,   0.62,  -0.  ],\n",
       "       [ 25.46, -11.7 ,   1.37,  -0.45,  -0.  ],\n",
       "       [ 23.53, -14.58,  -2.67,   1.1 ,   0.  ],\n",
       "       [ 21.66, -15.07,  -4.11,  -1.38,  -0.  ],\n",
       "       [ 13.4 , -11.2 ,  -4.23,   0.54,   0.  ]])"
      ]
     },
     "execution_count": 9,
     "metadata": {},
     "output_type": "execute_result"
    }
   ],
   "source": [
    "scores = np.dot(u, np.diag(s))  # 主成分スコア\n",
    "scores"
   ]
  },
  {
   "cell_type": "code",
   "execution_count": 10,
   "id": "b1ff9ae1",
   "metadata": {},
   "outputs": [
    {
     "data": {
      "text/plain": [
       "array([[ 27.87,  21.09,  -5.6 ],\n",
       "       [ 24.48,  17.41,  -0.54],\n",
       "       [ 26.07,  10.5 ,   2.64],\n",
       "       [ 25.67,  -1.14,   5.38],\n",
       "       [ 27.02,  -5.23,   5.03],\n",
       "       [ 25.46, -11.7 ,   1.37],\n",
       "       [ 23.53, -14.58,  -2.67],\n",
       "       [ 21.66, -15.07,  -4.11],\n",
       "       [ 13.4 , -11.2 ,  -4.23]])"
      ]
     },
     "execution_count": 10,
     "metadata": {},
     "output_type": "execute_result"
    }
   ],
   "source": [
    "n_components = 3\n",
    "scores_reduced = scores[:, :n_components]\n",
    "scores_reduced"
   ]
  },
  {
   "cell_type": "code",
   "execution_count": 11,
   "id": "32d76ea6",
   "metadata": {},
   "outputs": [
    {
     "data": {
      "text/plain": [
       "array([[ -5.4 , -19.48, -12.31,  19.53,  17.65],\n",
       "       [ -4.58, -14.87, -12.29,  14.17,  17.58],\n",
       "       [  0.96, -13.37, -14.72,   9.54,  17.59],\n",
       "       [  9.61, -10.52, -16.26,   2.49,  14.68],\n",
       "       [ 13.42, -10.93, -17.22,   1.12,  13.62],\n",
       "       [ 18.59, -11.16, -15.68,  -0.19,   8.44],\n",
       "       [ 20.83, -11.79, -13.53,   0.3 ,   4.19],\n",
       "       [ 20.76, -11.46, -12.05,   0.44,   2.31],\n",
       "       [ 14.62,  -7.69,  -7.07,   0.35,  -0.21]])"
      ]
     },
     "execution_count": 11,
     "metadata": {},
     "output_type": "execute_result"
    }
   ],
   "source": [
    "import matplotlib.pyplot as plt\n",
    "loadings = vh.T  # 主成分負荷量\n",
    "diff_reconstructed = np.dot(scores_reduced, loadings.T[:n_components, :])\n",
    "diff_reconstructed"
   ]
  },
  {
   "cell_type": "code",
   "execution_count": 24,
   "id": "7f3e24e6",
   "metadata": {},
   "outputs": [
    {
     "data": {
      "text/plain": [
       "<matplotlib.collections.PathCollection at 0x2bfa3c1bf40>"
      ]
     },
     "execution_count": 24,
     "metadata": {},
     "output_type": "execute_result"
    },
    {
     "data": {
      "image/png": "[encoded data removed]",
      "text/plain": [
       "<Figure size 300x300 with 1 Axes>"
      ]
     },
     "metadata": {},
     "output_type": "display_data"
    }
   ],
   "source": [
    "plt.figure(figsize=(3,3))\n",
    "plt.scatter(diff,diff_reconstructed)"
   ]
  },
  {
   "cell_type": "markdown",
   "id": "a4568c9f",
   "metadata": {},
   "source": [
    "## diffの転置\n",
    "\n",
    "こちらの方法が一般のPCAであるので違いを試してみる。"
   ]
  },
  {
   "cell_type": "code",
   "execution_count": 25,
   "id": "2ff7f338",
   "metadata": {},
   "outputs": [
    {
     "data": {
      "text/html": [
       "<div>\n",
       "<style scoped>\n",
       "    .dataframe tbody tr th:only-of-type {\n",
       "        vertical-align: middle;\n",
       "    }\n",
       "\n",
       "    .dataframe tbody tr th {\n",
       "        vertical-align: top;\n",
       "    }\n",
       "\n",
       "    .dataframe thead th {\n",
       "        text-align: right;\n",
       "    }\n",
       "</style>\n",
       "<table border=\"1\" class=\"dataframe\">\n",
       "  <thead>\n",
       "    <tr style=\"text-align: right;\">\n",
       "      <th></th>\n",
       "      <th>3MO</th>\n",
       "      <th>6MO</th>\n",
       "      <th>1YR</th>\n",
       "      <th>2YR</th>\n",
       "      <th>3YR</th>\n",
       "      <th>5YR</th>\n",
       "      <th>7YR</th>\n",
       "      <th>10YR</th>\n",
       "      <th>20YR</th>\n",
       "    </tr>\n",
       "  </thead>\n",
       "  <tbody>\n",
       "    <tr>\n",
       "      <th>Jan 4</th>\n",
       "      <td>-5.4</td>\n",
       "      <td>-4.6</td>\n",
       "      <td>1.0</td>\n",
       "      <td>9.6</td>\n",
       "      <td>13.4</td>\n",
       "      <td>18.6</td>\n",
       "      <td>20.8</td>\n",
       "      <td>20.8</td>\n",
       "      <td>14.6</td>\n",
       "    </tr>\n",
       "    <tr>\n",
       "      <th>Jan 5</th>\n",
       "      <td>-19.4</td>\n",
       "      <td>-14.6</td>\n",
       "      <td>-14.0</td>\n",
       "      <td>-10.4</td>\n",
       "      <td>-10.6</td>\n",
       "      <td>-11.4</td>\n",
       "      <td>-11.2</td>\n",
       "      <td>-12.2</td>\n",
       "      <td>-7.4</td>\n",
       "    </tr>\n",
       "    <tr>\n",
       "      <th>Jan 6</th>\n",
       "      <td>-12.4</td>\n",
       "      <td>-12.6</td>\n",
       "      <td>-14.0</td>\n",
       "      <td>-16.4</td>\n",
       "      <td>-17.6</td>\n",
       "      <td>-15.4</td>\n",
       "      <td>-14.2</td>\n",
       "      <td>-11.2</td>\n",
       "      <td>-7.4</td>\n",
       "    </tr>\n",
       "    <tr>\n",
       "      <th>Jan 7</th>\n",
       "      <td>19.6</td>\n",
       "      <td>14.4</td>\n",
       "      <td>9.0</td>\n",
       "      <td>2.6</td>\n",
       "      <td>1.4</td>\n",
       "      <td>-0.4</td>\n",
       "      <td>0.8</td>\n",
       "      <td>-0.2</td>\n",
       "      <td>0.6</td>\n",
       "    </tr>\n",
       "    <tr>\n",
       "      <th>Jan 10</th>\n",
       "      <td>17.6</td>\n",
       "      <td>17.4</td>\n",
       "      <td>18.0</td>\n",
       "      <td>14.6</td>\n",
       "      <td>13.4</td>\n",
       "      <td>8.6</td>\n",
       "      <td>3.8</td>\n",
       "      <td>2.8</td>\n",
       "      <td>-0.4</td>\n",
       "    </tr>\n",
       "  </tbody>\n",
       "</table>\n",
       "</div>"
      ],
      "text/plain": [
       "         3MO   6MO   1YR   2YR   3YR   5YR   7YR  10YR  20YR\n",
       "Jan 4   -5.4  -4.6   1.0   9.6  13.4  18.6  20.8  20.8  14.6\n",
       "Jan 5  -19.4 -14.6 -14.0 -10.4 -10.6 -11.4 -11.2 -12.2  -7.4\n",
       "Jan 6  -12.4 -12.6 -14.0 -16.4 -17.6 -15.4 -14.2 -11.2  -7.4\n",
       "Jan 7   19.6  14.4   9.0   2.6   1.4  -0.4   0.8  -0.2   0.6\n",
       "Jan 10  17.6  17.4  18.0  14.6  13.4   8.6   3.8   2.8  -0.4"
      ]
     },
     "execution_count": 25,
     "metadata": {},
     "output_type": "execute_result"
    }
   ],
   "source": [
    "dif=diff.T\n",
    "dif"
   ]
  },
  {
   "cell_type": "code",
   "execution_count": 14,
   "id": "618e0bd9",
   "metadata": {},
   "outputs": [
    {
     "name": "stdout",
     "output_type": "stream",
     "text": [
      "特異ベクトルからなる行列\n",
      "[[ 0.37 -0.79  0.17  0.03 -0.45]\n",
      " [-0.52 -0.11 -0.48 -0.54 -0.45]\n",
      " [-0.56  0.08  0.32  0.61 -0.45]\n",
      " [ 0.24  0.46  0.56 -0.46 -0.45]\n",
      " [ 0.47  0.37 -0.57  0.35 -0.45]]\n",
      "固有値の二乗\n",
      "[1323.9   397.18   34.2     1.43    0.  ]\n",
      "vh\n",
      "[[ 0.38  0.34  0.36  0.35  0.37  0.35  0.32  0.3   0.18]\n",
      " [ 0.53  0.44  0.26 -0.03 -0.13 -0.29 -0.37 -0.38 -0.28]\n",
      " [ 0.48  0.05 -0.23 -0.46 -0.43 -0.12  0.23  0.35  0.36]\n",
      " [-0.06 -0.21  0.49 -0.1  -0.26  0.19 -0.46  0.58 -0.23]\n",
      " [-0.51  0.58  0.29 -0.5   0.03  0.07  0.02 -0.07  0.25]]\n"
     ]
    }
   ],
   "source": [
    "u,s,vh=np.linalg.svd(dif, full_matrices=False)\n",
    "print(\"特異ベクトルからなる行列\")\n",
    "print(u)\n",
    "print(\"固有値の二乗\")\n",
    "print(s*s/4)\n",
    "print('vh')\n",
    "print(vh)"
   ]
  },
  {
   "cell_type": "code",
   "execution_count": 15,
   "id": "4fdc6c5e",
   "metadata": {},
   "outputs": [
    {
     "data": {
      "text/plain": [
       "array([[ 27.22, -31.67,   1.96,   0.07,  -0.  ],\n",
       "       [-37.57,  -4.51,  -5.64,  -1.28,  -0.  ],\n",
       "       [-41.  ,   3.05,   3.71,   1.47,  -0.  ],\n",
       "       [ 17.18,  18.51,   6.59,  -1.1 ,  -0.  ],\n",
       "       [ 34.17,  14.62,  -6.62,   0.84,  -0.  ]])"
      ]
     },
     "execution_count": 15,
     "metadata": {},
     "output_type": "execute_result"
    }
   ],
   "source": [
    "scores = np.dot(u, np.diag(s))  # 主成分スコア\n",
    "scores"
   ]
  },
  {
   "cell_type": "code",
   "execution_count": 16,
   "id": "87020c85",
   "metadata": {},
   "outputs": [
    {
     "data": {
      "text/plain": [
       "array([[ 27.22, -31.67,   1.96],\n",
       "       [-37.57,  -4.51,  -5.64],\n",
       "       [-41.  ,   3.05,   3.71],\n",
       "       [ 17.18,  18.51,   6.59],\n",
       "       [ 34.17,  14.62,  -6.62]])"
      ]
     },
     "execution_count": 16,
     "metadata": {},
     "output_type": "execute_result"
    }
   ],
   "source": [
    "n_components = 3\n",
    "scores_reduced = scores[:, :n_components]\n",
    "scores_reduced"
   ]
  },
  {
   "cell_type": "code",
   "execution_count": 17,
   "id": "5395328c",
   "metadata": {},
   "outputs": [
    {
     "data": {
      "text/plain": [
       "array([[ -5.4 ,  -4.58,   0.96,   9.61,  13.42,  18.59,  20.83,  20.76,\n",
       "         14.62],\n",
       "       [-19.48, -14.87, -13.37, -10.52, -10.93, -11.16, -11.79, -11.46,\n",
       "         -7.69],\n",
       "       [-12.31, -12.29, -14.72, -16.26, -17.22, -15.68, -13.53, -12.05,\n",
       "         -7.07],\n",
       "       [ 19.53,  14.17,   9.54,   2.49,   1.12,  -0.19,   0.3 ,   0.44,\n",
       "          0.35],\n",
       "       [ 17.65,  17.58,  17.59,  14.68,  13.62,   8.44,   4.19,   2.31,\n",
       "         -0.21]])"
      ]
     },
     "execution_count": 17,
     "metadata": {},
     "output_type": "execute_result"
    }
   ],
   "source": [
    "import matplotlib.pyplot as plt\n",
    "loadings = vh.T  # 主成分負荷量\n",
    "dif_reconstructed = np.dot(scores_reduced, loadings.T[:n_components, :])\n",
    "dif_reconstructed"
   ]
  },
  {
   "cell_type": "code",
   "execution_count": 18,
   "id": "ee8b98e1",
   "metadata": {},
   "outputs": [
    {
     "data": {
      "text/plain": [
       "<matplotlib.collections.PathCollection at 0x2bfa2b56340>"
      ]
     },
     "execution_count": 18,
     "metadata": {},
     "output_type": "execute_result"
    },
    {
     "data": {
      "image/png": "[encoded data removed]",
      "text/plain": [
       "<Figure size 300x300 with 1 Axes>"
      ]
     },
     "metadata": {},
     "output_type": "display_data"
    }
   ],
   "source": [
    "plt.figure(figsize=(3,3))\n",
    "plt.scatter(dif,dif_reconstructed[:])"
   ]
  },
  {
   "cell_type": "markdown",
   "id": "67fe7087",
   "metadata": {},
   "source": [
    "# statsmodelsのPCAの使用"
   ]
  },
  {
   "cell_type": "code",
   "execution_count": 19,
   "id": "66ba2066",
   "metadata": {},
   "outputs": [
    {
     "data": {
      "text/html": [
       "<div>\n",
       "<style scoped>\n",
       "    .dataframe tbody tr th:only-of-type {\n",
       "        vertical-align: middle;\n",
       "    }\n",
       "\n",
       "    .dataframe tbody tr th {\n",
       "        vertical-align: top;\n",
       "    }\n",
       "\n",
       "    .dataframe thead th {\n",
       "        text-align: right;\n",
       "    }\n",
       "</style>\n",
       "<table border=\"1\" class=\"dataframe\">\n",
       "  <thead>\n",
       "    <tr style=\"text-align: right;\">\n",
       "      <th></th>\n",
       "      <th>comp_0</th>\n",
       "      <th>comp_1</th>\n",
       "      <th>comp_2</th>\n",
       "    </tr>\n",
       "  </thead>\n",
       "  <tbody>\n",
       "    <tr>\n",
       "      <th>Jan 4</th>\n",
       "      <td>27.217829</td>\n",
       "      <td>-31.666919</td>\n",
       "      <td>1.957259</td>\n",
       "    </tr>\n",
       "    <tr>\n",
       "      <th>Jan 5</th>\n",
       "      <td>-37.566297</td>\n",
       "      <td>-4.510885</td>\n",
       "      <td>-5.640920</td>\n",
       "    </tr>\n",
       "    <tr>\n",
       "      <th>Jan 6</th>\n",
       "      <td>-41.000072</td>\n",
       "      <td>3.050447</td>\n",
       "      <td>3.712362</td>\n",
       "    </tr>\n",
       "    <tr>\n",
       "      <th>Jan 7</th>\n",
       "      <td>17.182591</td>\n",
       "      <td>18.507036</td>\n",
       "      <td>6.594282</td>\n",
       "    </tr>\n",
       "    <tr>\n",
       "      <th>Jan 10</th>\n",
       "      <td>34.165950</td>\n",
       "      <td>14.620322</td>\n",
       "      <td>-6.622984</td>\n",
       "    </tr>\n",
       "  </tbody>\n",
       "</table>\n",
       "</div>"
      ],
      "text/plain": [
       "           comp_0     comp_1    comp_2\n",
       "Jan 4   27.217829 -31.666919  1.957259\n",
       "Jan 5  -37.566297  -4.510885 -5.640920\n",
       "Jan 6  -41.000072   3.050447  3.712362\n",
       "Jan 7   17.182591  18.507036  6.594282\n",
       "Jan 10  34.165950  14.620322 -6.622984"
      ]
     },
     "execution_count": 19,
     "metadata": {},
     "output_type": "execute_result"
    }
   ],
   "source": [
    "from statsmodels.multivariate.pca import PCA\n",
    "pc = PCA(dif, ncomp=3, method='nipals',standardize=False, demean=False, normalize=False)\n",
    "pc.factors"
   ]
  },
  {
   "cell_type": "code",
   "execution_count": 20,
   "id": "3962f091",
   "metadata": {},
   "outputs": [
    {
     "data": {
      "text/html": [
       "<div>\n",
       "<style scoped>\n",
       "    .dataframe tbody tr th:only-of-type {\n",
       "        vertical-align: middle;\n",
       "    }\n",
       "\n",
       "    .dataframe tbody tr th {\n",
       "        vertical-align: top;\n",
       "    }\n",
       "\n",
       "    .dataframe thead th {\n",
       "        text-align: right;\n",
       "    }\n",
       "</style>\n",
       "<table border=\"1\" class=\"dataframe\">\n",
       "  <thead>\n",
       "    <tr style=\"text-align: right;\">\n",
       "      <th></th>\n",
       "      <th>comp_0</th>\n",
       "      <th>comp_1</th>\n",
       "      <th>comp_2</th>\n",
       "      <th>comp_3</th>\n",
       "      <th>comp_4</th>\n",
       "    </tr>\n",
       "  </thead>\n",
       "  <tbody>\n",
       "    <tr>\n",
       "      <th>3MO</th>\n",
       "      <td>27.872565</td>\n",
       "      <td>-21.093108</td>\n",
       "      <td>5.601785</td>\n",
       "      <td>-0.144571</td>\n",
       "      <td>27.521661</td>\n",
       "    </tr>\n",
       "    <tr>\n",
       "      <th>6MO</th>\n",
       "      <td>24.484854</td>\n",
       "      <td>-17.411183</td>\n",
       "      <td>0.538336</td>\n",
       "      <td>-0.502798</td>\n",
       "      <td>24.304668</td>\n",
       "    </tr>\n",
       "    <tr>\n",
       "      <th>1YR</th>\n",
       "      <td>26.065072</td>\n",
       "      <td>-10.499816</td>\n",
       "      <td>-2.642771</td>\n",
       "      <td>1.175438</td>\n",
       "      <td>25.870166</td>\n",
       "    </tr>\n",
       "    <tr>\n",
       "      <th>2YR</th>\n",
       "      <td>25.667963</td>\n",
       "      <td>1.142575</td>\n",
       "      <td>-5.384874</td>\n",
       "      <td>-0.230944</td>\n",
       "      <td>25.385769</td>\n",
       "    </tr>\n",
       "    <tr>\n",
       "      <th>3YR</th>\n",
       "      <td>27.021841</td>\n",
       "      <td>5.228150</td>\n",
       "      <td>-5.030427</td>\n",
       "      <td>-0.617539</td>\n",
       "      <td>26.639519</td>\n",
       "    </tr>\n",
       "    <tr>\n",
       "      <th>5YR</th>\n",
       "      <td>25.461606</td>\n",
       "      <td>11.696973</td>\n",
       "      <td>-1.372705</td>\n",
       "      <td>0.450667</td>\n",
       "      <td>24.891529</td>\n",
       "    </tr>\n",
       "    <tr>\n",
       "      <th>7YR</th>\n",
       "      <td>23.534852</td>\n",
       "      <td>14.579108</td>\n",
       "      <td>2.674726</td>\n",
       "      <td>-1.098273</td>\n",
       "      <td>22.807959</td>\n",
       "    </tr>\n",
       "    <tr>\n",
       "      <th>10YR</th>\n",
       "      <td>21.655219</td>\n",
       "      <td>15.067462</td>\n",
       "      <td>4.111770</td>\n",
       "      <td>1.384346</td>\n",
       "      <td>20.921127</td>\n",
       "    </tr>\n",
       "    <tr>\n",
       "      <th>20YR</th>\n",
       "      <td>13.403920</td>\n",
       "      <td>11.196409</td>\n",
       "      <td>4.228443</td>\n",
       "      <td>-0.543710</td>\n",
       "      <td>12.855316</td>\n",
       "    </tr>\n",
       "  </tbody>\n",
       "</table>\n",
       "</div>"
      ],
      "text/plain": [
       "         comp_0     comp_1    comp_2    comp_3     comp_4\n",
       "3MO   27.872565 -21.093108  5.601785 -0.144571  27.521661\n",
       "6MO   24.484854 -17.411183  0.538336 -0.502798  24.304668\n",
       "1YR   26.065072 -10.499816 -2.642771  1.175438  25.870166\n",
       "2YR   25.667963   1.142575 -5.384874 -0.230944  25.385769\n",
       "3YR   27.021841   5.228150 -5.030427 -0.617539  26.639519\n",
       "5YR   25.461606  11.696973 -1.372705  0.450667  24.891529\n",
       "7YR   23.534852  14.579108  2.674726 -1.098273  22.807959\n",
       "10YR  21.655219  15.067462  4.111770  1.384346  20.921127\n",
       "20YR  13.403920  11.196409  4.228443 -0.543710  12.855316"
      ]
     },
     "execution_count": 20,
     "metadata": {},
     "output_type": "execute_result"
    }
   ],
   "source": [
    "from statsmodels.multivariate.pca import PCA\n",
    "pc = PCA(diff, ncomp=5, method='nipals',standardize=False, demean=False, normalize=False)\n",
    "pc.factors"
   ]
  },
  {
   "cell_type": "markdown",
   "id": "bb311814",
   "metadata": {},
   "source": [
    "svdで行ったPCAと結果が同じになるのが分かります。\n"
   ]
  },
  {
   "cell_type": "markdown",
   "id": "8efef578",
   "metadata": {},
   "source": [
    "$A$の「主成分」とは、行列$U$と$V$の直交列$u_j$と$v_j$のことでそれらは特異ベクトルです。本節では、特異値分解 $A=U\\Sigma V^T$ を適用します。主成分分析(PCA)は、最初の$u$と$v$に結びつく最大の$\\sigma$を使用して、データの行列に含まれる情報を理解します。\n",
    "\n",
    " 行列$A$が与えられ、その最も重要な部分である$A_k$（最大の$\\Sigma$の部分）を抽出します：\n",
    "\n",
    "![image.png](https://qiita-image-store.s3.ap-northeast-1.amazonaws.com/0/267055/6d650a66-951b-6bce-93bb-dc91dda6fb6d.png)\n",
    "\n",
    "\n",
    "$A_k$は行列の最適化問題を解くので、まずはそこから始めます。$A$に最も近いランク$k$の行列は$A_k$です。統計学では、$A$のうち、分散が最も大きいランク1の部分を特定することになります。\n",
    "このことから、SVDはデータサイエンスの中心に位置づけられます。\n",
    "\n",
    "この世界では、PCAは「教師なし」学習なのです。SVDは$A_k$を選択するよう指示します。教師ありの学習では、大きな学習データセットが必要です。\n",
    "ディープラーニングは、そのデータの大部分を正しく分類するための（非線形！）関数$F$の構築に用います。そして、データ学習といわれる方法を使用するとき、この$F$を新しいデータに適用するのです。\n",
    "\n",
    "主成分分析の$A_k$による行列近似法に基づく証明は、Schmidt(1907)によって始められました。彼は関数空間の演算子について書いています； 彼の考えはそのまま行列に拡張されます。Eckart と Young は新しい証明の$A-A_k$ を測るのにフロベニウス規範を使っています。そして、Mirsky は、以下の定義 (2), (3), (4) のように特異値のみに依存するノルム$||A||$について考えました。\n",
    "\n",
    "ここで、特殊なランク$k$行列の重要な性質は次の通りです。\n",
    "\n",
    "$A_k=\\sigma_1u_1v_1^T+\\cdots+\\sigma_ku_kv_k^T$:\n",
    "\n",
    "$B$がランク$k$で$||A-A_k||\\le ||A-B||$であれば、$A$に最も近い$A_k$です。\n",
    "\n",
    "\n",
    "行列ノルム$||A||$の3つの選択肢には特別な重要性があり、独自の名前がついています：\n",
    "\n",
    "![image.png](https://qiita-image-store.s3.ap-northeast-1.amazonaws.com/0/267055/03fda056-9a60-1207-3b96-370033ca2f58.png)\n",
    "これらの規範は、$n$×$n$の恒等式行列に対して、すでに異なる値を持っています：\n",
    "\n",
    "$||I||_2=1 ||I||_F=\\sqrt{n}. ||I||_N=n. \\text{  } (5)$\n",
    "\n",
    "$I$を任意の直交行列$Q$に置き換えても、ノルムは変わりません（すべて$\\sigma_i=1$だからです）：\n",
    "\n",
    "$||Q||_2=1 \\text{  } ||Q||_F=\\sqrt{n} \\text{  } ||Q||_N=n \\text{  } (6)$ \n",
    "\n",
    "となります。これより、$A$に直交行列を（両側から）掛けても、任意の行列のスペクトルノルム、フロベニウスノルム、核ノルムは変わりません。つまり、$A=U\\Sigma V^T$のノルムは、$U$と$V$が直交行列なので、$\\Sigma:||A||=||\\Sigma||$のノルムと等しくなります。\n",
    "\n",
    "# 行列のノルム\n",
    "\n",
    "ベクトルや行列の大きさを測定する方法が必要です。ベクトルでは、最も重要なノルムは通常の長さ$||v||$です。行列の場合、フロベニウスは二乗和の考え方を拡張し、$A$のすべての入力を含むようにしました。このノルム $||A||_F$ は ヒルベルト・シュミット とも呼ばれます。\n",
    "\n",
    "![image.png](https://qiita-image-store.s3.ap-northeast-1.amazonaws.com/0/267055/37d026ed-def9-4c99-e81f-52c42fcab60d.png)\n",
    "\n",
    "明らかに$||v||\\ge 0$と$||cv||=|c|\\text{ }||v||$です。同様に $||A||_F \\ge 0$ と $||cA||_F$ です。同様に欠かせないのが、$v+w$と$A+B$の三角不等式です。\n",
    "\n",
    "三角不等式 $||v+w||\\le ||v||+||w||$と$||A+B||_F\\le ||A||_F+||B||_F (8)$\n",
    "\n",
    "\n",
    "ドット積 $v^Tw$ や行列積 $AB$ に出会ったとき、もう一つの事実を使います。\n",
    "\n",
    "シュワルツの不等式　$|v^Tw|\\le ||v|| ||w|| $と$||AB||_F\\le ||A||_F||B||_F   (9)$\n",
    "\n",
    "\n",
    "そのフロベニウス行列の不等式は、シュワルツのベクトルの不等式から直接来ています：\n",
    "\n",
    "$|(AB)_{ij}|^2\\le || Aのi列||^2||Bのj列||^2$ 全$i,j$を加えると$||AB||_F^2$\n",
    "\n",
    "これは、行列のドットプロダクトが存在する可能性を示唆しています。それは $A \\dot B=\\text{trace}(A^TB)$ です。\n",
    "\n",
    "注：$A$の固有値の最大の$|\\lambda|$は受け入れ可能なノルムではありません！\n",
    "非ゼロ行列は、すべてゼロとなる固有値を持つ可能性がありますが、ノルム $||A||$ がゼロであることはありえないことがわかっています。この点で、特異値は固有値より優れています： $\\sigma_1=||A||_2$.\n",
    "\n",
    "# エカート・ヤング定理（Eckart-Young Theorem)\n",
    "\n",
    "定理は式(1)にある:Bがランク$k$なら$||A-A_k||\\le ||A-B||$となります。\n",
    "3つの規範$||A||$と$||A||_F$と$||A||_N$では、$k$項以降のSVDを切ることで$A$に最も近づくことができます。最も近い行列は$A_k=\\sigma_1u_1v_1^T+\\cdots+\\sigma_ku_kv_k^T$です。\n",
    "これは、$A$を低ランクの行列で近似する際に使う事実です！\n",
    "\n",
    "対角行列$A$という極めて単純な例題をここで使ってみましょう。\n",
    "\n",
    "```math\n",
    "A=\\left[\\begin{array}{c,c,c,c}\n",
    "                      4,0,0,0\\\\\n",
    "                      0,3,0,0\\\\ \n",
    "                      0,0,2,0\\\\\n",
    "                      0,0,0,1\n",
    "\\end{array}\\right]\n",
    "```\n",
    "に最も近いランク２の行列は\n",
    "```math\n",
    "A_2=\\left[\\begin{array}{c,c,c,c}\n",
    "                      4,0,0,0\\\\\n",
    "                      0,3,0,0\\\\ \n",
    "                      0,0,0,0\\\\\n",
    "                      0,0,0,0\n",
    "\\end{array}\\right]\n",
    "```\n",
    "です。差分$A-A_2$は、2と1を除いてすべて0です。そのとき $||A-A_2||_F=\\sqrt{2^2+1^2}$.この$A_2$より$A$に近いランク2の行列が他にあるでしょうか。\n",
    "\n",
    "この単純な例には、$Q_1Q_2$の形の行列がすべて含まれていることに注意してください。\n",
    "直交行列 $Q_1$,$Q_2$ によって、ノルムやランクが変わることはありません。\n",
    "\n",
    "つまり、この例では特異値4,3,2,1を持つすべての行列が含まれます。最良の近似値$A_2$は4と3を保っています。いくつかの証明はLinear Algebra and learning from Data (Wellesley-Cambridge Press)にまとめられています。Chi-Kwong Liは$A_k$が$A$に最も近いというMirskyの証明を$||A||_2$ や$||A||_F$のように$\\sigma$にのみ依存するすべての規範に対してして単純化しています。\n",
    "\n",
    "# 主成分分析\n",
    "\n",
    "では、SVDの使い方を説明します。行列$A$にはデータがいっぱい入っています。サンプルは$n$個あります。各サンプルに対して、$m$個の変数（身長や体重など）を測定しています。データ行列 $A_0$ は $n$列、$m$行です。多くのアプリケーションでは、これは非常に大きな行列です。\n",
    "\n",
    "まず、$A_0$の各行に沿った平均（標本平均）を求めます。その平均を、その行のすべての $m$ 個の入力から引きます。ここで、中心化された行列$A$ の各行は、平均がゼロです。$A$の列には$R^m$の$n$個の点があります。中央揃えなので、$n$個の列ベクトルの和は0になります。つまり、平均的な列はゼロベクトルです。\n",
    "\n",
    "これらの $n$ 点は、直線や平面などの低次元空間に集まっていることが多くなります。$R^m$の部分空間の近くに集まっていることが多くなります。図7.4は、$R^2$の線上に集まった典型的なデータ点の集合を示しています。($A_0$を中心にして左右上下にずらした後、$A$の平均は(0,0)になります)。\n",
    "\n",
    "線形代数は、(0,0)を通る最も近い直線をどのように求めるかということです。それは$A$の第一特異ベクトル$u_1$の方向です。これがPCAの重要なポイントです！\n",
    "\n",
    "![image.png](https://qiita-image-store.s3.ap-northeast-1.amazonaws.com/0/267055/3d79299c-ea3e-62fb-422c-0fbb643cf400.png)\n",
    "\n",
    "図7.4：データ点（の列）は、$R^2$の直線や$R^m$の部分空間の近くにあることが多い。\n",
    "\n",
    "$A$は2×n（大きな零空間）\n",
    "\n",
    "$AA^T$は2×2(小さな行列)\n",
    "\n",
    "$A^TA$はn×n(大きな行列)\n",
    "\n",
    "2つの特異値： $\\sigma_1>\\sigma_2>0$\n",
    "\n",
    "\n",
    "# PCAを支える幾何学\n",
    "\n",
    "図7.4の最良の直線は、垂直最小二乗法の問題の解として得ます。これは直交回帰とも呼ばれます。これは、標準的な最小二乗法による $n$ データ点の適合や、線形システム $Ax=b$ の最小二乗法の解とは異なります。この古典的な問題は、$||Ax-b||^2$を最小化します。これは、最良の線に対する上下の距離を測定するものです。今回の問題は、垂直方向の距離を最小化するものです。線形回帰の問題では、最適な$A^TA\\hat{x}=A^Tb$の一次方程式が導かれました。今回の問題では、特異ベクトル$u_i$（$AA^T$Tの固有ベクトル）が導かれます。これは線形代数の2つの側面であり、同じ側面ではありません。\n",
    "\n",
    "データ点から $u_1$ 線までの距離の二乗和は最小になります。\n",
    "\n",
    "これを見るには、$A$の各列$a_j$を$u_1$と$u_2$に沿った成分に分離します：\n",
    "\n",
    "![image.png](https://qiita-image-store.s3.ap-northeast-1.amazonaws.com/0/267055/46a718e5-0938-f6c1-35b7-102e15926aec.png)\n",
    "\n",
    "左の和は、データによって固定されています。右側の最初の和は、項 $u_1^Ta_ja_j^Tu_1$ を持ちます。これは$u_1^T(AA^T)u_1$に加算されます。そこで、PCAでその和を最大化するために、一番上の固有ベクトルを選び$AA^T$の固有ベクトル$u_1$を選び、2番目の和を最大化するのです。データ点から最良の直線（または最良の部分空間）までの距離の二乗和は、可能な限り小さくなるのです。\n",
    "\n",
    "# エッカート・ヤングの幾何学的な意味\n",
    "\n",
    "図7.4は2次元で、最も近い線になります。さて、データ行列$A_0$が3×$n$だとします： $n$個のサンプルについて、年齢、身長、体重のような3つの測定値があります。ここでも行列の各行を中央揃えにして、$A$のすべての行の足し算が0になるようにします。そして、点は3次元に移動します。\n",
    "\n",
    "まだ、一番近い線を探すことができます。それは$A$の第一特異ベクトル$u_1$によって明らかになります。一番いい線は(0,0,0)を通るでしょう。しかし、図7.4と比べてデータ点が扇状に広がっている場合は、本当に最良の平面を探す必要があります。「最良」の意味は、やはりこれです：最良の平面に対する垂直距離の二乗の和が最小になるということです。\n",
    "\n",
    "その平面は特異ベクトル$u_1$と$u_2$を張ったものです。これがEckart-Youngの意味です。\n",
    "すっきりした結論です： 最良の平面には最良の線が含まれます。\n",
    "\n",
    "# PCAを支える統計学\n",
    "\n",
    "確率・統計学で重要な数値は「平均」と「分散」です。「平均」とは、データ（$A_0$の各行）の平均値です。$A_0$の各行からその平均値を引くと、中央の$A$になります。重要な数値は「分散」と「共分散」です。分散は、$A$の各行に沿った平均からの距離の二乗和です。\n",
    "\n",
    "分散は、行列$AA^T$の入力の対角成分です。\n",
    "\n",
    "$A$の列が、x軸は子供の年齢、y軸は身長に対応しているとします。(これらの年齢と身長は、平均年齢と平均身長から測定されたものです)。私たちは、図のデータポイントに最も近い直線を探します。\n",
    "そして、データの年齢と身長の同時分布を考えます。\n",
    "\n",
    "共分散は、行列$AA^T$の入力の対角化成分以外の成分です。\n",
    "\n",
    "これはドットプロダクト（$A$の$i$行）・（$A$の$j$行）です。共分散が大きいということは、身長が伸びれば年齢が上がるということです。負の共分散では、一方の変数が増えれば他方の変数が減るということです）。最初の例では、年齢と身長の2行しかありません：対称行列$AA^T$は2×2です。\n",
    "\n",
    "![image.png](https://qiita-image-store.s3.ap-northeast-1.amazonaws.com/0/267055/16c5c1ff-268b-1fe0-b338-4dc00ffeb79d.png)\n",
    "\n",
    "平均$=0$の計算ですでに自由度が１つ使われているので、係数は$n-1$です。年齢と身長が6つあるこの例では、各行の和が0になるようにすでに中央揃えされています：\n",
    "\n",
    "![image.png](https://qiita-image-store.s3.ap-northeast-1.amazonaws.com/0/267055/132dffc4-9e5b-8ad0-8afd-801e488cca24.png)\n",
    "\n",
    "このデータでは、標本共分散行列$S$は簡単に計算できます。これは正定値です。\n",
    "\n",
    "![image.png](https://qiita-image-store.s3.ap-northeast-1.amazonaws.com/0/267055/b7dfb314-bca4-8483-5e60-571594747f13.png)\n",
    "\n",
    "$S$の直交する2つの固有ベクトルは$u_1$と$u_2$です。それらは$A$の左特異ベクトルです。しばしば主成分と呼ばれます。エッカート・ヤングの定理により、ベクトル$u_1$は図7.4の最も近い直線に沿うように指し示します。\n",
    "\n",
    "第二特異ベクトル$u_2$は、その最も近い直線に垂直になります。\n",
    "\n",
    "重要事項: PCAは、対称な$S=AA^T/(n一1)$でも長方形の$A$でも使うことができるということです。\n",
    "間違いなく$S$の方がいい行列です。\n",
    "しかし、$A$のデータを考えると、$S$を計算するのは計算ミスであることがあります。大きな行列の場合、$A$を直接使う方がSVDは速く、正確です。$AA^T$にすることで、$\\sigma_1$と$\\sigma_r$、条件数$\\sigma_1/\\sigma_r$を平方します。\n",
    "\n",
    "例では、$S$は57と3付近に固有値があります。それらの和は$S$のトレースである20十40=60となります。1番目のランク1の部分$\\sqrt{57}u_1v_1^T$は、2番目の部分$\\sqrt{3}u_2v_2^T$よりずっと大きくなります。先頭の固有ベクトル $u_1 \\sim (0.6,0.8)$ から、散布図で一番近い線は8/6付近の傾きを持っています。グラフの方向は、ほぼ6ー8ー10の直角三角形になります。\n",
    "\n",
    "```Python\n",
    "import numpy as np\n",
    "from scipy import linalg\n",
    "\n",
    "A=np.array([[3, -4, 7, 1,-4,-3],\n",
    "              [7, -6, 8, -1,-1,-7]])\n",
    "A\n",
    "```\n",
    "![image.png](https://qiita-image-store.s3.ap-northeast-1.amazonaws.com/0/267055/9041a59a-b675-04e7-1f00-5d377a964b11.png)\n",
    "\n",
    "```Python\n",
    "S=A@A.T/5\n",
    "S\n",
    "```\n",
    "![image.png](https://qiita-image-store.s3.ap-northeast-1.amazonaws.com/0/267055/e27fd7be-fded-ba84-e387-d329a33a9e30.png)\n",
    "\n",
    "\n",
    "\n",
    "# PCAを支える線型代数学\n",
    "\n",
    "主成分分析は、$m$次元空間の$n$個の標本点$a_1,\\cdots,a_n$データを理解するためのものです。このデータのプロットは、$A$のすべての行がゼロになるように中心を定めています。線形代数との関係は、特異値と左特異点にあります。$A$の特異値と左特異ベクトル$u_i$にあります。\n",
    "これらは、$A$の固有値$\\lambda_i=\\sigma_i^2$と、$A$の固有ベクトルに由来します。\n",
    "サンプル共分散行列 $S=AA^T/(nー1)$の固有ベクトルです。\n",
    "\n",
    "データの全分散は$A$のフロベニウスノルムの2乗に由来します：\n",
    "\n",
    "![image.png](https://qiita-image-store.s3.ap-northeast-1.amazonaws.com/0/267055/74a83515-beff-45a1-f12b-526d3f6e7617.png)\n",
    "\n",
    "これは$S$のトレース（対角線上の和）です。線形代数では、トレースは標本共分散行列$S$の固有値の和に等しいことがわかります。\n",
    "\n",
    "SVDは、データを相関のない（共分散がゼロの）断片に分離する特異ベクトル$u_i$を生成しています。これらは分散の小さい順に並んでおり、最初の部分から知るべきことがわかります。\n",
    "\n",
    "$S$のトレースは、全分散を主成分の分散の和に結びつけます。$u_1,u_2 \\cdots,u_r$の主成分の分散の総和につながります.\n",
    "\n",
    "![image.png](https://qiita-image-store.s3.ap-northeast-1.amazonaws.com/0/267055/86feed47-875c-186c-4ac4-029688efa30b.png)\n",
    "\n",
    "第一主成分$u_1$は、全分散の何分の一かの$\\sigma_1^2/T$を占めます（あるいは「説明します」）。\n",
    "次の特異ベクトル$u_2$は、次に大きな分散$\\sigma_2^2/T$を説明します。\n",
    "それぞれの特異ベクトルは、行列の意味をとらえようと最善を尽くしており、それがすべて成功しています。\n",
    "\n",
    "エッカート・ヤング定理のポイントは、$k$個の特異ベクトルが（一緒に作用して）他の$k$個のベクトルセットよりもデータの多くを説明する、ということです。だから、$u_1$から$u_k$を、$n$データ点に最も近い$k$次元部分空間の基底として選ぶことが正当化されるのです。\n",
    "\n",
    "$A$と$S$の「実効ランク」は、その点より上の特異値の数です。ノイズがデータ中の真のシグナルをかき消す場所です。この点は、特異値（またはその二乗$\\sigma^2$）の落差を示す「スクリープロット」上に現れることが多くなります。スクリープロット（図7.2）で、信号が終わり、ノイズが引き継ぐ「エルボー」を探してみてください。\n",
    "\n",
    "```Python\n",
    "u, s, vh = np.linalg.svd(S, full_matrices=True)\n",
    "u,s,vh,np.sqrt(s*5)\n",
    "```\n",
    "![image.png](https://qiita-image-store.s3.ap-northeast-1.amazonaws.com/0/267055/dc500717-69c2-07ad-5d5a-9e867513cadf.png)\n",
    "\n",
    "\n",
    "```Python\n",
    "u, s, vh = np.linalg.svd(A, full_matrices=False)\n",
    "u,s,vh\n",
    "```\n",
    "![image.png](https://qiita-image-store.s3.ap-northeast-1.amazonaws.com/0/267055/a3557e47-2018-7a14-8e41-738ad003cb40.png)\n",
    "\n",
    "```Python\n",
    "s,u=np.linalg.eig(S)\n",
    "s,u,np.sqrt(s*5)\n",
    "```\n",
    "![image.png](https://qiita-image-store.s3.ap-northeast-1.amazonaws.com/0/267055/269432f2-8703-5c02-5f99-3ca1930292ac.png)\n"
   ]
  },
  {
   "cell_type": "code",
   "execution_count": null,
   "id": "77a7ba1c",
   "metadata": {},
   "outputs": [],
   "source": []
  }
 ],
 "metadata": {
  "kernelspec": {
   "display_name": "Python 3 (ipykernel)",
   "language": "python",
   "name": "python3"
  },
  "language_info": {
   "codemirror_mode": {
    "name": "ipython",
    "version": 3
   },
   "file_extension": ".py",
   "mimetype": "text/x-python",
   "name": "python",
   "nbconvert_exporter": "python",
   "pygments_lexer": "ipython3",
   "version": "3.9.13"
  }
 },
 "nbformat": 4,
 "nbformat_minor": 5
}
